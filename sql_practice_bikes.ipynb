{
 "cells": [
  {
   "cell_type": "code",
   "execution_count": null,
   "metadata": {
    "colab": {
     "base_uri": "https://localhost:8080/",
     "height": 122
    },
    "colab_type": "code",
    "executionInfo": {
     "elapsed": 21010,
     "status": "ok",
     "timestamp": 1593966501757,
     "user": {
      "displayName": "Chris Frease",
      "photoUrl": "",
      "userId": "02139911760055165379"
     },
     "user_tz": 300
    },
    "id": "1eP_IjunWA2F",
    "outputId": "b6db965d-0f2b-4d81-9ac8-b724f177e48b"
   },
   "outputs": [
    {
     "name": "stdout",
     "output_type": "stream",
     "text": [
      "Go to this URL in a browser: https://accounts.google.com/o/oauth2/auth?client_id=947318989803-6bn6qk8qdgf4n4g3pfee6491hc0brc4i.apps.googleusercontent.com&redirect_uri=urn%3aietf%3awg%3aoauth%3a2.0%3aoob&response_type=code&scope=email%20https%3a%2f%2fwww.googleapis.com%2fauth%2fdocs.test%20https%3a%2f%2fwww.googleapis.com%2fauth%2fdrive%20https%3a%2f%2fwww.googleapis.com%2fauth%2fdrive.photos.readonly%20https%3a%2f%2fwww.googleapis.com%2fauth%2fpeopleapi.readonly\n",
      "\n",
      "Enter your authorization code:\n",
      "··········\n",
      "Mounted at /content/gdrive\n"
     ]
    }
   ],
   "source": [
    "from google.colab import drive\n",
    "drive.mount('/content/gdrive')"
   ]
  },
  {
   "cell_type": "code",
   "execution_count": 1,
   "metadata": {
    "colab": {},
    "colab_type": "code",
    "id": "WzEnXB1BS-Rl"
   },
   "outputs": [],
   "source": [
    "import sqlite3\n",
    "import pandas as pd\n",
    "\n",
    "db = sqlite3.connect(\"/Users/awesome/Downloads/Python/SQL/Databases/hubway.db\")\n",
    "\n",
    "def run_query(query):\n",
    "    return pd.read_sql_query(query, db)"
   ]
  },
  {
   "cell_type": "code",
   "execution_count": 2,
   "metadata": {
    "colab": {
     "base_uri": "https://localhost:8080/",
     "height": 111
    },
    "colab_type": "code",
    "executionInfo": {
     "elapsed": 256,
     "status": "ok",
     "timestamp": 1593912545373,
     "user": {
      "displayName": "Chris Frease",
      "photoUrl": "",
      "userId": "02139911760055165379"
     },
     "user_tz": 300
    },
    "id": "jroO5ilLTF5v",
    "outputId": "5f8fbe30-2648-45f6-aceb-9f9062c7996f"
   },
   "outputs": [
    {
     "data": {
      "text/html": [
       "<div>\n",
       "<style scoped>\n",
       "    .dataframe tbody tr th:only-of-type {\n",
       "        vertical-align: middle;\n",
       "    }\n",
       "\n",
       "    .dataframe tbody tr th {\n",
       "        vertical-align: top;\n",
       "    }\n",
       "\n",
       "    .dataframe thead th {\n",
       "        text-align: right;\n",
       "    }\n",
       "</style>\n",
       "<table border=\"1\" class=\"dataframe\">\n",
       "  <thead>\n",
       "    <tr style=\"text-align: right;\">\n",
       "      <th></th>\n",
       "      <th>type</th>\n",
       "      <th>name</th>\n",
       "      <th>tbl_name</th>\n",
       "      <th>rootpage</th>\n",
       "      <th>sql</th>\n",
       "    </tr>\n",
       "  </thead>\n",
       "  <tbody>\n",
       "    <tr>\n",
       "      <th>0</th>\n",
       "      <td>table</td>\n",
       "      <td>trips</td>\n",
       "      <td>trips</td>\n",
       "      <td>2</td>\n",
       "      <td>CREATE TABLE trips (id INTEGER, duration INTEG...</td>\n",
       "    </tr>\n",
       "    <tr>\n",
       "      <th>1</th>\n",
       "      <td>table</td>\n",
       "      <td>stations</td>\n",
       "      <td>stations</td>\n",
       "      <td>33340</td>\n",
       "      <td>CREATE TABLE stations (id INTEGER, station TEX...</td>\n",
       "    </tr>\n",
       "  </tbody>\n",
       "</table>\n",
       "</div>"
      ],
      "text/plain": [
       "    type      name  tbl_name  rootpage  \\\n",
       "0  table     trips     trips         2   \n",
       "1  table  stations  stations     33340   \n",
       "\n",
       "                                                 sql  \n",
       "0  CREATE TABLE trips (id INTEGER, duration INTEG...  \n",
       "1  CREATE TABLE stations (id INTEGER, station TEX...  "
      ]
     },
     "execution_count": 2,
     "metadata": {},
     "output_type": "execute_result"
    }
   ],
   "source": [
    "query = 'select * from sqlite_master;'\n",
    "run_query(query)"
   ]
  },
  {
   "cell_type": "code",
   "execution_count": null,
   "metadata": {
    "colab": {
     "base_uri": "https://localhost:8080/",
     "height": 35
    },
    "colab_type": "code",
    "executionInfo": {
     "elapsed": 6530,
     "status": "ok",
     "timestamp": 1593817847124,
     "user": {
      "displayName": "Chris Frease",
      "photoUrl": "",
      "userId": "02139911760055165379"
     },
     "user_tz": 300
    },
    "id": "Ej4MeE38g-cj",
    "outputId": "e1a3098c-1049-4b62-bffc-4e293c6b2b9b"
   },
   "outputs": [
    {
     "name": "stdout",
     "output_type": "stream",
     "text": [
      "['id', 'duration', 'start_date', 'start_station', 'end_date', 'end_station', 'bike_number', 'sub_type', 'zip_code', 'birth_date', 'gender']\n"
     ]
    }
   ],
   "source": [
    "db.row_factory = sqlite3.Row\n",
    "cur = db.cursor()\n",
    "cur.execute('SELECT * FROM trips')\n",
    "c = cur.fetchone()\n",
    "print(c.keys())"
   ]
  },
  {
   "cell_type": "code",
   "execution_count": null,
   "metadata": {
    "colab": {
     "base_uri": "https://localhost:8080/",
     "height": 390
    },
    "colab_type": "code",
    "executionInfo": {
     "elapsed": 1872,
     "status": "ok",
     "timestamp": 1593817851625,
     "user": {
      "displayName": "Chris Frease",
      "photoUrl": "",
      "userId": "02139911760055165379"
     },
     "user_tz": 300
    },
    "id": "gzdbeFaFaC5Y",
    "outputId": "f71ea693-a0ad-4da9-bbdd-62a9cbf0ea42"
   },
   "outputs": [
    {
     "data": {
      "text/html": [
       "<div>\n",
       "<style scoped>\n",
       "    .dataframe tbody tr th:only-of-type {\n",
       "        vertical-align: middle;\n",
       "    }\n",
       "\n",
       "    .dataframe tbody tr th {\n",
       "        vertical-align: top;\n",
       "    }\n",
       "\n",
       "    .dataframe thead th {\n",
       "        text-align: right;\n",
       "    }\n",
       "</style>\n",
       "<table border=\"1\" class=\"dataframe\">\n",
       "  <thead>\n",
       "    <tr style=\"text-align: right;\">\n",
       "      <th></th>\n",
       "      <th>cid</th>\n",
       "      <th>name</th>\n",
       "      <th>type</th>\n",
       "      <th>notnull</th>\n",
       "      <th>dflt_value</th>\n",
       "      <th>pk</th>\n",
       "    </tr>\n",
       "  </thead>\n",
       "  <tbody>\n",
       "    <tr>\n",
       "      <th>0</th>\n",
       "      <td>0</td>\n",
       "      <td>id</td>\n",
       "      <td>INTEGER</td>\n",
       "      <td>0</td>\n",
       "      <td>None</td>\n",
       "      <td>0</td>\n",
       "    </tr>\n",
       "    <tr>\n",
       "      <th>1</th>\n",
       "      <td>1</td>\n",
       "      <td>duration</td>\n",
       "      <td>INTEGER</td>\n",
       "      <td>0</td>\n",
       "      <td>None</td>\n",
       "      <td>0</td>\n",
       "    </tr>\n",
       "    <tr>\n",
       "      <th>2</th>\n",
       "      <td>2</td>\n",
       "      <td>start_date</td>\n",
       "      <td>DATETIME</td>\n",
       "      <td>0</td>\n",
       "      <td>None</td>\n",
       "      <td>0</td>\n",
       "    </tr>\n",
       "    <tr>\n",
       "      <th>3</th>\n",
       "      <td>3</td>\n",
       "      <td>start_station</td>\n",
       "      <td>INTEGER</td>\n",
       "      <td>0</td>\n",
       "      <td>None</td>\n",
       "      <td>0</td>\n",
       "    </tr>\n",
       "    <tr>\n",
       "      <th>4</th>\n",
       "      <td>4</td>\n",
       "      <td>end_date</td>\n",
       "      <td>DATETIME</td>\n",
       "      <td>0</td>\n",
       "      <td>None</td>\n",
       "      <td>0</td>\n",
       "    </tr>\n",
       "    <tr>\n",
       "      <th>5</th>\n",
       "      <td>5</td>\n",
       "      <td>end_station</td>\n",
       "      <td>INTEGER</td>\n",
       "      <td>0</td>\n",
       "      <td>None</td>\n",
       "      <td>0</td>\n",
       "    </tr>\n",
       "    <tr>\n",
       "      <th>6</th>\n",
       "      <td>6</td>\n",
       "      <td>bike_number</td>\n",
       "      <td>TEXT</td>\n",
       "      <td>0</td>\n",
       "      <td>None</td>\n",
       "      <td>0</td>\n",
       "    </tr>\n",
       "    <tr>\n",
       "      <th>7</th>\n",
       "      <td>7</td>\n",
       "      <td>sub_type</td>\n",
       "      <td>TEXT</td>\n",
       "      <td>0</td>\n",
       "      <td>None</td>\n",
       "      <td>0</td>\n",
       "    </tr>\n",
       "    <tr>\n",
       "      <th>8</th>\n",
       "      <td>8</td>\n",
       "      <td>zip_code</td>\n",
       "      <td>TEXT</td>\n",
       "      <td>0</td>\n",
       "      <td>None</td>\n",
       "      <td>0</td>\n",
       "    </tr>\n",
       "    <tr>\n",
       "      <th>9</th>\n",
       "      <td>9</td>\n",
       "      <td>birth_date</td>\n",
       "      <td>REAL</td>\n",
       "      <td>0</td>\n",
       "      <td>None</td>\n",
       "      <td>0</td>\n",
       "    </tr>\n",
       "    <tr>\n",
       "      <th>10</th>\n",
       "      <td>10</td>\n",
       "      <td>gender</td>\n",
       "      <td>TEXT</td>\n",
       "      <td>0</td>\n",
       "      <td>None</td>\n",
       "      <td>0</td>\n",
       "    </tr>\n",
       "  </tbody>\n",
       "</table>\n",
       "</div>"
      ],
      "text/plain": [
       "    cid           name      type  notnull dflt_value  pk\n",
       "0     0             id   INTEGER        0       None   0\n",
       "1     1       duration   INTEGER        0       None   0\n",
       "2     2     start_date  DATETIME        0       None   0\n",
       "3     3  start_station   INTEGER        0       None   0\n",
       "4     4       end_date  DATETIME        0       None   0\n",
       "5     5    end_station   INTEGER        0       None   0\n",
       "6     6    bike_number      TEXT        0       None   0\n",
       "7     7       sub_type      TEXT        0       None   0\n",
       "8     8       zip_code      TEXT        0       None   0\n",
       "9     9     birth_date      REAL        0       None   0\n",
       "10   10         gender      TEXT        0       None   0"
      ]
     },
     "execution_count": 189,
     "metadata": {
      "tags": []
     },
     "output_type": "execute_result"
    }
   ],
   "source": [
    "query = 'PRAGMA table_info(\"trips\");'\n",
    "run_query(query)"
   ]
  },
  {
   "cell_type": "code",
   "execution_count": null,
   "metadata": {
    "colab": {
     "base_uri": "https://localhost:8080/",
     "height": 204
    },
    "colab_type": "code",
    "executionInfo": {
     "elapsed": 483,
     "status": "ok",
     "timestamp": 1593810972449,
     "user": {
      "displayName": "Chris Frease",
      "photoUrl": "",
      "userId": "02139911760055165379"
     },
     "user_tz": 300
    },
    "id": "aWD4foa2cc43",
    "outputId": "d819ae99-a636-444c-ec0b-a5df912e21b0"
   },
   "outputs": [
    {
     "data": {
      "text/html": [
       "<div>\n",
       "<style scoped>\n",
       "    .dataframe tbody tr th:only-of-type {\n",
       "        vertical-align: middle;\n",
       "    }\n",
       "\n",
       "    .dataframe tbody tr th {\n",
       "        vertical-align: top;\n",
       "    }\n",
       "\n",
       "    .dataframe thead th {\n",
       "        text-align: right;\n",
       "    }\n",
       "</style>\n",
       "<table border=\"1\" class=\"dataframe\">\n",
       "  <thead>\n",
       "    <tr style=\"text-align: right;\">\n",
       "      <th></th>\n",
       "      <th>cid</th>\n",
       "      <th>name</th>\n",
       "      <th>type</th>\n",
       "      <th>notnull</th>\n",
       "      <th>dflt_value</th>\n",
       "      <th>pk</th>\n",
       "    </tr>\n",
       "  </thead>\n",
       "  <tbody>\n",
       "    <tr>\n",
       "      <th>0</th>\n",
       "      <td>0</td>\n",
       "      <td>id</td>\n",
       "      <td>INTEGER</td>\n",
       "      <td>0</td>\n",
       "      <td>None</td>\n",
       "      <td>0</td>\n",
       "    </tr>\n",
       "    <tr>\n",
       "      <th>1</th>\n",
       "      <td>1</td>\n",
       "      <td>station</td>\n",
       "      <td>TEXT</td>\n",
       "      <td>0</td>\n",
       "      <td>None</td>\n",
       "      <td>0</td>\n",
       "    </tr>\n",
       "    <tr>\n",
       "      <th>2</th>\n",
       "      <td>2</td>\n",
       "      <td>municipality</td>\n",
       "      <td>TEXT</td>\n",
       "      <td>0</td>\n",
       "      <td>None</td>\n",
       "      <td>0</td>\n",
       "    </tr>\n",
       "    <tr>\n",
       "      <th>3</th>\n",
       "      <td>3</td>\n",
       "      <td>lat</td>\n",
       "      <td></td>\n",
       "      <td>0</td>\n",
       "      <td>None</td>\n",
       "      <td>0</td>\n",
       "    </tr>\n",
       "    <tr>\n",
       "      <th>4</th>\n",
       "      <td>4</td>\n",
       "      <td>lng</td>\n",
       "      <td></td>\n",
       "      <td>0</td>\n",
       "      <td>None</td>\n",
       "      <td>0</td>\n",
       "    </tr>\n",
       "  </tbody>\n",
       "</table>\n",
       "</div>"
      ],
      "text/plain": [
       "   cid          name     type  notnull dflt_value  pk\n",
       "0    0            id  INTEGER        0       None   0\n",
       "1    1       station     TEXT        0       None   0\n",
       "2    2  municipality     TEXT        0       None   0\n",
       "3    3           lat                 0       None   0\n",
       "4    4           lng                 0       None   0"
      ]
     },
     "execution_count": 86,
     "metadata": {
      "tags": []
     },
     "output_type": "execute_result"
    }
   ],
   "source": [
    "query = 'PRAGMA table_info(\"stations\");'\n",
    "run_query(query)"
   ]
  },
  {
   "cell_type": "code",
   "execution_count": null,
   "metadata": {
    "colab": {
     "base_uri": "https://localhost:8080/",
     "height": 142
    },
    "colab_type": "code",
    "executionInfo": {
     "elapsed": 539,
     "status": "ok",
     "timestamp": 1593810976099,
     "user": {
      "displayName": "Chris Frease",
      "photoUrl": "",
      "userId": "02139911760055165379"
     },
     "user_tz": 300
    },
    "id": "S642G7u0Vhvj",
    "outputId": "119d61b6-1749-434e-ee28-e8fecb5ea5c4"
   },
   "outputs": [
    {
     "data": {
      "text/html": [
       "<div>\n",
       "<style scoped>\n",
       "    .dataframe tbody tr th:only-of-type {\n",
       "        vertical-align: middle;\n",
       "    }\n",
       "\n",
       "    .dataframe tbody tr th {\n",
       "        vertical-align: top;\n",
       "    }\n",
       "\n",
       "    .dataframe thead th {\n",
       "        text-align: right;\n",
       "    }\n",
       "</style>\n",
       "<table border=\"1\" class=\"dataframe\">\n",
       "  <thead>\n",
       "    <tr style=\"text-align: right;\">\n",
       "      <th></th>\n",
       "      <th>id</th>\n",
       "      <th>duration</th>\n",
       "      <th>start_date</th>\n",
       "      <th>start_station</th>\n",
       "      <th>end_date</th>\n",
       "      <th>end_station</th>\n",
       "      <th>bike_number</th>\n",
       "      <th>sub_type</th>\n",
       "      <th>zip_code</th>\n",
       "      <th>birth_date</th>\n",
       "      <th>gender</th>\n",
       "    </tr>\n",
       "  </thead>\n",
       "  <tbody>\n",
       "    <tr>\n",
       "      <th>0</th>\n",
       "      <td>1</td>\n",
       "      <td>9</td>\n",
       "      <td>2011-07-28 10:12:00</td>\n",
       "      <td>23</td>\n",
       "      <td>2011-07-28 10:12:00</td>\n",
       "      <td>23</td>\n",
       "      <td>B00468</td>\n",
       "      <td>Registered</td>\n",
       "      <td>'97217</td>\n",
       "      <td>1976.0</td>\n",
       "      <td>Male</td>\n",
       "    </tr>\n",
       "    <tr>\n",
       "      <th>1</th>\n",
       "      <td>2</td>\n",
       "      <td>220</td>\n",
       "      <td>2011-07-28 10:21:00</td>\n",
       "      <td>23</td>\n",
       "      <td>2011-07-28 10:25:00</td>\n",
       "      <td>23</td>\n",
       "      <td>B00554</td>\n",
       "      <td>Registered</td>\n",
       "      <td>'02215</td>\n",
       "      <td>1966.0</td>\n",
       "      <td>Male</td>\n",
       "    </tr>\n",
       "    <tr>\n",
       "      <th>2</th>\n",
       "      <td>3</td>\n",
       "      <td>56</td>\n",
       "      <td>2011-07-28 10:33:00</td>\n",
       "      <td>23</td>\n",
       "      <td>2011-07-28 10:34:00</td>\n",
       "      <td>23</td>\n",
       "      <td>B00456</td>\n",
       "      <td>Registered</td>\n",
       "      <td>'02108</td>\n",
       "      <td>1943.0</td>\n",
       "      <td>Male</td>\n",
       "    </tr>\n",
       "  </tbody>\n",
       "</table>\n",
       "</div>"
      ],
      "text/plain": [
       "   id  duration           start_date  ...  zip_code birth_date  gender\n",
       "0   1         9  2011-07-28 10:12:00  ...    '97217     1976.0    Male\n",
       "1   2       220  2011-07-28 10:21:00  ...    '02215     1966.0    Male\n",
       "2   3        56  2011-07-28 10:33:00  ...    '02108     1943.0    Male\n",
       "\n",
       "[3 rows x 11 columns]"
      ]
     },
     "execution_count": 87,
     "metadata": {
      "tags": []
     },
     "output_type": "execute_result"
    }
   ],
   "source": [
    "query = 'select * from trips limit 3;'\n",
    "run_query(query)"
   ]
  },
  {
   "cell_type": "code",
   "execution_count": null,
   "metadata": {
    "colab": {
     "base_uri": "https://localhost:8080/",
     "height": 419
    },
    "colab_type": "code",
    "executionInfo": {
     "elapsed": 2906,
     "status": "ok",
     "timestamp": 1593811108831,
     "user": {
      "displayName": "Chris Frease",
      "photoUrl": "",
      "userId": "02139911760055165379"
     },
     "user_tz": 300
    },
    "id": "4qpoUlMnidpZ",
    "outputId": "17aa17d0-bea1-47da-ff77-5cbeca1092a8"
   },
   "outputs": [
    {
     "data": {
      "text/html": [
       "<div>\n",
       "<style scoped>\n",
       "    .dataframe tbody tr th:only-of-type {\n",
       "        vertical-align: middle;\n",
       "    }\n",
       "\n",
       "    .dataframe tbody tr th {\n",
       "        vertical-align: top;\n",
       "    }\n",
       "\n",
       "    .dataframe thead th {\n",
       "        text-align: right;\n",
       "    }\n",
       "</style>\n",
       "<table border=\"1\" class=\"dataframe\">\n",
       "  <thead>\n",
       "    <tr style=\"text-align: right;\">\n",
       "      <th></th>\n",
       "      <th>duration</th>\n",
       "    </tr>\n",
       "  </thead>\n",
       "  <tbody>\n",
       "    <tr>\n",
       "      <th>0</th>\n",
       "      <td>9999</td>\n",
       "    </tr>\n",
       "    <tr>\n",
       "      <th>1</th>\n",
       "      <td>9998</td>\n",
       "    </tr>\n",
       "    <tr>\n",
       "      <th>2</th>\n",
       "      <td>9998</td>\n",
       "    </tr>\n",
       "    <tr>\n",
       "      <th>3</th>\n",
       "      <td>9997</td>\n",
       "    </tr>\n",
       "    <tr>\n",
       "      <th>4</th>\n",
       "      <td>9996</td>\n",
       "    </tr>\n",
       "    <tr>\n",
       "      <th>...</th>\n",
       "      <td>...</td>\n",
       "    </tr>\n",
       "    <tr>\n",
       "      <th>1569996</th>\n",
       "      <td>0</td>\n",
       "    </tr>\n",
       "    <tr>\n",
       "      <th>1569997</th>\n",
       "      <td>0</td>\n",
       "    </tr>\n",
       "    <tr>\n",
       "      <th>1569998</th>\n",
       "      <td>0</td>\n",
       "    </tr>\n",
       "    <tr>\n",
       "      <th>1569999</th>\n",
       "      <td>0</td>\n",
       "    </tr>\n",
       "    <tr>\n",
       "      <th>1570000</th>\n",
       "      <td>0</td>\n",
       "    </tr>\n",
       "  </tbody>\n",
       "</table>\n",
       "<p>1570001 rows × 1 columns</p>\n",
       "</div>"
      ],
      "text/plain": [
       "         duration\n",
       "0            9999\n",
       "1            9998\n",
       "2            9998\n",
       "3            9997\n",
       "4            9996\n",
       "...           ...\n",
       "1569996         0\n",
       "1569997         0\n",
       "1569998         0\n",
       "1569999         0\n",
       "1570000         0\n",
       "\n",
       "[1570001 rows x 1 columns]"
      ]
     },
     "execution_count": 90,
     "metadata": {
      "tags": []
     },
     "output_type": "execute_result"
    }
   ],
   "source": [
    "#What was the duration of the longest trip?\n",
    "query = 'select duration from trips order by duration DESC;'\n",
    "run_query(query)"
   ]
  },
  {
   "cell_type": "code",
   "execution_count": null,
   "metadata": {
    "colab": {},
    "colab_type": "code",
    "id": "OVUmpYGfY2Kd"
   },
   "outputs": [],
   "source": [
    "#sql is closed\n",
    "db.close()"
   ]
  },
  {
   "cell_type": "code",
   "execution_count": null,
   "metadata": {
    "colab": {
     "base_uri": "https://localhost:8080/",
     "height": 204
    },
    "colab_type": "code",
    "executionInfo": {
     "elapsed": 8454,
     "status": "ok",
     "timestamp": 1593966917036,
     "user": {
      "displayName": "Chris Frease",
      "photoUrl": "",
      "userId": "02139911760055165379"
     },
     "user_tz": 300
    },
    "id": "h7hNYgBUXrcP",
    "outputId": "4c878246-5b43-4df4-a06a-479a7dfcd082"
   },
   "outputs": [
    {
     "data": {
      "text/html": [
       "<div>\n",
       "<style scoped>\n",
       "    .dataframe tbody tr th:only-of-type {\n",
       "        vertical-align: middle;\n",
       "    }\n",
       "\n",
       "    .dataframe tbody tr th {\n",
       "        vertical-align: top;\n",
       "    }\n",
       "\n",
       "    .dataframe thead th {\n",
       "        text-align: right;\n",
       "    }\n",
       "</style>\n",
       "<table border=\"1\" class=\"dataframe\">\n",
       "  <thead>\n",
       "    <tr style=\"text-align: right;\">\n",
       "      <th></th>\n",
       "      <th>id</th>\n",
       "      <th>duration</th>\n",
       "      <th>start_date</th>\n",
       "      <th>start_station</th>\n",
       "      <th>end_date</th>\n",
       "      <th>end_station</th>\n",
       "      <th>bike_number</th>\n",
       "      <th>sub_type</th>\n",
       "      <th>zip_code</th>\n",
       "      <th>birth_date</th>\n",
       "      <th>gender</th>\n",
       "    </tr>\n",
       "  </thead>\n",
       "  <tbody>\n",
       "    <tr>\n",
       "      <th>0</th>\n",
       "      <td>1</td>\n",
       "      <td>9</td>\n",
       "      <td>2011-07-28 10:12:00</td>\n",
       "      <td>23</td>\n",
       "      <td>2011-07-28 10:12:00</td>\n",
       "      <td>23</td>\n",
       "      <td>B00468</td>\n",
       "      <td>Registered</td>\n",
       "      <td>'97217</td>\n",
       "      <td>1976</td>\n",
       "      <td>Male</td>\n",
       "    </tr>\n",
       "    <tr>\n",
       "      <th>1</th>\n",
       "      <td>2</td>\n",
       "      <td>220</td>\n",
       "      <td>2011-07-28 10:21:00</td>\n",
       "      <td>23</td>\n",
       "      <td>2011-07-28 10:25:00</td>\n",
       "      <td>23</td>\n",
       "      <td>B00554</td>\n",
       "      <td>Registered</td>\n",
       "      <td>'02215</td>\n",
       "      <td>1966</td>\n",
       "      <td>Male</td>\n",
       "    </tr>\n",
       "    <tr>\n",
       "      <th>2</th>\n",
       "      <td>3</td>\n",
       "      <td>56</td>\n",
       "      <td>2011-07-28 10:33:00</td>\n",
       "      <td>23</td>\n",
       "      <td>2011-07-28 10:34:00</td>\n",
       "      <td>23</td>\n",
       "      <td>B00456</td>\n",
       "      <td>Registered</td>\n",
       "      <td>'02108</td>\n",
       "      <td>1943</td>\n",
       "      <td>Male</td>\n",
       "    </tr>\n",
       "    <tr>\n",
       "      <th>3</th>\n",
       "      <td>4</td>\n",
       "      <td>64</td>\n",
       "      <td>2011-07-28 10:35:00</td>\n",
       "      <td>23</td>\n",
       "      <td>2011-07-28 10:36:00</td>\n",
       "      <td>23</td>\n",
       "      <td>B00554</td>\n",
       "      <td>Registered</td>\n",
       "      <td>'02116</td>\n",
       "      <td>1981</td>\n",
       "      <td>Female</td>\n",
       "    </tr>\n",
       "    <tr>\n",
       "      <th>4</th>\n",
       "      <td>5</td>\n",
       "      <td>12</td>\n",
       "      <td>2011-07-28 10:37:00</td>\n",
       "      <td>23</td>\n",
       "      <td>2011-07-28 10:37:00</td>\n",
       "      <td>23</td>\n",
       "      <td>B00554</td>\n",
       "      <td>Registered</td>\n",
       "      <td>'97214</td>\n",
       "      <td>1983</td>\n",
       "      <td>Female</td>\n",
       "    </tr>\n",
       "  </tbody>\n",
       "</table>\n",
       "</div>"
      ],
      "text/plain": [
       "   id  duration           start_date  ... zip_code birth_date  gender\n",
       "0   1         9  2011-07-28 10:12:00  ...   '97217       1976    Male\n",
       "1   2       220  2011-07-28 10:21:00  ...   '02215       1966    Male\n",
       "2   3        56  2011-07-28 10:33:00  ...   '02108       1943    Male\n",
       "3   4        64  2011-07-28 10:35:00  ...   '02116       1981  Female\n",
       "4   5        12  2011-07-28 10:37:00  ...   '97214       1983  Female\n",
       "\n",
       "[5 rows x 11 columns]"
      ]
     },
     "execution_count": 8,
     "metadata": {
      "tags": []
     },
     "output_type": "execute_result"
    }
   ],
   "source": [
    "#sql table is df \n",
    "import sqlite3\n",
    "import pandas as pd\n",
    "\n",
    "db = sqlite3.connect(\"/content/gdrive/My Drive/db_files/hubway.db\")\n",
    "trips_df = pd.read_sql_query(\"SELECT * from trips\", db)\n",
    "trips_df.head()"
   ]
  },
  {
   "cell_type": "code",
   "execution_count": null,
   "metadata": {
    "colab": {
     "base_uri": "https://localhost:8080/",
     "height": 204
    },
    "colab_type": "code",
    "executionInfo": {
     "elapsed": 210,
     "status": "ok",
     "timestamp": 1593966917952,
     "user": {
      "displayName": "Chris Frease",
      "photoUrl": "",
      "userId": "02139911760055165379"
     },
     "user_tz": 300
    },
    "id": "4-AeXpMYYg9I",
    "outputId": "db6eaa22-f56c-41a6-a7f0-2a7aaac51c2b"
   },
   "outputs": [
    {
     "data": {
      "text/html": [
       "<div>\n",
       "<style scoped>\n",
       "    .dataframe tbody tr th:only-of-type {\n",
       "        vertical-align: middle;\n",
       "    }\n",
       "\n",
       "    .dataframe tbody tr th {\n",
       "        vertical-align: top;\n",
       "    }\n",
       "\n",
       "    .dataframe thead th {\n",
       "        text-align: right;\n",
       "    }\n",
       "</style>\n",
       "<table border=\"1\" class=\"dataframe\">\n",
       "  <thead>\n",
       "    <tr style=\"text-align: right;\">\n",
       "      <th></th>\n",
       "      <th>id</th>\n",
       "      <th>station</th>\n",
       "      <th>municipality</th>\n",
       "      <th>lat</th>\n",
       "      <th>lng</th>\n",
       "    </tr>\n",
       "  </thead>\n",
       "  <tbody>\n",
       "    <tr>\n",
       "      <th>0</th>\n",
       "      <td>3</td>\n",
       "      <td>Colleges of the Fenway</td>\n",
       "      <td>Boston</td>\n",
       "      <td>42.340021</td>\n",
       "      <td>-71.100812</td>\n",
       "    </tr>\n",
       "    <tr>\n",
       "      <th>1</th>\n",
       "      <td>4</td>\n",
       "      <td>Tremont St. at Berkeley St.</td>\n",
       "      <td>Boston</td>\n",
       "      <td>42.345392</td>\n",
       "      <td>-71.069616</td>\n",
       "    </tr>\n",
       "    <tr>\n",
       "      <th>2</th>\n",
       "      <td>5</td>\n",
       "      <td>Northeastern U / North Parking Lot</td>\n",
       "      <td>Boston</td>\n",
       "      <td>42.341814</td>\n",
       "      <td>-71.090179</td>\n",
       "    </tr>\n",
       "    <tr>\n",
       "      <th>3</th>\n",
       "      <td>6</td>\n",
       "      <td>Cambridge St. at Joy St.</td>\n",
       "      <td>Boston</td>\n",
       "      <td>42.361284999999995</td>\n",
       "      <td>-71.06514</td>\n",
       "    </tr>\n",
       "    <tr>\n",
       "      <th>4</th>\n",
       "      <td>7</td>\n",
       "      <td>Fan Pier</td>\n",
       "      <td>Boston</td>\n",
       "      <td>42.353412</td>\n",
       "      <td>-71.044624</td>\n",
       "    </tr>\n",
       "  </tbody>\n",
       "</table>\n",
       "</div>"
      ],
      "text/plain": [
       "   id                             station  ...                 lat         lng\n",
       "0   3              Colleges of the Fenway  ...           42.340021  -71.100812\n",
       "1   4         Tremont St. at Berkeley St.  ...           42.345392  -71.069616\n",
       "2   5  Northeastern U / North Parking Lot  ...           42.341814  -71.090179\n",
       "3   6            Cambridge St. at Joy St.  ...  42.361284999999995   -71.06514\n",
       "4   7                            Fan Pier  ...           42.353412  -71.044624\n",
       "\n",
       "[5 rows x 5 columns]"
      ]
     },
     "execution_count": 9,
     "metadata": {
      "tags": []
     },
     "output_type": "execute_result"
    }
   ],
   "source": [
    "stations_df = pd.read_sql_query(\"SELECT * from stations\", db)\n",
    "stations_df.head()"
   ]
  },
  {
   "cell_type": "code",
   "execution_count": null,
   "metadata": {
    "colab": {},
    "colab_type": "code",
    "id": "Au9vPvINYlX2"
   },
   "outputs": [],
   "source": [
    "#db is closed once df is made\n",
    "db.close()"
   ]
  },
  {
   "cell_type": "code",
   "execution_count": null,
   "metadata": {
    "colab": {
     "base_uri": "https://localhost:8080/",
     "height": 204
    },
    "colab_type": "code",
    "executionInfo": {
     "elapsed": 355,
     "status": "ok",
     "timestamp": 1593903743634,
     "user": {
      "displayName": "Chris Frease",
      "photoUrl": "",
      "userId": "02139911760055165379"
     },
     "user_tz": 300
    },
    "id": "dhJ5QL9MnZwL",
    "outputId": "781e85d8-44a1-479e-cb30-c93e555cf09f"
   },
   "outputs": [
    {
     "data": {
      "text/html": [
       "<div>\n",
       "<style scoped>\n",
       "    .dataframe tbody tr th:only-of-type {\n",
       "        vertical-align: middle;\n",
       "    }\n",
       "\n",
       "    .dataframe tbody tr th {\n",
       "        vertical-align: top;\n",
       "    }\n",
       "\n",
       "    .dataframe thead th {\n",
       "        text-align: right;\n",
       "    }\n",
       "</style>\n",
       "<table border=\"1\" class=\"dataframe\">\n",
       "  <thead>\n",
       "    <tr style=\"text-align: right;\">\n",
       "      <th></th>\n",
       "      <th>id</th>\n",
       "      <th>duration</th>\n",
       "      <th>start_date</th>\n",
       "      <th>start_station</th>\n",
       "      <th>end_date</th>\n",
       "      <th>end_station</th>\n",
       "      <th>bike_number</th>\n",
       "      <th>sub_type</th>\n",
       "      <th>zip_code</th>\n",
       "      <th>birth_date</th>\n",
       "      <th>gender</th>\n",
       "    </tr>\n",
       "  </thead>\n",
       "  <tbody>\n",
       "    <tr>\n",
       "      <th>0</th>\n",
       "      <td>1</td>\n",
       "      <td>9</td>\n",
       "      <td>2011-07-28 10:12:00</td>\n",
       "      <td>23</td>\n",
       "      <td>2011-07-28 10:12:00</td>\n",
       "      <td>23</td>\n",
       "      <td>B00468</td>\n",
       "      <td>Registered</td>\n",
       "      <td>'97217</td>\n",
       "      <td>1976</td>\n",
       "      <td>Male</td>\n",
       "    </tr>\n",
       "    <tr>\n",
       "      <th>1</th>\n",
       "      <td>2</td>\n",
       "      <td>220</td>\n",
       "      <td>2011-07-28 10:21:00</td>\n",
       "      <td>23</td>\n",
       "      <td>2011-07-28 10:25:00</td>\n",
       "      <td>23</td>\n",
       "      <td>B00554</td>\n",
       "      <td>Registered</td>\n",
       "      <td>'02215</td>\n",
       "      <td>1966</td>\n",
       "      <td>Male</td>\n",
       "    </tr>\n",
       "    <tr>\n",
       "      <th>2</th>\n",
       "      <td>3</td>\n",
       "      <td>56</td>\n",
       "      <td>2011-07-28 10:33:00</td>\n",
       "      <td>23</td>\n",
       "      <td>2011-07-28 10:34:00</td>\n",
       "      <td>23</td>\n",
       "      <td>B00456</td>\n",
       "      <td>Registered</td>\n",
       "      <td>'02108</td>\n",
       "      <td>1943</td>\n",
       "      <td>Male</td>\n",
       "    </tr>\n",
       "    <tr>\n",
       "      <th>3</th>\n",
       "      <td>4</td>\n",
       "      <td>64</td>\n",
       "      <td>2011-07-28 10:35:00</td>\n",
       "      <td>23</td>\n",
       "      <td>2011-07-28 10:36:00</td>\n",
       "      <td>23</td>\n",
       "      <td>B00554</td>\n",
       "      <td>Registered</td>\n",
       "      <td>'02116</td>\n",
       "      <td>1981</td>\n",
       "      <td>Female</td>\n",
       "    </tr>\n",
       "    <tr>\n",
       "      <th>4</th>\n",
       "      <td>5</td>\n",
       "      <td>12</td>\n",
       "      <td>2011-07-28 10:37:00</td>\n",
       "      <td>23</td>\n",
       "      <td>2011-07-28 10:37:00</td>\n",
       "      <td>23</td>\n",
       "      <td>B00554</td>\n",
       "      <td>Registered</td>\n",
       "      <td>'97214</td>\n",
       "      <td>1983</td>\n",
       "      <td>Female</td>\n",
       "    </tr>\n",
       "  </tbody>\n",
       "</table>\n",
       "</div>"
      ],
      "text/plain": [
       "   id  duration           start_date  ... zip_code birth_date  gender\n",
       "0   1         9  2011-07-28 10:12:00  ...   '97217       1976    Male\n",
       "1   2       220  2011-07-28 10:21:00  ...   '02215       1966    Male\n",
       "2   3        56  2011-07-28 10:33:00  ...   '02108       1943    Male\n",
       "3   4        64  2011-07-28 10:35:00  ...   '02116       1981  Female\n",
       "4   5        12  2011-07-28 10:37:00  ...   '97214       1983  Female\n",
       "\n",
       "[5 rows x 11 columns]"
      ]
     },
     "execution_count": 30,
     "metadata": {
      "tags": []
     },
     "output_type": "execute_result"
    }
   ],
   "source": [
    "trips_df.head()"
   ]
  },
  {
   "cell_type": "markdown",
   "metadata": {
    "colab_type": "text",
    "id": "F-Ja44Knm8eG"
   },
   "source": [
    "## 1. What was the duration of the longest trip?"
   ]
  },
  {
   "cell_type": "code",
   "execution_count": null,
   "metadata": {
    "colab": {
     "base_uri": "https://localhost:8080/",
     "height": 34
    },
    "colab_type": "code",
    "executionInfo": {
     "elapsed": 590,
     "status": "ok",
     "timestamp": 1593811290697,
     "user": {
      "displayName": "Chris Frease",
      "photoUrl": "",
      "userId": "02139911760055165379"
     },
     "user_tz": 300
    },
    "id": "EnXO3ah4Ysp2",
    "outputId": "9372dbb7-9be7-441c-ab79-68659dbe5859"
   },
   "outputs": [
    {
     "data": {
      "text/plain": [
       "9999"
      ]
     },
     "execution_count": 97,
     "metadata": {
      "tags": []
     },
     "output_type": "execute_result"
    }
   ],
   "source": [
    "max(trips_df['duration'])"
   ]
  },
  {
   "cell_type": "code",
   "execution_count": null,
   "metadata": {
    "colab": {
     "base_uri": "https://localhost:8080/",
     "height": 34
    },
    "colab_type": "code",
    "executionInfo": {
     "elapsed": 519,
     "status": "ok",
     "timestamp": 1593811353907,
     "user": {
      "displayName": "Chris Frease",
      "photoUrl": "",
      "userId": "02139911760055165379"
     },
     "user_tz": 300
    },
    "id": "M04li6uLjxJa",
    "outputId": "143958b8-eee3-417b-d6c8-0216f6dff0a9"
   },
   "outputs": [
    {
     "data": {
      "text/plain": [
       "9999"
      ]
     },
     "execution_count": 98,
     "metadata": {
      "tags": []
     },
     "output_type": "execute_result"
    }
   ],
   "source": [
    "trips_df['duration'].max()"
   ]
  },
  {
   "cell_type": "code",
   "execution_count": null,
   "metadata": {
    "colab": {
     "base_uri": "https://localhost:8080/",
     "height": 80
    },
    "colab_type": "code",
    "executionInfo": {
     "elapsed": 437,
     "status": "ok",
     "timestamp": 1593902361890,
     "user": {
      "displayName": "Chris Frease",
      "photoUrl": "",
      "userId": "02139911760055165379"
     },
     "user_tz": 300
    },
    "id": "Kw7X2BYujEH9",
    "outputId": "18f73f5a-b4c4-486a-c366-da2bb7fc900d"
   },
   "outputs": [
    {
     "data": {
      "text/html": [
       "<div>\n",
       "<style scoped>\n",
       "    .dataframe tbody tr th:only-of-type {\n",
       "        vertical-align: middle;\n",
       "    }\n",
       "\n",
       "    .dataframe tbody tr th {\n",
       "        vertical-align: top;\n",
       "    }\n",
       "\n",
       "    .dataframe thead th {\n",
       "        text-align: right;\n",
       "    }\n",
       "</style>\n",
       "<table border=\"1\" class=\"dataframe\">\n",
       "  <thead>\n",
       "    <tr style=\"text-align: right;\">\n",
       "      <th></th>\n",
       "      <th>max(duration)</th>\n",
       "    </tr>\n",
       "  </thead>\n",
       "  <tbody>\n",
       "    <tr>\n",
       "      <th>0</th>\n",
       "      <td>9999</td>\n",
       "    </tr>\n",
       "  </tbody>\n",
       "</table>\n",
       "</div>"
      ],
      "text/plain": [
       "   max(duration)\n",
       "0           9999"
      ]
     },
     "execution_count": 8,
     "metadata": {
      "tags": []
     },
     "output_type": "execute_result"
    }
   ],
   "source": [
    "query = 'select max(duration) from trips;'\n",
    "run_query(query)"
   ]
  },
  {
   "cell_type": "markdown",
   "metadata": {
    "colab_type": "text",
    "id": "Uu_0Ze8CnAzC"
   },
   "source": [
    "## 2. How many trips were taken by 'registered' users?"
   ]
  },
  {
   "cell_type": "code",
   "execution_count": null,
   "metadata": {
    "colab": {
     "base_uri": "https://localhost:8080/",
     "height": 80
    },
    "colab_type": "code",
    "executionInfo": {
     "elapsed": 412,
     "status": "ok",
     "timestamp": 1593902488972,
     "user": {
      "displayName": "Chris Frease",
      "photoUrl": "",
      "userId": "02139911760055165379"
     },
     "user_tz": 300
    },
    "id": "NioMCdP8_CDi",
    "outputId": "adeecd78-2495-4198-8800-e566074dc121"
   },
   "outputs": [
    {
     "data": {
      "text/html": [
       "<div>\n",
       "<style scoped>\n",
       "    .dataframe tbody tr th:only-of-type {\n",
       "        vertical-align: middle;\n",
       "    }\n",
       "\n",
       "    .dataframe tbody tr th {\n",
       "        vertical-align: top;\n",
       "    }\n",
       "\n",
       "    .dataframe thead th {\n",
       "        text-align: right;\n",
       "    }\n",
       "</style>\n",
       "<table border=\"1\" class=\"dataframe\">\n",
       "  <thead>\n",
       "    <tr style=\"text-align: right;\">\n",
       "      <th></th>\n",
       "      <th>sub_type</th>\n",
       "      <th>COUNT(*)</th>\n",
       "    </tr>\n",
       "  </thead>\n",
       "  <tbody>\n",
       "    <tr>\n",
       "      <th>0</th>\n",
       "      <td>Registered</td>\n",
       "      <td>1105192</td>\n",
       "    </tr>\n",
       "  </tbody>\n",
       "</table>\n",
       "</div>"
      ],
      "text/plain": [
       "     sub_type  COUNT(*)\n",
       "0  Registered   1105192"
      ]
     },
     "execution_count": 10,
     "metadata": {
      "tags": []
     },
     "output_type": "execute_result"
    }
   ],
   "source": [
    "query = 'select sub_type, COUNT(*) from trips where sub_type = \"Registered\";'\n",
    "run_query(query)"
   ]
  },
  {
   "cell_type": "code",
   "execution_count": null,
   "metadata": {
    "colab": {
     "base_uri": "https://localhost:8080/",
     "height": 71
    },
    "colab_type": "code",
    "executionInfo": {
     "elapsed": 2160,
     "status": "ok",
     "timestamp": 1593841886479,
     "user": {
      "displayName": "Chris Frease",
      "photoUrl": "",
      "userId": "02139911760055165379"
     },
     "user_tz": 300
    },
    "id": "-LpLoZttjkey",
    "outputId": "15520968-bc4f-4be0-8852-7613a277a347"
   },
   "outputs": [
    {
     "data": {
      "text/plain": [
       "Registered    1105192\n",
       "Casual         464809\n",
       "Name: sub_type, dtype: int64"
      ]
     },
     "execution_count": 263,
     "metadata": {
      "tags": []
     },
     "output_type": "execute_result"
    }
   ],
   "source": [
    "trips_df['sub_type'].value_counts()"
   ]
  },
  {
   "cell_type": "code",
   "execution_count": null,
   "metadata": {
    "colab": {
     "base_uri": "https://localhost:8080/",
     "height": 35
    },
    "colab_type": "code",
    "executionInfo": {
     "elapsed": 7785,
     "status": "ok",
     "timestamp": 1593841821976,
     "user": {
      "displayName": "Chris Frease",
      "photoUrl": "",
      "userId": "02139911760055165379"
     },
     "user_tz": 300
    },
    "id": "Xuwb6kElkBAJ",
    "outputId": "1b7a0029-94f5-4bd8-b432-34e9331c4d47"
   },
   "outputs": [
    {
     "data": {
      "text/plain": [
       "1105192"
      ]
     },
     "execution_count": 261,
     "metadata": {
      "tags": []
     },
     "output_type": "execute_result"
    }
   ],
   "source": [
    "(trips_df['sub_type']=='Registered').sum()"
   ]
  },
  {
   "cell_type": "code",
   "execution_count": null,
   "metadata": {
    "colab": {
     "base_uri": "https://localhost:8080/",
     "height": 35
    },
    "colab_type": "code",
    "executionInfo": {
     "elapsed": 2134,
     "status": "ok",
     "timestamp": 1593842042551,
     "user": {
      "displayName": "Chris Frease",
      "photoUrl": "",
      "userId": "02139911760055165379"
     },
     "user_tz": 300
    },
    "id": "zqhYgX3MX3-j",
    "outputId": "b91db30b-0130-4e8f-d21f-f34075c13a93"
   },
   "outputs": [
    {
     "data": {
      "text/plain": [
       "1105192"
      ]
     },
     "execution_count": 269,
     "metadata": {
      "tags": []
     },
     "output_type": "execute_result"
    }
   ],
   "source": [
    "len(trips_df[(trips_df['sub_type']=='Registered')])"
   ]
  },
  {
   "cell_type": "markdown",
   "metadata": {
    "colab_type": "text",
    "id": "-vtdSqZXngWU"
   },
   "source": [
    "## 3. What was the average trip duration?"
   ]
  },
  {
   "cell_type": "code",
   "execution_count": null,
   "metadata": {
    "colab": {
     "base_uri": "https://localhost:8080/",
     "height": 80
    },
    "colab_type": "code",
    "executionInfo": {
     "elapsed": 477,
     "status": "ok",
     "timestamp": 1593902560522,
     "user": {
      "displayName": "Chris Frease",
      "photoUrl": "",
      "userId": "02139911760055165379"
     },
     "user_tz": 300
    },
    "id": "Q9wZPcq3_kTO",
    "outputId": "a766d49f-e674-488e-991f-c59b80297ba9"
   },
   "outputs": [
    {
     "data": {
      "text/html": [
       "<div>\n",
       "<style scoped>\n",
       "    .dataframe tbody tr th:only-of-type {\n",
       "        vertical-align: middle;\n",
       "    }\n",
       "\n",
       "    .dataframe tbody tr th {\n",
       "        vertical-align: top;\n",
       "    }\n",
       "\n",
       "    .dataframe thead th {\n",
       "        text-align: right;\n",
       "    }\n",
       "</style>\n",
       "<table border=\"1\" class=\"dataframe\">\n",
       "  <thead>\n",
       "    <tr style=\"text-align: right;\">\n",
       "      <th></th>\n",
       "      <th>avg(duration)</th>\n",
       "    </tr>\n",
       "  </thead>\n",
       "  <tbody>\n",
       "    <tr>\n",
       "      <th>0</th>\n",
       "      <td>912.409682</td>\n",
       "    </tr>\n",
       "  </tbody>\n",
       "</table>\n",
       "</div>"
      ],
      "text/plain": [
       "   avg(duration)\n",
       "0     912.409682"
      ]
     },
     "execution_count": 12,
     "metadata": {
      "tags": []
     },
     "output_type": "execute_result"
    }
   ],
   "source": [
    "query = 'select avg(duration) from trips;'\n",
    "run_query(query)"
   ]
  },
  {
   "cell_type": "code",
   "execution_count": null,
   "metadata": {
    "colab": {
     "base_uri": "https://localhost:8080/",
     "height": 34
    },
    "colab_type": "code",
    "executionInfo": {
     "elapsed": 728,
     "status": "ok",
     "timestamp": 1593812396590,
     "user": {
      "displayName": "Chris Frease",
      "photoUrl": "",
      "userId": "02139911760055165379"
     },
     "user_tz": 300
    },
    "id": "iYIvoQaHneLF",
    "outputId": "74328323-250e-4a60-8534-1c7e108390d8"
   },
   "outputs": [
    {
     "data": {
      "text/plain": [
       "912.4096819046612"
      ]
     },
     "execution_count": 114,
     "metadata": {
      "tags": []
     },
     "output_type": "execute_result"
    }
   ],
   "source": [
    "trips_df['duration'].mean()"
   ]
  },
  {
   "cell_type": "markdown",
   "metadata": {
    "colab_type": "text",
    "id": "DKhOY6XvoG9b"
   },
   "source": [
    "## 4. Do registered or casual users take longer trips?"
   ]
  },
  {
   "cell_type": "code",
   "execution_count": null,
   "metadata": {
    "colab": {
     "base_uri": "https://localhost:8080/",
     "height": 111
    },
    "colab_type": "code",
    "executionInfo": {
     "elapsed": 4152,
     "status": "ok",
     "timestamp": 1593902839762,
     "user": {
      "displayName": "Chris Frease",
      "photoUrl": "",
      "userId": "02139911760055165379"
     },
     "user_tz": 300
    },
    "id": "g_11yEWpANnI",
    "outputId": "3a86d61c-1a36-416a-fc62-93c6fd4bca1f"
   },
   "outputs": [
    {
     "data": {
      "text/html": [
       "<div>\n",
       "<style scoped>\n",
       "    .dataframe tbody tr th:only-of-type {\n",
       "        vertical-align: middle;\n",
       "    }\n",
       "\n",
       "    .dataframe tbody tr th {\n",
       "        vertical-align: top;\n",
       "    }\n",
       "\n",
       "    .dataframe thead th {\n",
       "        text-align: right;\n",
       "    }\n",
       "</style>\n",
       "<table border=\"1\" class=\"dataframe\">\n",
       "  <thead>\n",
       "    <tr style=\"text-align: right;\">\n",
       "      <th></th>\n",
       "      <th>sub_type</th>\n",
       "      <th>avg(duration)</th>\n",
       "    </tr>\n",
       "  </thead>\n",
       "  <tbody>\n",
       "    <tr>\n",
       "      <th>0</th>\n",
       "      <td>Casual</td>\n",
       "      <td>1519.643897</td>\n",
       "    </tr>\n",
       "    <tr>\n",
       "      <th>1</th>\n",
       "      <td>Registered</td>\n",
       "      <td>657.026067</td>\n",
       "    </tr>\n",
       "  </tbody>\n",
       "</table>\n",
       "</div>"
      ],
      "text/plain": [
       "     sub_type  avg(duration)\n",
       "0      Casual    1519.643897\n",
       "1  Registered     657.026067"
      ]
     },
     "execution_count": 16,
     "metadata": {
      "tags": []
     },
     "output_type": "execute_result"
    }
   ],
   "source": [
    "query = 'select sub_type, avg(duration) from trips group by sub_type;'\n",
    "run_query(query)"
   ]
  },
  {
   "cell_type": "code",
   "execution_count": null,
   "metadata": {
    "colab": {
     "base_uri": "https://localhost:8080/",
     "height": 142
    },
    "colab_type": "code",
    "executionInfo": {
     "elapsed": 1152,
     "status": "ok",
     "timestamp": 1593812537953,
     "user": {
      "displayName": "Chris Frease",
      "photoUrl": "",
      "userId": "02139911760055165379"
     },
     "user_tz": 300
    },
    "id": "LlUNB9cJoGNx",
    "outputId": "5626d65b-8999-41dc-90df-372f7285139c"
   },
   "outputs": [
    {
     "data": {
      "text/html": [
       "<div>\n",
       "<style scoped>\n",
       "    .dataframe tbody tr th:only-of-type {\n",
       "        vertical-align: middle;\n",
       "    }\n",
       "\n",
       "    .dataframe tbody tr th {\n",
       "        vertical-align: top;\n",
       "    }\n",
       "\n",
       "    .dataframe thead th {\n",
       "        text-align: right;\n",
       "    }\n",
       "</style>\n",
       "<table border=\"1\" class=\"dataframe\">\n",
       "  <thead>\n",
       "    <tr style=\"text-align: right;\">\n",
       "      <th></th>\n",
       "      <th>id</th>\n",
       "      <th>duration</th>\n",
       "    </tr>\n",
       "    <tr>\n",
       "      <th>sub_type</th>\n",
       "      <th></th>\n",
       "      <th></th>\n",
       "    </tr>\n",
       "  </thead>\n",
       "  <tbody>\n",
       "    <tr>\n",
       "      <th>Casual</th>\n",
       "      <td>718293.248162</td>\n",
       "      <td>1519.643897</td>\n",
       "    </tr>\n",
       "    <tr>\n",
       "      <th>Registered</th>\n",
       "      <td>822677.335679</td>\n",
       "      <td>657.026067</td>\n",
       "    </tr>\n",
       "  </tbody>\n",
       "</table>\n",
       "</div>"
      ],
      "text/plain": [
       "                       id     duration\n",
       "sub_type                              \n",
       "Casual      718293.248162  1519.643897\n",
       "Registered  822677.335679   657.026067"
      ]
     },
     "execution_count": 115,
     "metadata": {
      "tags": []
     },
     "output_type": "execute_result"
    }
   ],
   "source": [
    "trips_df.groupby(by='sub_type').mean()"
   ]
  },
  {
   "cell_type": "markdown",
   "metadata": {
    "colab_type": "text",
    "id": "5VEUrFOPo83t"
   },
   "source": [
    "## 5. Which bike was used for the most trips?"
   ]
  },
  {
   "cell_type": "code",
   "execution_count": null,
   "metadata": {
    "colab": {
     "base_uri": "https://localhost:8080/",
     "height": 80
    },
    "colab_type": "code",
    "executionInfo": {
     "elapsed": 1365,
     "status": "ok",
     "timestamp": 1593903066576,
     "user": {
      "displayName": "Chris Frease",
      "photoUrl": "",
      "userId": "02139911760055165379"
     },
     "user_tz": 300
    },
    "id": "9QQVoHRSA2vd",
    "outputId": "f58d56bd-74ba-47b8-881e-903e8f12155a"
   },
   "outputs": [
    {
     "data": {
      "text/html": [
       "<div>\n",
       "<style scoped>\n",
       "    .dataframe tbody tr th:only-of-type {\n",
       "        vertical-align: middle;\n",
       "    }\n",
       "\n",
       "    .dataframe tbody tr th {\n",
       "        vertical-align: top;\n",
       "    }\n",
       "\n",
       "    .dataframe thead th {\n",
       "        text-align: right;\n",
       "    }\n",
       "</style>\n",
       "<table border=\"1\" class=\"dataframe\">\n",
       "  <thead>\n",
       "    <tr style=\"text-align: right;\">\n",
       "      <th></th>\n",
       "      <th>bike_number</th>\n",
       "      <th>num</th>\n",
       "    </tr>\n",
       "  </thead>\n",
       "  <tbody>\n",
       "    <tr>\n",
       "      <th>0</th>\n",
       "      <td>B00490</td>\n",
       "      <td>2120</td>\n",
       "    </tr>\n",
       "  </tbody>\n",
       "</table>\n",
       "</div>"
      ],
      "text/plain": [
       "  bike_number   num\n",
       "0      B00490  2120"
      ]
     },
     "execution_count": 23,
     "metadata": {
      "tags": []
     },
     "output_type": "execute_result"
    }
   ],
   "source": [
    "query = 'select bike_number, count(bike_number) as num from trips group by bike_number order by num DESC limit 1;'\n",
    "run_query(query)"
   ]
  },
  {
   "cell_type": "code",
   "execution_count": null,
   "metadata": {
    "colab": {
     "base_uri": "https://localhost:8080/",
     "height": 221
    },
    "colab_type": "code",
    "executionInfo": {
     "elapsed": 1128,
     "status": "ok",
     "timestamp": 1593834893998,
     "user": {
      "displayName": "Chris Frease",
      "photoUrl": "",
      "userId": "02139911760055165379"
     },
     "user_tz": 300
    },
    "id": "B8D9pgTDlaVh",
    "outputId": "f28e11ee-fb3a-4a21-9b6b-0cae08afdd0d"
   },
   "outputs": [
    {
     "data": {
      "text/plain": [
       "B00490    2120\n",
       "B00268    2104\n",
       "B00548    2099\n",
       "B00559    2083\n",
       "B00563    2067\n",
       "          ... \n",
       "T01129      49\n",
       "B00218      33\n",
       "B00137      28\n",
       "B00542      25\n",
       "T01064      10\n",
       "Name: bike_number, Length: 1164, dtype: int64"
      ]
     },
     "execution_count": 160,
     "metadata": {
      "tags": []
     },
     "output_type": "execute_result"
    }
   ],
   "source": [
    "trips_df['bike_number'].value_counts()"
   ]
  },
  {
   "cell_type": "markdown",
   "metadata": {
    "colab_type": "text",
    "id": "5Iq92BTTr68Q"
   },
   "source": [
    "## 6. What is the average duration of trips by users over the age of 30?"
   ]
  },
  {
   "cell_type": "code",
   "execution_count": null,
   "metadata": {
    "colab": {
     "base_uri": "https://localhost:8080/",
     "height": 80
    },
    "colab_type": "code",
    "executionInfo": {
     "elapsed": 438,
     "status": "ok",
     "timestamp": 1593903437432,
     "user": {
      "displayName": "Chris Frease",
      "photoUrl": "",
      "userId": "02139911760055165379"
     },
     "user_tz": 300
    },
    "id": "emkzuQMSBwns",
    "outputId": "cece2696-d220-485c-efe9-6c3f948d36d2"
   },
   "outputs": [
    {
     "data": {
      "text/html": [
       "<div>\n",
       "<style scoped>\n",
       "    .dataframe tbody tr th:only-of-type {\n",
       "        vertical-align: middle;\n",
       "    }\n",
       "\n",
       "    .dataframe tbody tr th {\n",
       "        vertical-align: top;\n",
       "    }\n",
       "\n",
       "    .dataframe thead th {\n",
       "        text-align: right;\n",
       "    }\n",
       "</style>\n",
       "<table border=\"1\" class=\"dataframe\">\n",
       "  <thead>\n",
       "    <tr style=\"text-align: right;\">\n",
       "      <th></th>\n",
       "      <th>avg(duration)</th>\n",
       "    </tr>\n",
       "  </thead>\n",
       "  <tbody>\n",
       "    <tr>\n",
       "      <th>0</th>\n",
       "      <td>923.014685</td>\n",
       "    </tr>\n",
       "  </tbody>\n",
       "</table>\n",
       "</div>"
      ],
      "text/plain": [
       "   avg(duration)\n",
       "0     923.014685"
      ]
     },
     "execution_count": 25,
     "metadata": {
      "tags": []
     },
     "output_type": "execute_result"
    }
   ],
   "source": [
    "query = 'select avg(duration) from trips where (2017-birth_date) > 30;'\n",
    "run_query(query)"
   ]
  },
  {
   "cell_type": "code",
   "execution_count": null,
   "metadata": {
    "colab": {},
    "colab_type": "code",
    "id": "7qnoAZgQs5bL"
   },
   "outputs": [],
   "source": [
    "trips_df[\"birth_date\"] = pd.to_numeric(trips_df[\"birth_date\"])\n",
    "trips_df.fillna(value=0, inplace=True)"
   ]
  },
  {
   "cell_type": "code",
   "execution_count": null,
   "metadata": {
    "colab": {
     "base_uri": "https://localhost:8080/",
     "height": 34
    },
    "colab_type": "code",
    "executionInfo": {
     "elapsed": 1339,
     "status": "ok",
     "timestamp": 1593908794778,
     "user": {
      "displayName": "Chris Frease",
      "photoUrl": "",
      "userId": "02139911760055165379"
     },
     "user_tz": 300
    },
    "id": "WSNg1jmwPsS3",
    "outputId": "b6b239f2-c0e9-4768-ac4c-824cdbd7c966"
   },
   "outputs": [
    {
     "data": {
      "text/plain": [
       "923.0146846543805"
      ]
     },
     "execution_count": 45,
     "metadata": {
      "tags": []
     },
     "output_type": "execute_result"
    }
   ],
   "source": [
    "thirty_n_over = trips_df[(trips_df['birth_date'] < 1987)]\n",
    "thirty_n_over['duration'].mean()"
   ]
  },
  {
   "cell_type": "markdown",
   "metadata": {
    "colab_type": "text",
    "id": "9jupZIFAC8Lb"
   },
   "source": [
    "## Which station is the most frequent starting point?"
   ]
  },
  {
   "cell_type": "code",
   "execution_count": null,
   "metadata": {
    "colab": {
     "base_uri": "https://localhost:8080/",
     "height": 204
    },
    "colab_type": "code",
    "executionInfo": {
     "elapsed": 2257,
     "status": "ok",
     "timestamp": 1593913032884,
     "user": {
      "displayName": "Chris Frease",
      "photoUrl": "",
      "userId": "02139911760055165379"
     },
     "user_tz": 300
    },
    "id": "MHPCmR11mJX8",
    "outputId": "c1c3f894-963c-4ab7-e4d0-9553816be78b"
   },
   "outputs": [
    {
     "data": {
      "text/html": [
       "<div>\n",
       "<style scoped>\n",
       "    .dataframe tbody tr th:only-of-type {\n",
       "        vertical-align: middle;\n",
       "    }\n",
       "\n",
       "    .dataframe tbody tr th {\n",
       "        vertical-align: top;\n",
       "    }\n",
       "\n",
       "    .dataframe thead th {\n",
       "        text-align: right;\n",
       "    }\n",
       "</style>\n",
       "<table border=\"1\" class=\"dataframe\">\n",
       "  <thead>\n",
       "    <tr style=\"text-align: right;\">\n",
       "      <th></th>\n",
       "      <th>id</th>\n",
       "      <th>station</th>\n",
       "      <th>num</th>\n",
       "    </tr>\n",
       "  </thead>\n",
       "  <tbody>\n",
       "    <tr>\n",
       "      <th>0</th>\n",
       "      <td>22</td>\n",
       "      <td>South Station - 700 Atlantic Ave.</td>\n",
       "      <td>56123</td>\n",
       "    </tr>\n",
       "    <tr>\n",
       "      <th>1</th>\n",
       "      <td>36</td>\n",
       "      <td>Boston Public Library - 700 Boylston St.</td>\n",
       "      <td>41994</td>\n",
       "    </tr>\n",
       "    <tr>\n",
       "      <th>2</th>\n",
       "      <td>53</td>\n",
       "      <td>Beacon St / Mass Ave</td>\n",
       "      <td>35275</td>\n",
       "    </tr>\n",
       "    <tr>\n",
       "      <th>3</th>\n",
       "      <td>67</td>\n",
       "      <td>MIT at Mass Ave / Amherst St</td>\n",
       "      <td>33644</td>\n",
       "    </tr>\n",
       "    <tr>\n",
       "      <th>4</th>\n",
       "      <td>16</td>\n",
       "      <td>Back Bay / South End Station</td>\n",
       "      <td>32677</td>\n",
       "    </tr>\n",
       "  </tbody>\n",
       "</table>\n",
       "</div>"
      ],
      "text/plain": [
       "   id                                   station    num\n",
       "0  22         South Station - 700 Atlantic Ave.  56123\n",
       "1  36  Boston Public Library - 700 Boylston St.  41994\n",
       "2  53                      Beacon St / Mass Ave  35275\n",
       "3  67              MIT at Mass Ave / Amherst St  33644\n",
       "4  16              Back Bay / South End Station  32677"
      ]
     },
     "execution_count": 81,
     "metadata": {
      "tags": []
     },
     "output_type": "execute_result"
    }
   ],
   "source": [
    "query = 'select s.id, s.station, count(*) as num \\\n",
    "from trips as t \\\n",
    "join stations as s \\\n",
    "on t.start_station = s.id \\\n",
    "group by s.id, s.station \\\n",
    "order by num \\\n",
    "desc limit 5;'\n",
    "run_query(query)"
   ]
  },
  {
   "cell_type": "code",
   "execution_count": null,
   "metadata": {
    "colab": {
     "base_uri": "https://localhost:8080/",
     "height": 204
    },
    "colab_type": "code",
    "executionInfo": {
     "elapsed": 767,
     "status": "ok",
     "timestamp": 1593819589394,
     "user": {
      "displayName": "Chris Frease",
      "photoUrl": "",
      "userId": "02139911760055165379"
     },
     "user_tz": 300
    },
    "id": "L45vzq_k3ijF",
    "outputId": "9b85ef32-81dd-49d8-dbb3-1f2b58c9d570"
   },
   "outputs": [
    {
     "data": {
      "text/html": [
       "<div>\n",
       "<style scoped>\n",
       "    .dataframe tbody tr th:only-of-type {\n",
       "        vertical-align: middle;\n",
       "    }\n",
       "\n",
       "    .dataframe tbody tr th {\n",
       "        vertical-align: top;\n",
       "    }\n",
       "\n",
       "    .dataframe thead th {\n",
       "        text-align: right;\n",
       "    }\n",
       "</style>\n",
       "<table border=\"1\" class=\"dataframe\">\n",
       "  <thead>\n",
       "    <tr style=\"text-align: right;\">\n",
       "      <th></th>\n",
       "      <th>id</th>\n",
       "      <th>duration</th>\n",
       "      <th>start_date</th>\n",
       "      <th>start_station</th>\n",
       "      <th>end_date</th>\n",
       "      <th>end_station</th>\n",
       "      <th>bike_number</th>\n",
       "      <th>sub_type</th>\n",
       "      <th>zip_code</th>\n",
       "      <th>birth_date</th>\n",
       "      <th>gender</th>\n",
       "    </tr>\n",
       "  </thead>\n",
       "  <tbody>\n",
       "    <tr>\n",
       "      <th>0</th>\n",
       "      <td>1</td>\n",
       "      <td>9</td>\n",
       "      <td>2011-07-28 10:12:00</td>\n",
       "      <td>23</td>\n",
       "      <td>2011-07-28 10:12:00</td>\n",
       "      <td>23</td>\n",
       "      <td>B00468</td>\n",
       "      <td>Registered</td>\n",
       "      <td>'97217</td>\n",
       "      <td>1976</td>\n",
       "      <td>Male</td>\n",
       "    </tr>\n",
       "    <tr>\n",
       "      <th>1</th>\n",
       "      <td>2</td>\n",
       "      <td>220</td>\n",
       "      <td>2011-07-28 10:21:00</td>\n",
       "      <td>23</td>\n",
       "      <td>2011-07-28 10:25:00</td>\n",
       "      <td>23</td>\n",
       "      <td>B00554</td>\n",
       "      <td>Registered</td>\n",
       "      <td>'02215</td>\n",
       "      <td>1966</td>\n",
       "      <td>Male</td>\n",
       "    </tr>\n",
       "    <tr>\n",
       "      <th>2</th>\n",
       "      <td>3</td>\n",
       "      <td>56</td>\n",
       "      <td>2011-07-28 10:33:00</td>\n",
       "      <td>23</td>\n",
       "      <td>2011-07-28 10:34:00</td>\n",
       "      <td>23</td>\n",
       "      <td>B00456</td>\n",
       "      <td>Registered</td>\n",
       "      <td>'02108</td>\n",
       "      <td>1943</td>\n",
       "      <td>Male</td>\n",
       "    </tr>\n",
       "    <tr>\n",
       "      <th>3</th>\n",
       "      <td>4</td>\n",
       "      <td>64</td>\n",
       "      <td>2011-07-28 10:35:00</td>\n",
       "      <td>23</td>\n",
       "      <td>2011-07-28 10:36:00</td>\n",
       "      <td>23</td>\n",
       "      <td>B00554</td>\n",
       "      <td>Registered</td>\n",
       "      <td>'02116</td>\n",
       "      <td>1981</td>\n",
       "      <td>Female</td>\n",
       "    </tr>\n",
       "    <tr>\n",
       "      <th>4</th>\n",
       "      <td>5</td>\n",
       "      <td>12</td>\n",
       "      <td>2011-07-28 10:37:00</td>\n",
       "      <td>23</td>\n",
       "      <td>2011-07-28 10:37:00</td>\n",
       "      <td>23</td>\n",
       "      <td>B00554</td>\n",
       "      <td>Registered</td>\n",
       "      <td>'97214</td>\n",
       "      <td>1983</td>\n",
       "      <td>Female</td>\n",
       "    </tr>\n",
       "  </tbody>\n",
       "</table>\n",
       "</div>"
      ],
      "text/plain": [
       "   id  duration           start_date  ... zip_code birth_date  gender\n",
       "0   1         9  2011-07-28 10:12:00  ...   '97217       1976    Male\n",
       "1   2       220  2011-07-28 10:21:00  ...   '02215       1966    Male\n",
       "2   3        56  2011-07-28 10:33:00  ...   '02108       1943    Male\n",
       "3   4        64  2011-07-28 10:35:00  ...   '02116       1981  Female\n",
       "4   5        12  2011-07-28 10:37:00  ...   '97214       1983  Female\n",
       "\n",
       "[5 rows x 11 columns]"
      ]
     },
     "execution_count": 196,
     "metadata": {
      "tags": []
     },
     "output_type": "execute_result"
    }
   ],
   "source": [
    "trips_df.head()"
   ]
  },
  {
   "cell_type": "code",
   "execution_count": null,
   "metadata": {
    "colab": {
     "base_uri": "https://localhost:8080/",
     "height": 204
    },
    "colab_type": "code",
    "executionInfo": {
     "elapsed": 423,
     "status": "ok",
     "timestamp": 1593819591824,
     "user": {
      "displayName": "Chris Frease",
      "photoUrl": "",
      "userId": "02139911760055165379"
     },
     "user_tz": 300
    },
    "id": "WUFNow0ADCwo",
    "outputId": "7c3c1e02-d6ba-4b2c-80f8-37b33b4ff727"
   },
   "outputs": [
    {
     "data": {
      "text/html": [
       "<div>\n",
       "<style scoped>\n",
       "    .dataframe tbody tr th:only-of-type {\n",
       "        vertical-align: middle;\n",
       "    }\n",
       "\n",
       "    .dataframe tbody tr th {\n",
       "        vertical-align: top;\n",
       "    }\n",
       "\n",
       "    .dataframe thead th {\n",
       "        text-align: right;\n",
       "    }\n",
       "</style>\n",
       "<table border=\"1\" class=\"dataframe\">\n",
       "  <thead>\n",
       "    <tr style=\"text-align: right;\">\n",
       "      <th></th>\n",
       "      <th>id</th>\n",
       "      <th>station</th>\n",
       "      <th>municipality</th>\n",
       "      <th>lat</th>\n",
       "      <th>lng</th>\n",
       "    </tr>\n",
       "  </thead>\n",
       "  <tbody>\n",
       "    <tr>\n",
       "      <th>0</th>\n",
       "      <td>3</td>\n",
       "      <td>Colleges of the Fenway</td>\n",
       "      <td>Boston</td>\n",
       "      <td>42.340021</td>\n",
       "      <td>-71.100812</td>\n",
       "    </tr>\n",
       "    <tr>\n",
       "      <th>1</th>\n",
       "      <td>4</td>\n",
       "      <td>Tremont St. at Berkeley St.</td>\n",
       "      <td>Boston</td>\n",
       "      <td>42.345392</td>\n",
       "      <td>-71.069616</td>\n",
       "    </tr>\n",
       "    <tr>\n",
       "      <th>2</th>\n",
       "      <td>5</td>\n",
       "      <td>Northeastern U / North Parking Lot</td>\n",
       "      <td>Boston</td>\n",
       "      <td>42.341814</td>\n",
       "      <td>-71.090179</td>\n",
       "    </tr>\n",
       "    <tr>\n",
       "      <th>3</th>\n",
       "      <td>6</td>\n",
       "      <td>Cambridge St. at Joy St.</td>\n",
       "      <td>Boston</td>\n",
       "      <td>42.361284999999995</td>\n",
       "      <td>-71.06514</td>\n",
       "    </tr>\n",
       "    <tr>\n",
       "      <th>4</th>\n",
       "      <td>7</td>\n",
       "      <td>Fan Pier</td>\n",
       "      <td>Boston</td>\n",
       "      <td>42.353412</td>\n",
       "      <td>-71.044624</td>\n",
       "    </tr>\n",
       "  </tbody>\n",
       "</table>\n",
       "</div>"
      ],
      "text/plain": [
       "   id                             station  ...                 lat         lng\n",
       "0   3              Colleges of the Fenway  ...           42.340021  -71.100812\n",
       "1   4         Tremont St. at Berkeley St.  ...           42.345392  -71.069616\n",
       "2   5  Northeastern U / North Parking Lot  ...           42.341814  -71.090179\n",
       "3   6            Cambridge St. at Joy St.  ...  42.361284999999995   -71.06514\n",
       "4   7                            Fan Pier  ...           42.353412  -71.044624\n",
       "\n",
       "[5 rows x 5 columns]"
      ]
     },
     "execution_count": 197,
     "metadata": {
      "tags": []
     },
     "output_type": "execute_result"
    }
   ],
   "source": [
    "stations_df.head()"
   ]
  },
  {
   "cell_type": "code",
   "execution_count": null,
   "metadata": {
    "colab": {
     "base_uri": "https://localhost:8080/",
     "height": 204
    },
    "colab_type": "code",
    "executionInfo": {
     "elapsed": 3270,
     "status": "ok",
     "timestamp": 1593819857037,
     "user": {
      "displayName": "Chris Frease",
      "photoUrl": "",
      "userId": "02139911760055165379"
     },
     "user_tz": 300
    },
    "id": "IOiByjNPDEp4",
    "outputId": "f0e2888c-2cc4-4c29-df2c-d7860fa74568"
   },
   "outputs": [
    {
     "data": {
      "text/html": [
       "<div>\n",
       "<style scoped>\n",
       "    .dataframe tbody tr th:only-of-type {\n",
       "        vertical-align: middle;\n",
       "    }\n",
       "\n",
       "    .dataframe tbody tr th {\n",
       "        vertical-align: top;\n",
       "    }\n",
       "\n",
       "    .dataframe thead th {\n",
       "        text-align: right;\n",
       "    }\n",
       "</style>\n",
       "<table border=\"1\" class=\"dataframe\">\n",
       "  <thead>\n",
       "    <tr style=\"text-align: right;\">\n",
       "      <th></th>\n",
       "      <th>id_x</th>\n",
       "      <th>duration</th>\n",
       "      <th>start_date</th>\n",
       "      <th>start_station</th>\n",
       "      <th>end_date</th>\n",
       "      <th>end_station</th>\n",
       "      <th>bike_number</th>\n",
       "      <th>sub_type</th>\n",
       "      <th>zip_code</th>\n",
       "      <th>birth_date</th>\n",
       "      <th>gender</th>\n",
       "      <th>id_y</th>\n",
       "      <th>station</th>\n",
       "      <th>municipality</th>\n",
       "      <th>lat</th>\n",
       "      <th>lng</th>\n",
       "    </tr>\n",
       "  </thead>\n",
       "  <tbody>\n",
       "    <tr>\n",
       "      <th>0</th>\n",
       "      <td>1</td>\n",
       "      <td>9</td>\n",
       "      <td>2011-07-28 10:12:00</td>\n",
       "      <td>23</td>\n",
       "      <td>2011-07-28 10:12:00</td>\n",
       "      <td>23</td>\n",
       "      <td>B00468</td>\n",
       "      <td>Registered</td>\n",
       "      <td>'97217</td>\n",
       "      <td>1976</td>\n",
       "      <td>Male</td>\n",
       "      <td>23</td>\n",
       "      <td>Mayor Thomas M. Menino - Government Center</td>\n",
       "      <td>Boston</td>\n",
       "      <td>42.359677000000005</td>\n",
       "      <td>-71.059364</td>\n",
       "    </tr>\n",
       "    <tr>\n",
       "      <th>1</th>\n",
       "      <td>2</td>\n",
       "      <td>220</td>\n",
       "      <td>2011-07-28 10:21:00</td>\n",
       "      <td>23</td>\n",
       "      <td>2011-07-28 10:25:00</td>\n",
       "      <td>23</td>\n",
       "      <td>B00554</td>\n",
       "      <td>Registered</td>\n",
       "      <td>'02215</td>\n",
       "      <td>1966</td>\n",
       "      <td>Male</td>\n",
       "      <td>23</td>\n",
       "      <td>Mayor Thomas M. Menino - Government Center</td>\n",
       "      <td>Boston</td>\n",
       "      <td>42.359677000000005</td>\n",
       "      <td>-71.059364</td>\n",
       "    </tr>\n",
       "    <tr>\n",
       "      <th>2</th>\n",
       "      <td>3</td>\n",
       "      <td>56</td>\n",
       "      <td>2011-07-28 10:33:00</td>\n",
       "      <td>23</td>\n",
       "      <td>2011-07-28 10:34:00</td>\n",
       "      <td>23</td>\n",
       "      <td>B00456</td>\n",
       "      <td>Registered</td>\n",
       "      <td>'02108</td>\n",
       "      <td>1943</td>\n",
       "      <td>Male</td>\n",
       "      <td>23</td>\n",
       "      <td>Mayor Thomas M. Menino - Government Center</td>\n",
       "      <td>Boston</td>\n",
       "      <td>42.359677000000005</td>\n",
       "      <td>-71.059364</td>\n",
       "    </tr>\n",
       "    <tr>\n",
       "      <th>3</th>\n",
       "      <td>4</td>\n",
       "      <td>64</td>\n",
       "      <td>2011-07-28 10:35:00</td>\n",
       "      <td>23</td>\n",
       "      <td>2011-07-28 10:36:00</td>\n",
       "      <td>23</td>\n",
       "      <td>B00554</td>\n",
       "      <td>Registered</td>\n",
       "      <td>'02116</td>\n",
       "      <td>1981</td>\n",
       "      <td>Female</td>\n",
       "      <td>23</td>\n",
       "      <td>Mayor Thomas M. Menino - Government Center</td>\n",
       "      <td>Boston</td>\n",
       "      <td>42.359677000000005</td>\n",
       "      <td>-71.059364</td>\n",
       "    </tr>\n",
       "    <tr>\n",
       "      <th>4</th>\n",
       "      <td>5</td>\n",
       "      <td>12</td>\n",
       "      <td>2011-07-28 10:37:00</td>\n",
       "      <td>23</td>\n",
       "      <td>2011-07-28 10:37:00</td>\n",
       "      <td>23</td>\n",
       "      <td>B00554</td>\n",
       "      <td>Registered</td>\n",
       "      <td>'97214</td>\n",
       "      <td>1983</td>\n",
       "      <td>Female</td>\n",
       "      <td>23</td>\n",
       "      <td>Mayor Thomas M. Menino - Government Center</td>\n",
       "      <td>Boston</td>\n",
       "      <td>42.359677000000005</td>\n",
       "      <td>-71.059364</td>\n",
       "    </tr>\n",
       "  </tbody>\n",
       "</table>\n",
       "</div>"
      ],
      "text/plain": [
       "   id_x  duration  ...                 lat         lng\n",
       "0     1         9  ...  42.359677000000005  -71.059364\n",
       "1     2       220  ...  42.359677000000005  -71.059364\n",
       "2     3        56  ...  42.359677000000005  -71.059364\n",
       "3     4        64  ...  42.359677000000005  -71.059364\n",
       "4     5        12  ...  42.359677000000005  -71.059364\n",
       "\n",
       "[5 rows x 16 columns]"
      ]
     },
     "execution_count": 202,
     "metadata": {
      "tags": []
     },
     "output_type": "execute_result"
    }
   ],
   "source": [
    "merged_df = pd.merge(left=trips_df, right=stations_df, left_on='start_station', right_on='id')\n",
    "merged_df.head()"
   ]
  },
  {
   "cell_type": "code",
   "execution_count": null,
   "metadata": {
    "colab": {
     "base_uri": "https://localhost:8080/",
     "height": 119
    },
    "colab_type": "code",
    "executionInfo": {
     "elapsed": 935,
     "status": "ok",
     "timestamp": 1593820721881,
     "user": {
      "displayName": "Chris Frease",
      "photoUrl": "",
      "userId": "02139911760055165379"
     },
     "user_tz": 300
    },
    "id": "I6hTZornDlwx",
    "outputId": "fd0b0f20-6b77-45da-f610-d4d4f98c4ab7"
   },
   "outputs": [
    {
     "data": {
      "text/plain": [
       "South Station - 700 Atlantic Ave.                56123\n",
       "Boston Public Library - 700 Boylston St.         41994\n",
       "Charles Circle - Charles St. at Cambridge St.    35984\n",
       "Beacon St / Mass Ave                             35275\n",
       "MIT at Mass Ave / Amherst St                     33644\n",
       "Name: station, dtype: int64"
      ]
     },
     "execution_count": 223,
     "metadata": {
      "tags": []
     },
     "output_type": "execute_result"
    }
   ],
   "source": [
    "merged_df['station'].value_counts()[:5]"
   ]
  },
  {
   "cell_type": "markdown",
   "metadata": {
    "colab_type": "text",
    "id": "tb42tW17XhI4"
   },
   "source": [
    "##Which stations are most frequently used for round trips?"
   ]
  },
  {
   "cell_type": "code",
   "execution_count": null,
   "metadata": {
    "colab": {
     "base_uri": "https://localhost:8080/",
     "height": 204
    },
    "colab_type": "code",
    "executionInfo": {
     "elapsed": 413,
     "status": "ok",
     "timestamp": 1593913294090,
     "user": {
      "displayName": "Chris Frease",
      "photoUrl": "",
      "userId": "02139911760055165379"
     },
     "user_tz": 300
    },
    "id": "aovigqjLspIv",
    "outputId": "96a55d82-26b2-4a2d-dddc-4fe75fc32fbb"
   },
   "outputs": [
    {
     "data": {
      "text/html": [
       "<div>\n",
       "<style scoped>\n",
       "    .dataframe tbody tr th:only-of-type {\n",
       "        vertical-align: middle;\n",
       "    }\n",
       "\n",
       "    .dataframe tbody tr th {\n",
       "        vertical-align: top;\n",
       "    }\n",
       "\n",
       "    .dataframe thead th {\n",
       "        text-align: right;\n",
       "    }\n",
       "</style>\n",
       "<table border=\"1\" class=\"dataframe\">\n",
       "  <thead>\n",
       "    <tr style=\"text-align: right;\">\n",
       "      <th></th>\n",
       "      <th>station</th>\n",
       "      <th>num</th>\n",
       "    </tr>\n",
       "  </thead>\n",
       "  <tbody>\n",
       "    <tr>\n",
       "      <th>0</th>\n",
       "      <td>The Esplanade - Beacon St. at Arlington St.</td>\n",
       "      <td>3064</td>\n",
       "    </tr>\n",
       "    <tr>\n",
       "      <th>1</th>\n",
       "      <td>Charles Circle - Charles St. at Cambridge St.</td>\n",
       "      <td>2739</td>\n",
       "    </tr>\n",
       "    <tr>\n",
       "      <th>2</th>\n",
       "      <td>Boston Public Library - 700 Boylston St.</td>\n",
       "      <td>2548</td>\n",
       "    </tr>\n",
       "    <tr>\n",
       "      <th>3</th>\n",
       "      <td>Boylston St. at Arlington St.</td>\n",
       "      <td>2163</td>\n",
       "    </tr>\n",
       "    <tr>\n",
       "      <th>4</th>\n",
       "      <td>Beacon St / Mass Ave</td>\n",
       "      <td>2144</td>\n",
       "    </tr>\n",
       "  </tbody>\n",
       "</table>\n",
       "</div>"
      ],
      "text/plain": [
       "                                         station   num\n",
       "0    The Esplanade - Beacon St. at Arlington St.  3064\n",
       "1  Charles Circle - Charles St. at Cambridge St.  2739\n",
       "2       Boston Public Library - 700 Boylston St.  2548\n",
       "3                  Boylston St. at Arlington St.  2163\n",
       "4                           Beacon St / Mass Ave  2144"
      ]
     },
     "execution_count": 83,
     "metadata": {
      "tags": []
     },
     "output_type": "execute_result"
    }
   ],
   "source": [
    "query = 'select s.station, count(*) as num \\\n",
    "from trips as t \\\n",
    "join stations as s \\\n",
    "on t.start_station = s.id \\\n",
    "and t.start_station = t.end_station \\\n",
    "group by s.station \\\n",
    "order by num desc \\\n",
    "limit 5;'\n",
    "run_query(query)"
   ]
  },
  {
   "cell_type": "code",
   "execution_count": null,
   "metadata": {
    "colab": {},
    "colab_type": "code",
    "id": "9ooshTV-vMV1"
   },
   "outputs": [],
   "source": [
    "import numpy as np"
   ]
  },
  {
   "cell_type": "code",
   "execution_count": null,
   "metadata": {
    "colab": {
     "base_uri": "https://localhost:8080/",
     "height": 204
    },
    "colab_type": "code",
    "executionInfo": {
     "elapsed": 719,
     "status": "ok",
     "timestamp": 1593837221988,
     "user": {
      "displayName": "Chris Frease",
      "photoUrl": "",
      "userId": "02139911760055165379"
     },
     "user_tz": 300
    },
    "id": "VFrb-9t2wHzd",
    "outputId": "c2331b20-8ed0-437c-c3a5-f12de5a90634"
   },
   "outputs": [
    {
     "data": {
      "text/html": [
       "<div>\n",
       "<style scoped>\n",
       "    .dataframe tbody tr th:only-of-type {\n",
       "        vertical-align: middle;\n",
       "    }\n",
       "\n",
       "    .dataframe tbody tr th {\n",
       "        vertical-align: top;\n",
       "    }\n",
       "\n",
       "    .dataframe thead th {\n",
       "        text-align: right;\n",
       "    }\n",
       "</style>\n",
       "<table border=\"1\" class=\"dataframe\">\n",
       "  <thead>\n",
       "    <tr style=\"text-align: right;\">\n",
       "      <th></th>\n",
       "      <th>start_station</th>\n",
       "      <th>end_station</th>\n",
       "    </tr>\n",
       "  </thead>\n",
       "  <tbody>\n",
       "    <tr>\n",
       "      <th>0</th>\n",
       "      <td>23</td>\n",
       "      <td>23</td>\n",
       "    </tr>\n",
       "    <tr>\n",
       "      <th>1</th>\n",
       "      <td>23</td>\n",
       "      <td>23</td>\n",
       "    </tr>\n",
       "    <tr>\n",
       "      <th>2</th>\n",
       "      <td>23</td>\n",
       "      <td>23</td>\n",
       "    </tr>\n",
       "    <tr>\n",
       "      <th>3</th>\n",
       "      <td>23</td>\n",
       "      <td>23</td>\n",
       "    </tr>\n",
       "    <tr>\n",
       "      <th>4</th>\n",
       "      <td>23</td>\n",
       "      <td>23</td>\n",
       "    </tr>\n",
       "  </tbody>\n",
       "</table>\n",
       "</div>"
      ],
      "text/plain": [
       "  start_station end_station\n",
       "0            23          23\n",
       "1            23          23\n",
       "2            23          23\n",
       "3            23          23\n",
       "4            23          23"
      ]
     },
     "execution_count": 219,
     "metadata": {
      "tags": []
     },
     "output_type": "execute_result"
    }
   ],
   "source": [
    "round_trip = trips_df[['start_station','end_station']]"
   ]
  },
  {
   "cell_type": "code",
   "execution_count": null,
   "metadata": {
    "colab": {},
    "colab_type": "code",
    "id": "T79kJ56WFuoF"
   },
   "outputs": [],
   "source": [
    "# round_trip = round_trip.copy()\n",
    "# round_trip[\"equal\"] = (np.where(round_trip['start_station'] == round_trip['end_station'], True, False))"
   ]
  },
  {
   "cell_type": "code",
   "execution_count": null,
   "metadata": {
    "colab": {},
    "colab_type": "code",
    "id": "pewJTbnaGc5K"
   },
   "outputs": [],
   "source": [
    "# round_trip.copy()[\"equal\"] = np.where(round_trip['start_station'] == round_trip['end_station'], True, False)"
   ]
  },
  {
   "cell_type": "code",
   "execution_count": null,
   "metadata": {
    "colab": {},
    "colab_type": "code",
    "id": "VCMGUoqF_2aF"
   },
   "outputs": [],
   "source": [
    "round_trip = round_trip.copy()\n",
    "round_trip.loc[round_trip['start_station'] == round_trip['end_station'], 'equal'] = True\n",
    "round_trip.loc[round_trip['start_station'] != round_trip['end_station'], 'equal'] = False"
   ]
  },
  {
   "cell_type": "code",
   "execution_count": null,
   "metadata": {
    "colab": {
     "base_uri": "https://localhost:8080/",
     "height": 119
    },
    "colab_type": "code",
    "executionInfo": {
     "elapsed": 757,
     "status": "ok",
     "timestamp": 1593837464610,
     "user": {
      "displayName": "Chris Frease",
      "photoUrl": "",
      "userId": "02139911760055165379"
     },
     "user_tz": 300
    },
    "id": "F9gVBaaOvR4u",
    "outputId": "c2bdee01-3303-4cfc-b200-a8d555f074c3"
   },
   "outputs": [
    {
     "name": "stderr",
     "output_type": "stream",
     "text": [
      "/usr/local/lib/python3.6/dist-packages/ipykernel_launcher.py:1: SettingWithCopyWarning: \n",
      "A value is trying to be set on a copy of a slice from a DataFrame.\n",
      "Try using .loc[row_indexer,col_indexer] = value instead\n",
      "\n",
      "See the caveats in the documentation: https://pandas.pydata.org/pandas-docs/stable/user_guide/indexing.html#returning-a-view-versus-a-copy\n",
      "  \"\"\"Entry point for launching an IPython kernel.\n"
     ]
    }
   ],
   "source": [
    "# round_trip.copy().loc[round_trip.copy()['start_station'] == round_trip.copy()['end_station'], 'equal'] = True\n",
    "# round_trip.copy().loc[round_trip.copy()['start_station'] != round_trip.copy()['end_station'], 'equal'] = False"
   ]
  },
  {
   "cell_type": "code",
   "execution_count": null,
   "metadata": {
    "colab": {
     "base_uri": "https://localhost:8080/",
     "height": 68
    },
    "colab_type": "code",
    "executionInfo": {
     "elapsed": 362,
     "status": "ok",
     "timestamp": 1593837665978,
     "user": {
      "displayName": "Chris Frease",
      "photoUrl": "",
      "userId": "02139911760055165379"
     },
     "user_tz": 300
    },
    "id": "amZFpNQLd1Hf",
    "outputId": "e7905e07-e0dd-4d56-b884-29646d1fd12c"
   },
   "outputs": [
    {
     "data": {
      "text/plain": [
       "False    1496933\n",
       "True       73068\n",
       "Name: equal, dtype: int64"
      ]
     },
     "execution_count": 247,
     "metadata": {
      "tags": []
     },
     "output_type": "execute_result"
    }
   ],
   "source": [
    "round_trip['equal'].value_counts()"
   ]
  },
  {
   "cell_type": "code",
   "execution_count": null,
   "metadata": {
    "colab": {
     "base_uri": "https://localhost:8080/",
     "height": 204
    },
    "colab_type": "code",
    "executionInfo": {
     "elapsed": 856,
     "status": "ok",
     "timestamp": 1593837666912,
     "user": {
      "displayName": "Chris Frease",
      "photoUrl": "",
      "userId": "02139911760055165379"
     },
     "user_tz": 300
    },
    "id": "eSfu0xeryXrX",
    "outputId": "bf31a699-4b01-44a2-9390-50696c601fda"
   },
   "outputs": [
    {
     "data": {
      "text/html": [
       "<div>\n",
       "<style scoped>\n",
       "    .dataframe tbody tr th:only-of-type {\n",
       "        vertical-align: middle;\n",
       "    }\n",
       "\n",
       "    .dataframe tbody tr th {\n",
       "        vertical-align: top;\n",
       "    }\n",
       "\n",
       "    .dataframe thead th {\n",
       "        text-align: right;\n",
       "    }\n",
       "</style>\n",
       "<table border=\"1\" class=\"dataframe\">\n",
       "  <thead>\n",
       "    <tr style=\"text-align: right;\">\n",
       "      <th></th>\n",
       "      <th>id</th>\n",
       "      <th>station</th>\n",
       "    </tr>\n",
       "  </thead>\n",
       "  <tbody>\n",
       "    <tr>\n",
       "      <th>0</th>\n",
       "      <td>3</td>\n",
       "      <td>Colleges of the Fenway</td>\n",
       "    </tr>\n",
       "    <tr>\n",
       "      <th>1</th>\n",
       "      <td>4</td>\n",
       "      <td>Tremont St. at Berkeley St.</td>\n",
       "    </tr>\n",
       "    <tr>\n",
       "      <th>2</th>\n",
       "      <td>5</td>\n",
       "      <td>Northeastern U / North Parking Lot</td>\n",
       "    </tr>\n",
       "    <tr>\n",
       "      <th>3</th>\n",
       "      <td>6</td>\n",
       "      <td>Cambridge St. at Joy St.</td>\n",
       "    </tr>\n",
       "    <tr>\n",
       "      <th>4</th>\n",
       "      <td>7</td>\n",
       "      <td>Fan Pier</td>\n",
       "    </tr>\n",
       "  </tbody>\n",
       "</table>\n",
       "</div>"
      ],
      "text/plain": [
       "   id                             station\n",
       "0   3              Colleges of the Fenway\n",
       "1   4         Tremont St. at Berkeley St.\n",
       "2   5  Northeastern U / North Parking Lot\n",
       "3   6            Cambridge St. at Joy St.\n",
       "4   7                            Fan Pier"
      ]
     },
     "execution_count": 248,
     "metadata": {
      "tags": []
     },
     "output_type": "execute_result"
    }
   ],
   "source": [
    "station_name = stations_df[['id','station']]\n",
    "station_name.head()"
   ]
  },
  {
   "cell_type": "code",
   "execution_count": null,
   "metadata": {
    "colab": {
     "base_uri": "https://localhost:8080/",
     "height": 204
    },
    "colab_type": "code",
    "executionInfo": {
     "elapsed": 1396,
     "status": "ok",
     "timestamp": 1593837668004,
     "user": {
      "displayName": "Chris Frease",
      "photoUrl": "",
      "userId": "02139911760055165379"
     },
     "user_tz": 300
    },
    "id": "Zz2LpwWvwpko",
    "outputId": "7d14866f-3b91-4a36-ab71-739d388749a3"
   },
   "outputs": [
    {
     "data": {
      "text/html": [
       "<div>\n",
       "<style scoped>\n",
       "    .dataframe tbody tr th:only-of-type {\n",
       "        vertical-align: middle;\n",
       "    }\n",
       "\n",
       "    .dataframe tbody tr th {\n",
       "        vertical-align: top;\n",
       "    }\n",
       "\n",
       "    .dataframe thead th {\n",
       "        text-align: right;\n",
       "    }\n",
       "</style>\n",
       "<table border=\"1\" class=\"dataframe\">\n",
       "  <thead>\n",
       "    <tr style=\"text-align: right;\">\n",
       "      <th></th>\n",
       "      <th>start_station</th>\n",
       "      <th>end_station</th>\n",
       "      <th>equal</th>\n",
       "      <th>id</th>\n",
       "      <th>station</th>\n",
       "    </tr>\n",
       "  </thead>\n",
       "  <tbody>\n",
       "    <tr>\n",
       "      <th>0</th>\n",
       "      <td>23</td>\n",
       "      <td>23</td>\n",
       "      <td>True</td>\n",
       "      <td>23</td>\n",
       "      <td>Mayor Thomas M. Menino - Government Center</td>\n",
       "    </tr>\n",
       "    <tr>\n",
       "      <th>1</th>\n",
       "      <td>23</td>\n",
       "      <td>23</td>\n",
       "      <td>True</td>\n",
       "      <td>23</td>\n",
       "      <td>Mayor Thomas M. Menino - Government Center</td>\n",
       "    </tr>\n",
       "    <tr>\n",
       "      <th>2</th>\n",
       "      <td>23</td>\n",
       "      <td>23</td>\n",
       "      <td>True</td>\n",
       "      <td>23</td>\n",
       "      <td>Mayor Thomas M. Menino - Government Center</td>\n",
       "    </tr>\n",
       "    <tr>\n",
       "      <th>3</th>\n",
       "      <td>23</td>\n",
       "      <td>23</td>\n",
       "      <td>True</td>\n",
       "      <td>23</td>\n",
       "      <td>Mayor Thomas M. Menino - Government Center</td>\n",
       "    </tr>\n",
       "    <tr>\n",
       "      <th>4</th>\n",
       "      <td>23</td>\n",
       "      <td>23</td>\n",
       "      <td>True</td>\n",
       "      <td>23</td>\n",
       "      <td>Mayor Thomas M. Menino - Government Center</td>\n",
       "    </tr>\n",
       "  </tbody>\n",
       "</table>\n",
       "</div>"
      ],
      "text/plain": [
       "  start_station end_station  ...  id                                     station\n",
       "0            23          23  ...  23  Mayor Thomas M. Menino - Government Center\n",
       "1            23          23  ...  23  Mayor Thomas M. Menino - Government Center\n",
       "2            23          23  ...  23  Mayor Thomas M. Menino - Government Center\n",
       "3            23          23  ...  23  Mayor Thomas M. Menino - Government Center\n",
       "4            23          23  ...  23  Mayor Thomas M. Menino - Government Center\n",
       "\n",
       "[5 rows x 5 columns]"
      ]
     },
     "execution_count": 249,
     "metadata": {
      "tags": []
     },
     "output_type": "execute_result"
    }
   ],
   "source": [
    "merged_df2 = pd.merge(left=round_trip, right=station_name, left_on='start_station', right_on='id')\n",
    "merged_df2.head()"
   ]
  },
  {
   "cell_type": "code",
   "execution_count": null,
   "metadata": {
    "colab": {
     "base_uri": "https://localhost:8080/",
     "height": 204
    },
    "colab_type": "code",
    "executionInfo": {
     "elapsed": 820,
     "status": "ok",
     "timestamp": 1593837668005,
     "user": {
      "displayName": "Chris Frease",
      "photoUrl": "",
      "userId": "02139911760055165379"
     },
     "user_tz": 300
    },
    "id": "qPw89eKtyTw0",
    "outputId": "b8fc8786-a2ef-4f73-b398-8f60a728ba88"
   },
   "outputs": [
    {
     "data": {
      "text/html": [
       "<div>\n",
       "<style scoped>\n",
       "    .dataframe tbody tr th:only-of-type {\n",
       "        vertical-align: middle;\n",
       "    }\n",
       "\n",
       "    .dataframe tbody tr th {\n",
       "        vertical-align: top;\n",
       "    }\n",
       "\n",
       "    .dataframe thead th {\n",
       "        text-align: right;\n",
       "    }\n",
       "</style>\n",
       "<table border=\"1\" class=\"dataframe\">\n",
       "  <thead>\n",
       "    <tr style=\"text-align: right;\">\n",
       "      <th></th>\n",
       "      <th>start_station</th>\n",
       "      <th>end_station</th>\n",
       "      <th>equal</th>\n",
       "      <th>id</th>\n",
       "      <th>station</th>\n",
       "    </tr>\n",
       "  </thead>\n",
       "  <tbody>\n",
       "    <tr>\n",
       "      <th>0</th>\n",
       "      <td>23</td>\n",
       "      <td>23</td>\n",
       "      <td>True</td>\n",
       "      <td>23</td>\n",
       "      <td>Mayor Thomas M. Menino - Government Center</td>\n",
       "    </tr>\n",
       "    <tr>\n",
       "      <th>1</th>\n",
       "      <td>23</td>\n",
       "      <td>23</td>\n",
       "      <td>True</td>\n",
       "      <td>23</td>\n",
       "      <td>Mayor Thomas M. Menino - Government Center</td>\n",
       "    </tr>\n",
       "    <tr>\n",
       "      <th>2</th>\n",
       "      <td>23</td>\n",
       "      <td>23</td>\n",
       "      <td>True</td>\n",
       "      <td>23</td>\n",
       "      <td>Mayor Thomas M. Menino - Government Center</td>\n",
       "    </tr>\n",
       "    <tr>\n",
       "      <th>3</th>\n",
       "      <td>23</td>\n",
       "      <td>23</td>\n",
       "      <td>True</td>\n",
       "      <td>23</td>\n",
       "      <td>Mayor Thomas M. Menino - Government Center</td>\n",
       "    </tr>\n",
       "    <tr>\n",
       "      <th>4</th>\n",
       "      <td>23</td>\n",
       "      <td>23</td>\n",
       "      <td>True</td>\n",
       "      <td>23</td>\n",
       "      <td>Mayor Thomas M. Menino - Government Center</td>\n",
       "    </tr>\n",
       "  </tbody>\n",
       "</table>\n",
       "</div>"
      ],
      "text/plain": [
       "  start_station end_station  ...  id                                     station\n",
       "0            23          23  ...  23  Mayor Thomas M. Menino - Government Center\n",
       "1            23          23  ...  23  Mayor Thomas M. Menino - Government Center\n",
       "2            23          23  ...  23  Mayor Thomas M. Menino - Government Center\n",
       "3            23          23  ...  23  Mayor Thomas M. Menino - Government Center\n",
       "4            23          23  ...  23  Mayor Thomas M. Menino - Government Center\n",
       "\n",
       "[5 rows x 5 columns]"
      ]
     },
     "execution_count": 250,
     "metadata": {
      "tags": []
     },
     "output_type": "execute_result"
    }
   ],
   "source": [
    "new_df = merged_df2[(merged_df2['equal']==True)]\n",
    "new_df.head()"
   ]
  },
  {
   "cell_type": "code",
   "execution_count": null,
   "metadata": {
    "colab": {
     "base_uri": "https://localhost:8080/",
     "height": 204
    },
    "colab_type": "code",
    "executionInfo": {
     "elapsed": 7624,
     "status": "ok",
     "timestamp": 1593842856851,
     "user": {
      "displayName": "Chris Frease",
      "photoUrl": "",
      "userId": "02139911760055165379"
     },
     "user_tz": 300
    },
    "id": "Bsb8qSIhzHFr",
    "outputId": "886e17ca-f1fd-4bfc-d1fc-20f116aec283"
   },
   "outputs": [
    {
     "data": {
      "text/html": [
       "<div>\n",
       "<style scoped>\n",
       "    .dataframe tbody tr th:only-of-type {\n",
       "        vertical-align: middle;\n",
       "    }\n",
       "\n",
       "    .dataframe tbody tr th {\n",
       "        vertical-align: top;\n",
       "    }\n",
       "\n",
       "    .dataframe thead th {\n",
       "        text-align: right;\n",
       "    }\n",
       "</style>\n",
       "<table border=\"1\" class=\"dataframe\">\n",
       "  <thead>\n",
       "    <tr style=\"text-align: right;\">\n",
       "      <th></th>\n",
       "      <th>station</th>\n",
       "    </tr>\n",
       "  </thead>\n",
       "  <tbody>\n",
       "    <tr>\n",
       "      <th>The Esplanade - Beacon St. at Arlington St.</th>\n",
       "      <td>3064</td>\n",
       "    </tr>\n",
       "    <tr>\n",
       "      <th>Charles Circle - Charles St. at Cambridge St.</th>\n",
       "      <td>2739</td>\n",
       "    </tr>\n",
       "    <tr>\n",
       "      <th>Boston Public Library - 700 Boylston St.</th>\n",
       "      <td>2548</td>\n",
       "    </tr>\n",
       "    <tr>\n",
       "      <th>Boylston St. at Arlington St.</th>\n",
       "      <td>2163</td>\n",
       "    </tr>\n",
       "    <tr>\n",
       "      <th>Beacon St / Mass Ave</th>\n",
       "      <td>2144</td>\n",
       "    </tr>\n",
       "  </tbody>\n",
       "</table>\n",
       "</div>"
      ],
      "text/plain": [
       "                                               station\n",
       "The Esplanade - Beacon St. at Arlington St.       3064\n",
       "Charles Circle - Charles St. at Cambridge St.     2739\n",
       "Boston Public Library - 700 Boylston St.          2548\n",
       "Boylston St. at Arlington St.                     2163\n",
       "Beacon St / Mass Ave                              2144"
      ]
     },
     "execution_count": 272,
     "metadata": {
      "tags": []
     },
     "output_type": "execute_result"
    }
   ],
   "source": [
    "s_df = new_df['station'].value_counts()[0:5]\n",
    "s_df = pd.DataFrame(s_df)\n",
    "s_df"
   ]
  },
  {
   "cell_type": "code",
   "execution_count": null,
   "metadata": {
    "colab": {},
    "colab_type": "code",
    "id": "SxoYdcFYa6tV"
   },
   "outputs": [],
   "source": []
  },
  {
   "cell_type": "markdown",
   "metadata": {
    "colab_type": "text",
    "id": "1gnbvfRG2uiH"
   },
   "source": [
    "##8 How many trips start and end in different municipalities?"
   ]
  },
  {
   "cell_type": "code",
   "execution_count": null,
   "metadata": {
    "colab": {
     "base_uri": "https://localhost:8080/",
     "height": 80
    },
    "colab_type": "code",
    "executionInfo": {
     "elapsed": 1423,
     "status": "ok",
     "timestamp": 1593915602910,
     "user": {
      "displayName": "Chris Frease",
      "photoUrl": "",
      "userId": "02139911760055165379"
     },
     "user_tz": 300
    },
    "id": "2SAmTfolpSO0",
    "outputId": "84d33fbf-6236-4f4b-e4ca-3e848f20a88c"
   },
   "outputs": [
    {
     "data": {
      "text/html": [
       "<div>\n",
       "<style scoped>\n",
       "    .dataframe tbody tr th:only-of-type {\n",
       "        vertical-align: middle;\n",
       "    }\n",
       "\n",
       "    .dataframe tbody tr th {\n",
       "        vertical-align: top;\n",
       "    }\n",
       "\n",
       "    .dataframe thead th {\n",
       "        text-align: right;\n",
       "    }\n",
       "</style>\n",
       "<table border=\"1\" class=\"dataframe\">\n",
       "  <thead>\n",
       "    <tr style=\"text-align: right;\">\n",
       "      <th></th>\n",
       "      <th>count(*)</th>\n",
       "    </tr>\n",
       "  </thead>\n",
       "  <tbody>\n",
       "    <tr>\n",
       "      <th>0</th>\n",
       "      <td>309748</td>\n",
       "    </tr>\n",
       "  </tbody>\n",
       "</table>\n",
       "</div>"
      ],
      "text/plain": [
       "   count(*)\n",
       "0    309748"
      ]
     },
     "execution_count": 95,
     "metadata": {
      "tags": []
     },
     "output_type": "execute_result"
    }
   ],
   "source": [
    "query = 'select count(*) from trips as t \\\n",
    "join stations as s \\\n",
    "on t.start_station = s.id \\\n",
    "join stations as e \\\n",
    "on t.end_station = e.id \\\n",
    "where s.municipality != e.municipality;'\n",
    "run_query(query)"
   ]
  },
  {
   "cell_type": "code",
   "execution_count": null,
   "metadata": {
    "colab": {
     "base_uri": "https://localhost:8080/",
     "height": 204
    },
    "colab_type": "code",
    "executionInfo": {
     "elapsed": 704,
     "status": "ok",
     "timestamp": 1593837669320,
     "user": {
      "displayName": "Chris Frease",
      "photoUrl": "",
      "userId": "02139911760055165379"
     },
     "user_tz": 300
    },
    "id": "hRVbIyll5yuM",
    "outputId": "19dbadb5-b66b-4d66-b5b6-cd9ab370e80a"
   },
   "outputs": [
    {
     "data": {
      "text/html": [
       "<div>\n",
       "<style scoped>\n",
       "    .dataframe tbody tr th:only-of-type {\n",
       "        vertical-align: middle;\n",
       "    }\n",
       "\n",
       "    .dataframe tbody tr th {\n",
       "        vertical-align: top;\n",
       "    }\n",
       "\n",
       "    .dataframe thead th {\n",
       "        text-align: right;\n",
       "    }\n",
       "</style>\n",
       "<table border=\"1\" class=\"dataframe\">\n",
       "  <thead>\n",
       "    <tr style=\"text-align: right;\">\n",
       "      <th></th>\n",
       "      <th>id</th>\n",
       "      <th>municipality</th>\n",
       "    </tr>\n",
       "  </thead>\n",
       "  <tbody>\n",
       "    <tr>\n",
       "      <th>0</th>\n",
       "      <td>3</td>\n",
       "      <td>Boston</td>\n",
       "    </tr>\n",
       "    <tr>\n",
       "      <th>1</th>\n",
       "      <td>4</td>\n",
       "      <td>Boston</td>\n",
       "    </tr>\n",
       "    <tr>\n",
       "      <th>2</th>\n",
       "      <td>5</td>\n",
       "      <td>Boston</td>\n",
       "    </tr>\n",
       "    <tr>\n",
       "      <th>3</th>\n",
       "      <td>6</td>\n",
       "      <td>Boston</td>\n",
       "    </tr>\n",
       "    <tr>\n",
       "      <th>4</th>\n",
       "      <td>7</td>\n",
       "      <td>Boston</td>\n",
       "    </tr>\n",
       "  </tbody>\n",
       "</table>\n",
       "</div>"
      ],
      "text/plain": [
       "   id municipality\n",
       "0   3       Boston\n",
       "1   4       Boston\n",
       "2   5       Boston\n",
       "3   6       Boston\n",
       "4   7       Boston"
      ]
     },
     "execution_count": 252,
     "metadata": {
      "tags": []
     },
     "output_type": "execute_result"
    }
   ],
   "source": [
    "m_name = stations_df[['id', 'municipality']]\n",
    "m_name.head()"
   ]
  },
  {
   "cell_type": "code",
   "execution_count": null,
   "metadata": {
    "colab": {
     "base_uri": "https://localhost:8080/",
     "height": 204
    },
    "colab_type": "code",
    "executionInfo": {
     "elapsed": 957,
     "status": "ok",
     "timestamp": 1593834758716,
     "user": {
      "displayName": "Chris Frease",
      "photoUrl": "",
      "userId": "02139911760055165379"
     },
     "user_tz": 300
    },
    "id": "pToaDzcA6TiU",
    "outputId": "5ce7d423-2bda-4e85-e469-13a9e2739a9b"
   },
   "outputs": [
    {
     "data": {
      "text/html": [
       "<div>\n",
       "<style scoped>\n",
       "    .dataframe tbody tr th:only-of-type {\n",
       "        vertical-align: middle;\n",
       "    }\n",
       "\n",
       "    .dataframe tbody tr th {\n",
       "        vertical-align: top;\n",
       "    }\n",
       "\n",
       "    .dataframe thead th {\n",
       "        text-align: right;\n",
       "    }\n",
       "</style>\n",
       "<table border=\"1\" class=\"dataframe\">\n",
       "  <thead>\n",
       "    <tr style=\"text-align: right;\">\n",
       "      <th></th>\n",
       "      <th>start_station</th>\n",
       "      <th>end_station</th>\n",
       "      <th>equal</th>\n",
       "      <th>id</th>\n",
       "      <th>municipality</th>\n",
       "    </tr>\n",
       "  </thead>\n",
       "  <tbody>\n",
       "    <tr>\n",
       "      <th>0</th>\n",
       "      <td>23</td>\n",
       "      <td>23</td>\n",
       "      <td>True</td>\n",
       "      <td>23</td>\n",
       "      <td>Boston</td>\n",
       "    </tr>\n",
       "    <tr>\n",
       "      <th>1</th>\n",
       "      <td>23</td>\n",
       "      <td>23</td>\n",
       "      <td>True</td>\n",
       "      <td>23</td>\n",
       "      <td>Boston</td>\n",
       "    </tr>\n",
       "    <tr>\n",
       "      <th>2</th>\n",
       "      <td>23</td>\n",
       "      <td>23</td>\n",
       "      <td>True</td>\n",
       "      <td>23</td>\n",
       "      <td>Boston</td>\n",
       "    </tr>\n",
       "    <tr>\n",
       "      <th>3</th>\n",
       "      <td>23</td>\n",
       "      <td>23</td>\n",
       "      <td>True</td>\n",
       "      <td>23</td>\n",
       "      <td>Boston</td>\n",
       "    </tr>\n",
       "    <tr>\n",
       "      <th>4</th>\n",
       "      <td>23</td>\n",
       "      <td>23</td>\n",
       "      <td>True</td>\n",
       "      <td>23</td>\n",
       "      <td>Boston</td>\n",
       "    </tr>\n",
       "  </tbody>\n",
       "</table>\n",
       "</div>"
      ],
      "text/plain": [
       "  start_station end_station  equal  id municipality\n",
       "0            23          23   True  23       Boston\n",
       "1            23          23   True  23       Boston\n",
       "2            23          23   True  23       Boston\n",
       "3            23          23   True  23       Boston\n",
       "4            23          23   True  23       Boston"
      ]
     },
     "execution_count": 147,
     "metadata": {
      "tags": []
     },
     "output_type": "execute_result"
    }
   ],
   "source": [
    "m_df = pd.merge(left=round_trip, right=m_name, left_on='start_station', right_on='id')\n",
    "m_df.head()"
   ]
  },
  {
   "cell_type": "code",
   "execution_count": null,
   "metadata": {
    "colab": {
     "base_uri": "https://localhost:8080/",
     "height": 204
    },
    "colab_type": "code",
    "executionInfo": {
     "elapsed": 500,
     "status": "ok",
     "timestamp": 1593834760601,
     "user": {
      "displayName": "Chris Frease",
      "photoUrl": "",
      "userId": "02139911760055165379"
     },
     "user_tz": 300
    },
    "id": "FnWByd5U62f5",
    "outputId": "f905760a-f8f0-4c98-ea19-c00d20d07106"
   },
   "outputs": [
    {
     "data": {
      "text/html": [
       "<div>\n",
       "<style scoped>\n",
       "    .dataframe tbody tr th:only-of-type {\n",
       "        vertical-align: middle;\n",
       "    }\n",
       "\n",
       "    .dataframe tbody tr th {\n",
       "        vertical-align: top;\n",
       "    }\n",
       "\n",
       "    .dataframe thead th {\n",
       "        text-align: right;\n",
       "    }\n",
       "</style>\n",
       "<table border=\"1\" class=\"dataframe\">\n",
       "  <thead>\n",
       "    <tr style=\"text-align: right;\">\n",
       "      <th></th>\n",
       "      <th>start_station</th>\n",
       "      <th>m_ss</th>\n",
       "      <th>end_station</th>\n",
       "      <th>equal</th>\n",
       "    </tr>\n",
       "  </thead>\n",
       "  <tbody>\n",
       "    <tr>\n",
       "      <th>0</th>\n",
       "      <td>23</td>\n",
       "      <td>Boston</td>\n",
       "      <td>23</td>\n",
       "      <td>True</td>\n",
       "    </tr>\n",
       "    <tr>\n",
       "      <th>1</th>\n",
       "      <td>23</td>\n",
       "      <td>Boston</td>\n",
       "      <td>23</td>\n",
       "      <td>True</td>\n",
       "    </tr>\n",
       "    <tr>\n",
       "      <th>2</th>\n",
       "      <td>23</td>\n",
       "      <td>Boston</td>\n",
       "      <td>23</td>\n",
       "      <td>True</td>\n",
       "    </tr>\n",
       "    <tr>\n",
       "      <th>3</th>\n",
       "      <td>23</td>\n",
       "      <td>Boston</td>\n",
       "      <td>23</td>\n",
       "      <td>True</td>\n",
       "    </tr>\n",
       "    <tr>\n",
       "      <th>4</th>\n",
       "      <td>23</td>\n",
       "      <td>Boston</td>\n",
       "      <td>23</td>\n",
       "      <td>True</td>\n",
       "    </tr>\n",
       "  </tbody>\n",
       "</table>\n",
       "</div>"
      ],
      "text/plain": [
       "  start_station    m_ss end_station  equal\n",
       "0            23  Boston          23   True\n",
       "1            23  Boston          23   True\n",
       "2            23  Boston          23   True\n",
       "3            23  Boston          23   True\n",
       "4            23  Boston          23   True"
      ]
     },
     "execution_count": 149,
     "metadata": {
      "tags": []
     },
     "output_type": "execute_result"
    }
   ],
   "source": [
    "m_df.rename(columns={'municipality':'m_ss'}, inplace=True)\n",
    "column_move1 = m_df['m_ss']\n",
    "m_df.drop(labels=['m_ss'], axis=1, inplace=True)\n",
    "m_df.drop(labels=['id'], axis=1, inplace=True)\n",
    "m_df.insert(1,'m_ss', column_move1)\n",
    "m_df.head()\n"
   ]
  },
  {
   "cell_type": "code",
   "execution_count": null,
   "metadata": {
    "colab": {
     "base_uri": "https://localhost:8080/",
     "height": 204
    },
    "colab_type": "code",
    "executionInfo": {
     "elapsed": 973,
     "status": "ok",
     "timestamp": 1593834762038,
     "user": {
      "displayName": "Chris Frease",
      "photoUrl": "",
      "userId": "02139911760055165379"
     },
     "user_tz": 300
    },
    "id": "BIq1E59-695a",
    "outputId": "d89c5e44-56d0-49d5-d6c8-e22b6fd75f05"
   },
   "outputs": [
    {
     "data": {
      "text/html": [
       "<div>\n",
       "<style scoped>\n",
       "    .dataframe tbody tr th:only-of-type {\n",
       "        vertical-align: middle;\n",
       "    }\n",
       "\n",
       "    .dataframe tbody tr th {\n",
       "        vertical-align: top;\n",
       "    }\n",
       "\n",
       "    .dataframe thead th {\n",
       "        text-align: right;\n",
       "    }\n",
       "</style>\n",
       "<table border=\"1\" class=\"dataframe\">\n",
       "  <thead>\n",
       "    <tr style=\"text-align: right;\">\n",
       "      <th></th>\n",
       "      <th>start_station</th>\n",
       "      <th>m_ss</th>\n",
       "      <th>end_station</th>\n",
       "      <th>equal</th>\n",
       "      <th>id</th>\n",
       "      <th>municipality</th>\n",
       "    </tr>\n",
       "  </thead>\n",
       "  <tbody>\n",
       "    <tr>\n",
       "      <th>0</th>\n",
       "      <td>23</td>\n",
       "      <td>Boston</td>\n",
       "      <td>23</td>\n",
       "      <td>True</td>\n",
       "      <td>23</td>\n",
       "      <td>Boston</td>\n",
       "    </tr>\n",
       "    <tr>\n",
       "      <th>1</th>\n",
       "      <td>23</td>\n",
       "      <td>Boston</td>\n",
       "      <td>23</td>\n",
       "      <td>True</td>\n",
       "      <td>23</td>\n",
       "      <td>Boston</td>\n",
       "    </tr>\n",
       "    <tr>\n",
       "      <th>2</th>\n",
       "      <td>23</td>\n",
       "      <td>Boston</td>\n",
       "      <td>23</td>\n",
       "      <td>True</td>\n",
       "      <td>23</td>\n",
       "      <td>Boston</td>\n",
       "    </tr>\n",
       "    <tr>\n",
       "      <th>3</th>\n",
       "      <td>23</td>\n",
       "      <td>Boston</td>\n",
       "      <td>23</td>\n",
       "      <td>True</td>\n",
       "      <td>23</td>\n",
       "      <td>Boston</td>\n",
       "    </tr>\n",
       "    <tr>\n",
       "      <th>4</th>\n",
       "      <td>23</td>\n",
       "      <td>Boston</td>\n",
       "      <td>23</td>\n",
       "      <td>True</td>\n",
       "      <td>23</td>\n",
       "      <td>Boston</td>\n",
       "    </tr>\n",
       "  </tbody>\n",
       "</table>\n",
       "</div>"
      ],
      "text/plain": [
       "  start_station    m_ss end_station  equal  id municipality\n",
       "0            23  Boston          23   True  23       Boston\n",
       "1            23  Boston          23   True  23       Boston\n",
       "2            23  Boston          23   True  23       Boston\n",
       "3            23  Boston          23   True  23       Boston\n",
       "4            23  Boston          23   True  23       Boston"
      ]
     },
     "execution_count": 150,
     "metadata": {
      "tags": []
     },
     "output_type": "execute_result"
    }
   ],
   "source": [
    "m_df = pd.merge(left=m_df, right=m_name, left_on='end_station', right_on='id')\n",
    "m_df.head()"
   ]
  },
  {
   "cell_type": "code",
   "execution_count": null,
   "metadata": {
    "colab": {
     "base_uri": "https://localhost:8080/",
     "height": 204
    },
    "colab_type": "code",
    "executionInfo": {
     "elapsed": 649,
     "status": "ok",
     "timestamp": 1593834763690,
     "user": {
      "displayName": "Chris Frease",
      "photoUrl": "",
      "userId": "02139911760055165379"
     },
     "user_tz": 300
    },
    "id": "BXsc1luq7UER",
    "outputId": "f0188328-391d-429e-e637-c3034c772675"
   },
   "outputs": [
    {
     "data": {
      "text/html": [
       "<div>\n",
       "<style scoped>\n",
       "    .dataframe tbody tr th:only-of-type {\n",
       "        vertical-align: middle;\n",
       "    }\n",
       "\n",
       "    .dataframe tbody tr th {\n",
       "        vertical-align: top;\n",
       "    }\n",
       "\n",
       "    .dataframe thead th {\n",
       "        text-align: right;\n",
       "    }\n",
       "</style>\n",
       "<table border=\"1\" class=\"dataframe\">\n",
       "  <thead>\n",
       "    <tr style=\"text-align: right;\">\n",
       "      <th></th>\n",
       "      <th>start_station</th>\n",
       "      <th>m_ss</th>\n",
       "      <th>end_station</th>\n",
       "      <th>m_es</th>\n",
       "      <th>equal</th>\n",
       "    </tr>\n",
       "  </thead>\n",
       "  <tbody>\n",
       "    <tr>\n",
       "      <th>0</th>\n",
       "      <td>23</td>\n",
       "      <td>Boston</td>\n",
       "      <td>23</td>\n",
       "      <td>Boston</td>\n",
       "      <td>True</td>\n",
       "    </tr>\n",
       "    <tr>\n",
       "      <th>1</th>\n",
       "      <td>23</td>\n",
       "      <td>Boston</td>\n",
       "      <td>23</td>\n",
       "      <td>Boston</td>\n",
       "      <td>True</td>\n",
       "    </tr>\n",
       "    <tr>\n",
       "      <th>2</th>\n",
       "      <td>23</td>\n",
       "      <td>Boston</td>\n",
       "      <td>23</td>\n",
       "      <td>Boston</td>\n",
       "      <td>True</td>\n",
       "    </tr>\n",
       "    <tr>\n",
       "      <th>3</th>\n",
       "      <td>23</td>\n",
       "      <td>Boston</td>\n",
       "      <td>23</td>\n",
       "      <td>Boston</td>\n",
       "      <td>True</td>\n",
       "    </tr>\n",
       "    <tr>\n",
       "      <th>4</th>\n",
       "      <td>23</td>\n",
       "      <td>Boston</td>\n",
       "      <td>23</td>\n",
       "      <td>Boston</td>\n",
       "      <td>True</td>\n",
       "    </tr>\n",
       "  </tbody>\n",
       "</table>\n",
       "</div>"
      ],
      "text/plain": [
       "  start_station    m_ss end_station    m_es  equal\n",
       "0            23  Boston          23  Boston   True\n",
       "1            23  Boston          23  Boston   True\n",
       "2            23  Boston          23  Boston   True\n",
       "3            23  Boston          23  Boston   True\n",
       "4            23  Boston          23  Boston   True"
      ]
     },
     "execution_count": 152,
     "metadata": {
      "tags": []
     },
     "output_type": "execute_result"
    }
   ],
   "source": [
    "m_df.rename(columns={'municipality':'m_es'}, inplace=True)\n",
    "column_move1 = m_df['m_es']\n",
    "m_df.drop(labels=['m_es'], axis=1, inplace=True)\n",
    "m_df.drop(labels=['id'], axis=1, inplace=True)\n",
    "m_df.insert(3,'m_es', column_move1)\n",
    "m_df.head()"
   ]
  },
  {
   "cell_type": "code",
   "execution_count": null,
   "metadata": {
    "colab": {},
    "colab_type": "code",
    "id": "E6j93HPX7qMV"
   },
   "outputs": [],
   "source": [
    "m_df[\"diff\"] = np.where(m_df['m_ss'] != m_df['m_es'], True, False)"
   ]
  },
  {
   "cell_type": "code",
   "execution_count": null,
   "metadata": {
    "colab": {
     "base_uri": "https://localhost:8080/",
     "height": 204
    },
    "colab_type": "code",
    "executionInfo": {
     "elapsed": 753,
     "status": "ok",
     "timestamp": 1593834829635,
     "user": {
      "displayName": "Chris Frease",
      "photoUrl": "",
      "userId": "02139911760055165379"
     },
     "user_tz": 300
    },
    "id": "jrABBt2v838V",
    "outputId": "9404ee0e-45d7-4860-dbb1-ee8328c4a65e"
   },
   "outputs": [
    {
     "data": {
      "text/html": [
       "<div>\n",
       "<style scoped>\n",
       "    .dataframe tbody tr th:only-of-type {\n",
       "        vertical-align: middle;\n",
       "    }\n",
       "\n",
       "    .dataframe tbody tr th {\n",
       "        vertical-align: top;\n",
       "    }\n",
       "\n",
       "    .dataframe thead th {\n",
       "        text-align: right;\n",
       "    }\n",
       "</style>\n",
       "<table border=\"1\" class=\"dataframe\">\n",
       "  <thead>\n",
       "    <tr style=\"text-align: right;\">\n",
       "      <th></th>\n",
       "      <th>start_station</th>\n",
       "      <th>m_ss</th>\n",
       "      <th>end_station</th>\n",
       "      <th>m_es</th>\n",
       "      <th>equal</th>\n",
       "      <th>diff</th>\n",
       "    </tr>\n",
       "  </thead>\n",
       "  <tbody>\n",
       "    <tr>\n",
       "      <th>0</th>\n",
       "      <td>23</td>\n",
       "      <td>Boston</td>\n",
       "      <td>23</td>\n",
       "      <td>Boston</td>\n",
       "      <td>True</td>\n",
       "      <td>False</td>\n",
       "    </tr>\n",
       "    <tr>\n",
       "      <th>1</th>\n",
       "      <td>23</td>\n",
       "      <td>Boston</td>\n",
       "      <td>23</td>\n",
       "      <td>Boston</td>\n",
       "      <td>True</td>\n",
       "      <td>False</td>\n",
       "    </tr>\n",
       "    <tr>\n",
       "      <th>2</th>\n",
       "      <td>23</td>\n",
       "      <td>Boston</td>\n",
       "      <td>23</td>\n",
       "      <td>Boston</td>\n",
       "      <td>True</td>\n",
       "      <td>False</td>\n",
       "    </tr>\n",
       "    <tr>\n",
       "      <th>3</th>\n",
       "      <td>23</td>\n",
       "      <td>Boston</td>\n",
       "      <td>23</td>\n",
       "      <td>Boston</td>\n",
       "      <td>True</td>\n",
       "      <td>False</td>\n",
       "    </tr>\n",
       "    <tr>\n",
       "      <th>4</th>\n",
       "      <td>23</td>\n",
       "      <td>Boston</td>\n",
       "      <td>23</td>\n",
       "      <td>Boston</td>\n",
       "      <td>True</td>\n",
       "      <td>False</td>\n",
       "    </tr>\n",
       "  </tbody>\n",
       "</table>\n",
       "</div>"
      ],
      "text/plain": [
       "  start_station    m_ss end_station    m_es  equal   diff\n",
       "0            23  Boston          23  Boston   True  False\n",
       "1            23  Boston          23  Boston   True  False\n",
       "2            23  Boston          23  Boston   True  False\n",
       "3            23  Boston          23  Boston   True  False\n",
       "4            23  Boston          23  Boston   True  False"
      ]
     },
     "execution_count": 158,
     "metadata": {
      "tags": []
     },
     "output_type": "execute_result"
    }
   ],
   "source": [
    "m_df.head()"
   ]
  },
  {
   "cell_type": "code",
   "execution_count": null,
   "metadata": {
    "colab": {
     "base_uri": "https://localhost:8080/",
     "height": 68
    },
    "colab_type": "code",
    "executionInfo": {
     "elapsed": 750,
     "status": "ok",
     "timestamp": 1593834974394,
     "user": {
      "displayName": "Chris Frease",
      "photoUrl": "",
      "userId": "02139911760055165379"
     },
     "user_tz": 300
    },
    "id": "2lEsYu4A9KKk",
    "outputId": "02646605-1f25-49c7-8c86-1896acb4dda5"
   },
   "outputs": [
    {
     "data": {
      "text/plain": [
       "False    1260218\n",
       "True      309748\n",
       "Name: diff, dtype: int64"
      ]
     },
     "execution_count": 163,
     "metadata": {
      "tags": []
     },
     "output_type": "execute_result"
    }
   ],
   "source": [
    "m_df['diff'].value_counts()"
   ]
  },
  {
   "cell_type": "code",
   "execution_count": null,
   "metadata": {
    "colab": {
     "base_uri": "https://localhost:8080/",
     "height": 34
    },
    "colab_type": "code",
    "executionInfo": {
     "elapsed": 361,
     "status": "ok",
     "timestamp": 1593837678150,
     "user": {
      "displayName": "Chris Frease",
      "photoUrl": "",
      "userId": "02139911760055165379"
     },
     "user_tz": 300
    },
    "id": "ztEPjZ6X9cnV",
    "outputId": "cd513f79-0938-4a1d-d7e7-08273a083728"
   },
   "outputs": [
    {
     "data": {
      "text/plain": [
       "309748"
      ]
     },
     "execution_count": 253,
     "metadata": {
      "tags": []
     },
     "output_type": "execute_result"
    }
   ],
   "source": [
    "(m_df['diff']==True).sum()"
   ]
  },
  {
   "cell_type": "markdown",
   "metadata": {
    "colab_type": "text",
    "id": "Ht241ESzJuAx"
   },
   "source": [
    "## 9. How many trips incurred additional fees (lasted longer than 30 minutes)?"
   ]
  },
  {
   "cell_type": "code",
   "execution_count": null,
   "metadata": {
    "colab": {
     "base_uri": "https://localhost:8080/",
     "height": 35
    },
    "colab_type": "code",
    "executionInfo": {
     "elapsed": 406,
     "status": "ok",
     "timestamp": 1593842010404,
     "user": {
      "displayName": "Chris Frease",
      "photoUrl": "",
      "userId": "02139911760055165379"
     },
     "user_tz": 300
    },
    "id": "Q44F4SKCIuRQ",
    "outputId": "6bc73439-df99-4fbf-c1aa-5c71e099a04d"
   },
   "outputs": [
    {
     "data": {
      "text/plain": [
       "123155"
      ]
     },
     "execution_count": 268,
     "metadata": {
      "tags": []
     },
     "output_type": "execute_result"
    }
   ],
   "source": [
    "len(trips_df[(trips_df['duration'] > 60*30)])"
   ]
  },
  {
   "cell_type": "code",
   "execution_count": null,
   "metadata": {
    "colab": {
     "base_uri": "https://localhost:8080/",
     "height": 80
    },
    "colab_type": "code",
    "executionInfo": {
     "elapsed": 410,
     "status": "ok",
     "timestamp": 1593916441061,
     "user": {
      "displayName": "Chris Frease",
      "photoUrl": "",
      "userId": "02139911760055165379"
     },
     "user_tz": 300
    },
    "id": "su06F9CHxlEt",
    "outputId": "5c1e31ee-054d-40a9-ac43-752c16c92e4c"
   },
   "outputs": [
    {
     "data": {
      "text/html": [
       "<div>\n",
       "<style scoped>\n",
       "    .dataframe tbody tr th:only-of-type {\n",
       "        vertical-align: middle;\n",
       "    }\n",
       "\n",
       "    .dataframe tbody tr th {\n",
       "        vertical-align: top;\n",
       "    }\n",
       "\n",
       "    .dataframe thead th {\n",
       "        text-align: right;\n",
       "    }\n",
       "</style>\n",
       "<table border=\"1\" class=\"dataframe\">\n",
       "  <thead>\n",
       "    <tr style=\"text-align: right;\">\n",
       "      <th></th>\n",
       "      <th>count(*)</th>\n",
       "    </tr>\n",
       "  </thead>\n",
       "  <tbody>\n",
       "    <tr>\n",
       "      <th>0</th>\n",
       "      <td>123155</td>\n",
       "    </tr>\n",
       "  </tbody>\n",
       "</table>\n",
       "</div>"
      ],
      "text/plain": [
       "   count(*)\n",
       "0    123155"
      ]
     },
     "execution_count": 104,
     "metadata": {
      "tags": []
     },
     "output_type": "execute_result"
    }
   ],
   "source": [
    "query = 'select count(*) \\\n",
    "from trips \\\n",
    "where duration > 60 * 30;'\n",
    "run_query(query)"
   ]
  },
  {
   "cell_type": "markdown",
   "metadata": {
    "colab_type": "text",
    "id": "hFHnYoKXOkUn"
   },
   "source": [
    "## 10. Which bike was used for the longest total time?"
   ]
  },
  {
   "cell_type": "code",
   "execution_count": null,
   "metadata": {
    "colab": {
     "base_uri": "https://localhost:8080/",
     "height": 204
    },
    "colab_type": "code",
    "executionInfo": {
     "elapsed": 1514,
     "status": "ok",
     "timestamp": 1593966694178,
     "user": {
      "displayName": "Chris Frease",
      "photoUrl": "",
      "userId": "02139911760055165379"
     },
     "user_tz": 300
    },
    "id": "cZvLTBWvz7qy",
    "outputId": "f20f2f2a-5607-48fa-f023-4fc2afffa8c7"
   },
   "outputs": [
    {
     "data": {
      "text/html": [
       "<div>\n",
       "<style scoped>\n",
       "    .dataframe tbody tr th:only-of-type {\n",
       "        vertical-align: middle;\n",
       "    }\n",
       "\n",
       "    .dataframe tbody tr th {\n",
       "        vertical-align: top;\n",
       "    }\n",
       "\n",
       "    .dataframe thead th {\n",
       "        text-align: right;\n",
       "    }\n",
       "</style>\n",
       "<table border=\"1\" class=\"dataframe\">\n",
       "  <thead>\n",
       "    <tr style=\"text-align: right;\">\n",
       "      <th></th>\n",
       "      <th>bike_number</th>\n",
       "      <th>num</th>\n",
       "    </tr>\n",
       "  </thead>\n",
       "  <tbody>\n",
       "    <tr>\n",
       "      <th>0</th>\n",
       "      <td>B00490</td>\n",
       "      <td>2058643</td>\n",
       "    </tr>\n",
       "    <tr>\n",
       "      <th>1</th>\n",
       "      <td>B00548</td>\n",
       "      <td>1996532</td>\n",
       "    </tr>\n",
       "    <tr>\n",
       "      <th>2</th>\n",
       "      <td>B00329</td>\n",
       "      <td>1986397</td>\n",
       "    </tr>\n",
       "    <tr>\n",
       "      <th>3</th>\n",
       "      <td>B00268</td>\n",
       "      <td>1969755</td>\n",
       "    </tr>\n",
       "    <tr>\n",
       "      <th>4</th>\n",
       "      <td>B00355</td>\n",
       "      <td>1965279</td>\n",
       "    </tr>\n",
       "  </tbody>\n",
       "</table>\n",
       "</div>"
      ],
      "text/plain": [
       "  bike_number      num\n",
       "0      B00490  2058643\n",
       "1      B00548  1996532\n",
       "2      B00329  1986397\n",
       "3      B00268  1969755\n",
       "4      B00355  1965279"
      ]
     },
     "execution_count": 4,
     "metadata": {
      "tags": []
     },
     "output_type": "execute_result"
    }
   ],
   "source": [
    "query = 'select bike_number, sum(duration) as num \\\n",
    "from trips \\\n",
    "group by bike_number \\\n",
    "order by num desc \\\n",
    "limit 5;'\n",
    "run_query(query)"
   ]
  },
  {
   "cell_type": "code",
   "execution_count": null,
   "metadata": {
    "colab": {
     "base_uri": "https://localhost:8080/",
     "height": 80
    },
    "colab_type": "code",
    "executionInfo": {
     "elapsed": 1425,
     "status": "ok",
     "timestamp": 1593966830368,
     "user": {
      "displayName": "Chris Frease",
      "photoUrl": "",
      "userId": "02139911760055165379"
     },
     "user_tz": 300
    },
    "id": "09T4s4170kdu",
    "outputId": "0e25e898-0d46-4167-a2e5-93c75f196a86"
   },
   "outputs": [
    {
     "data": {
      "text/html": [
       "<div>\n",
       "<style scoped>\n",
       "    .dataframe tbody tr th:only-of-type {\n",
       "        vertical-align: middle;\n",
       "    }\n",
       "\n",
       "    .dataframe tbody tr th {\n",
       "        vertical-align: top;\n",
       "    }\n",
       "\n",
       "    .dataframe thead th {\n",
       "        text-align: right;\n",
       "    }\n",
       "</style>\n",
       "<table border=\"1\" class=\"dataframe\">\n",
       "  <thead>\n",
       "    <tr style=\"text-align: right;\">\n",
       "      <th></th>\n",
       "      <th>bike_number</th>\n",
       "      <th>max(num)</th>\n",
       "    </tr>\n",
       "  </thead>\n",
       "  <tbody>\n",
       "    <tr>\n",
       "      <th>0</th>\n",
       "      <td>B00490</td>\n",
       "      <td>2058643</td>\n",
       "    </tr>\n",
       "  </tbody>\n",
       "</table>\n",
       "</div>"
      ],
      "text/plain": [
       "  bike_number  max(num)\n",
       "0      B00490   2058643"
      ]
     },
     "execution_count": 6,
     "metadata": {
      "tags": []
     },
     "output_type": "execute_result"
    }
   ],
   "source": [
    "query = 'select bike_number, max(num) \\\n",
    "from (select bike_number, sum(duration) as num \\\n",
    "from trips \\\n",
    "group by bike_number \\\n",
    "order by num desc);'\n",
    "run_query(query)"
   ]
  },
  {
   "cell_type": "code",
   "execution_count": null,
   "metadata": {
    "colab": {
     "base_uri": "https://localhost:8080/",
     "height": 204
    },
    "colab_type": "code",
    "executionInfo": {
     "elapsed": 308,
     "status": "ok",
     "timestamp": 1593889689245,
     "user": {
      "displayName": "Chris Frease",
      "photoUrl": "",
      "userId": "02139911760055165379"
     },
     "user_tz": 300
    },
    "id": "3Vil4m1ROjkc",
    "outputId": "10e89bdd-0288-4d03-b0c9-b52e831829c4"
   },
   "outputs": [
    {
     "data": {
      "text/html": [
       "<div>\n",
       "<style scoped>\n",
       "    .dataframe tbody tr th:only-of-type {\n",
       "        vertical-align: middle;\n",
       "    }\n",
       "\n",
       "    .dataframe tbody tr th {\n",
       "        vertical-align: top;\n",
       "    }\n",
       "\n",
       "    .dataframe thead th {\n",
       "        text-align: right;\n",
       "    }\n",
       "</style>\n",
       "<table border=\"1\" class=\"dataframe\">\n",
       "  <thead>\n",
       "    <tr style=\"text-align: right;\">\n",
       "      <th></th>\n",
       "      <th>id</th>\n",
       "      <th>duration</th>\n",
       "      <th>start_date</th>\n",
       "      <th>start_station</th>\n",
       "      <th>end_date</th>\n",
       "      <th>end_station</th>\n",
       "      <th>bike_number</th>\n",
       "      <th>sub_type</th>\n",
       "      <th>zip_code</th>\n",
       "      <th>birth_date</th>\n",
       "      <th>gender</th>\n",
       "    </tr>\n",
       "  </thead>\n",
       "  <tbody>\n",
       "    <tr>\n",
       "      <th>0</th>\n",
       "      <td>1</td>\n",
       "      <td>9</td>\n",
       "      <td>2011-07-28 10:12:00</td>\n",
       "      <td>23</td>\n",
       "      <td>2011-07-28 10:12:00</td>\n",
       "      <td>23</td>\n",
       "      <td>B00468</td>\n",
       "      <td>Registered</td>\n",
       "      <td>'97217</td>\n",
       "      <td>1976</td>\n",
       "      <td>Male</td>\n",
       "    </tr>\n",
       "    <tr>\n",
       "      <th>1</th>\n",
       "      <td>2</td>\n",
       "      <td>220</td>\n",
       "      <td>2011-07-28 10:21:00</td>\n",
       "      <td>23</td>\n",
       "      <td>2011-07-28 10:25:00</td>\n",
       "      <td>23</td>\n",
       "      <td>B00554</td>\n",
       "      <td>Registered</td>\n",
       "      <td>'02215</td>\n",
       "      <td>1966</td>\n",
       "      <td>Male</td>\n",
       "    </tr>\n",
       "    <tr>\n",
       "      <th>2</th>\n",
       "      <td>3</td>\n",
       "      <td>56</td>\n",
       "      <td>2011-07-28 10:33:00</td>\n",
       "      <td>23</td>\n",
       "      <td>2011-07-28 10:34:00</td>\n",
       "      <td>23</td>\n",
       "      <td>B00456</td>\n",
       "      <td>Registered</td>\n",
       "      <td>'02108</td>\n",
       "      <td>1943</td>\n",
       "      <td>Male</td>\n",
       "    </tr>\n",
       "    <tr>\n",
       "      <th>3</th>\n",
       "      <td>4</td>\n",
       "      <td>64</td>\n",
       "      <td>2011-07-28 10:35:00</td>\n",
       "      <td>23</td>\n",
       "      <td>2011-07-28 10:36:00</td>\n",
       "      <td>23</td>\n",
       "      <td>B00554</td>\n",
       "      <td>Registered</td>\n",
       "      <td>'02116</td>\n",
       "      <td>1981</td>\n",
       "      <td>Female</td>\n",
       "    </tr>\n",
       "    <tr>\n",
       "      <th>4</th>\n",
       "      <td>5</td>\n",
       "      <td>12</td>\n",
       "      <td>2011-07-28 10:37:00</td>\n",
       "      <td>23</td>\n",
       "      <td>2011-07-28 10:37:00</td>\n",
       "      <td>23</td>\n",
       "      <td>B00554</td>\n",
       "      <td>Registered</td>\n",
       "      <td>'97214</td>\n",
       "      <td>1983</td>\n",
       "      <td>Female</td>\n",
       "    </tr>\n",
       "  </tbody>\n",
       "</table>\n",
       "</div>"
      ],
      "text/plain": [
       "   id  duration           start_date  ... zip_code birth_date  gender\n",
       "0   1         9  2011-07-28 10:12:00  ...   '97217       1976    Male\n",
       "1   2       220  2011-07-28 10:21:00  ...   '02215       1966    Male\n",
       "2   3        56  2011-07-28 10:33:00  ...   '02108       1943    Male\n",
       "3   4        64  2011-07-28 10:35:00  ...   '02116       1981  Female\n",
       "4   5        12  2011-07-28 10:37:00  ...   '97214       1983  Female\n",
       "\n",
       "[5 rows x 11 columns]"
      ]
     },
     "execution_count": 6,
     "metadata": {
      "tags": []
     },
     "output_type": "execute_result"
    }
   ],
   "source": [
    "trips_df.head()"
   ]
  },
  {
   "cell_type": "code",
   "execution_count": null,
   "metadata": {
    "colab": {
     "base_uri": "https://localhost:8080/",
     "height": 136
    },
    "colab_type": "code",
    "executionInfo": {
     "elapsed": 394,
     "status": "ok",
     "timestamp": 1593891035234,
     "user": {
      "displayName": "Chris Frease",
      "photoUrl": "",
      "userId": "02139911760055165379"
     },
     "user_tz": 300
    },
    "id": "05cYsxVLPpoz",
    "outputId": "0dd75137-1914-4a7b-d21a-fde235818dd4"
   },
   "outputs": [
    {
     "data": {
      "text/plain": [
       "bike_number\n",
       "B00490    2058643\n",
       "B00548    1996532\n",
       "B00329    1986397\n",
       "B00268    1969755\n",
       "B00355    1965279\n",
       "Name: duration, dtype: int64"
      ]
     },
     "execution_count": 45,
     "metadata": {
      "tags": []
     },
     "output_type": "execute_result"
    }
   ],
   "source": [
    "trips_df.groupby(['bike_number'])['duration'].sum().sort_values(ascending=False).head(5)"
   ]
  },
  {
   "cell_type": "markdown",
   "metadata": {
    "colab_type": "text",
    "id": "HOy84Co-T8Tx"
   },
   "source": [
    "## 11. Did registered or casual users take more round trips?"
   ]
  },
  {
   "cell_type": "code",
   "execution_count": null,
   "metadata": {
    "colab": {
     "base_uri": "https://localhost:8080/",
     "height": 111
    },
    "colab_type": "code",
    "executionInfo": {
     "elapsed": 570,
     "status": "ok",
     "timestamp": 1593916980042,
     "user": {
      "displayName": "Chris Frease",
      "photoUrl": "",
      "userId": "02139911760055165379"
     },
     "user_tz": 300
    },
    "id": "T3wfmEB306h7",
    "outputId": "2405ca18-45bf-4d17-be9d-dd627ff16f71"
   },
   "outputs": [
    {
     "data": {
      "text/html": [
       "<div>\n",
       "<style scoped>\n",
       "    .dataframe tbody tr th:only-of-type {\n",
       "        vertical-align: middle;\n",
       "    }\n",
       "\n",
       "    .dataframe tbody tr th {\n",
       "        vertical-align: top;\n",
       "    }\n",
       "\n",
       "    .dataframe thead th {\n",
       "        text-align: right;\n",
       "    }\n",
       "</style>\n",
       "<table border=\"1\" class=\"dataframe\">\n",
       "  <thead>\n",
       "    <tr style=\"text-align: right;\">\n",
       "      <th></th>\n",
       "      <th>sub_type</th>\n",
       "      <th>count(*)</th>\n",
       "    </tr>\n",
       "  </thead>\n",
       "  <tbody>\n",
       "    <tr>\n",
       "      <th>0</th>\n",
       "      <td>Casual</td>\n",
       "      <td>41427</td>\n",
       "    </tr>\n",
       "    <tr>\n",
       "      <th>1</th>\n",
       "      <td>Registered</td>\n",
       "      <td>31635</td>\n",
       "    </tr>\n",
       "  </tbody>\n",
       "</table>\n",
       "</div>"
      ],
      "text/plain": [
       "     sub_type  count(*)\n",
       "0      Casual     41427\n",
       "1  Registered     31635"
      ]
     },
     "execution_count": 110,
     "metadata": {
      "tags": []
     },
     "output_type": "execute_result"
    }
   ],
   "source": [
    "query = 'select t.sub_type, count(*) \\\n",
    "from trips as t \\\n",
    "join stations as ss \\\n",
    "on t.start_station = ss.id \\\n",
    "join stations as es \\\n",
    "on t.end_station = es.id \\\n",
    "where t.start_station = t.end_station \\\n",
    "group by sub_type'\n",
    "run_query(query)"
   ]
  },
  {
   "cell_type": "code",
   "execution_count": null,
   "metadata": {
    "colab": {
     "base_uri": "https://localhost:8080/",
     "height": 111
    },
    "colab_type": "code",
    "executionInfo": {
     "elapsed": 477,
     "status": "ok",
     "timestamp": 1593968441728,
     "user": {
      "displayName": "Chris Frease",
      "photoUrl": "",
      "userId": "02139911760055165379"
     },
     "user_tz": 300
    },
    "id": "wFzHLz2O67c-",
    "outputId": "a89820bd-30f6-4c7a-e7ed-e038c1d98568"
   },
   "outputs": [
    {
     "data": {
      "text/html": [
       "<div>\n",
       "<style scoped>\n",
       "    .dataframe tbody tr th:only-of-type {\n",
       "        vertical-align: middle;\n",
       "    }\n",
       "\n",
       "    .dataframe tbody tr th {\n",
       "        vertical-align: top;\n",
       "    }\n",
       "\n",
       "    .dataframe thead th {\n",
       "        text-align: right;\n",
       "    }\n",
       "</style>\n",
       "<table border=\"1\" class=\"dataframe\">\n",
       "  <thead>\n",
       "    <tr style=\"text-align: right;\">\n",
       "      <th></th>\n",
       "      <th>sub_type</th>\n",
       "      <th>count(*)</th>\n",
       "    </tr>\n",
       "  </thead>\n",
       "  <tbody>\n",
       "    <tr>\n",
       "      <th>0</th>\n",
       "      <td>Casual</td>\n",
       "      <td>41427</td>\n",
       "    </tr>\n",
       "    <tr>\n",
       "      <th>1</th>\n",
       "      <td>Registered</td>\n",
       "      <td>31635</td>\n",
       "    </tr>\n",
       "  </tbody>\n",
       "</table>\n",
       "</div>"
      ],
      "text/plain": [
       "     sub_type  count(*)\n",
       "0      Casual     41427\n",
       "1  Registered     31635"
      ]
     },
     "execution_count": 45,
     "metadata": {
      "tags": []
     },
     "output_type": "execute_result"
    }
   ],
   "source": [
    "query = 'select sub_type, count(*) \\\n",
    "from trips t, stations s \\\n",
    "where t.start_station = s.id \\\n",
    "and t.start_station = t.end_station \\\n",
    "group by sub_type \\\n",
    "order by count(*) desc;'\n",
    "run_query(query)"
   ]
  },
  {
   "cell_type": "code",
   "execution_count": null,
   "metadata": {
    "colab": {
     "base_uri": "https://localhost:8080/",
     "height": 204
    },
    "colab_type": "code",
    "executionInfo": {
     "elapsed": 1745,
     "status": "ok",
     "timestamp": 1593966947181,
     "user": {
      "displayName": "Chris Frease",
      "photoUrl": "",
      "userId": "02139911760055165379"
     },
     "user_tz": 300
    },
    "id": "NqfX03Ty7jV8",
    "outputId": "93695d48-9e1d-4aa6-8d8a-ac5cf02ba6bc"
   },
   "outputs": [
    {
     "data": {
      "text/html": [
       "<div>\n",
       "<style scoped>\n",
       "    .dataframe tbody tr th:only-of-type {\n",
       "        vertical-align: middle;\n",
       "    }\n",
       "\n",
       "    .dataframe tbody tr th {\n",
       "        vertical-align: top;\n",
       "    }\n",
       "\n",
       "    .dataframe thead th {\n",
       "        text-align: right;\n",
       "    }\n",
       "</style>\n",
       "<table border=\"1\" class=\"dataframe\">\n",
       "  <thead>\n",
       "    <tr style=\"text-align: right;\">\n",
       "      <th></th>\n",
       "      <th>start_station</th>\n",
       "      <th>end_station</th>\n",
       "      <th>duration</th>\n",
       "      <th>sub_type</th>\n",
       "      <th>id</th>\n",
       "      <th>station</th>\n",
       "    </tr>\n",
       "  </thead>\n",
       "  <tbody>\n",
       "    <tr>\n",
       "      <th>0</th>\n",
       "      <td>23</td>\n",
       "      <td>23</td>\n",
       "      <td>9</td>\n",
       "      <td>Registered</td>\n",
       "      <td>23</td>\n",
       "      <td>Mayor Thomas M. Menino - Government Center</td>\n",
       "    </tr>\n",
       "    <tr>\n",
       "      <th>1</th>\n",
       "      <td>23</td>\n",
       "      <td>23</td>\n",
       "      <td>220</td>\n",
       "      <td>Registered</td>\n",
       "      <td>23</td>\n",
       "      <td>Mayor Thomas M. Menino - Government Center</td>\n",
       "    </tr>\n",
       "    <tr>\n",
       "      <th>2</th>\n",
       "      <td>23</td>\n",
       "      <td>23</td>\n",
       "      <td>56</td>\n",
       "      <td>Registered</td>\n",
       "      <td>23</td>\n",
       "      <td>Mayor Thomas M. Menino - Government Center</td>\n",
       "    </tr>\n",
       "    <tr>\n",
       "      <th>3</th>\n",
       "      <td>23</td>\n",
       "      <td>23</td>\n",
       "      <td>64</td>\n",
       "      <td>Registered</td>\n",
       "      <td>23</td>\n",
       "      <td>Mayor Thomas M. Menino - Government Center</td>\n",
       "    </tr>\n",
       "    <tr>\n",
       "      <th>4</th>\n",
       "      <td>23</td>\n",
       "      <td>23</td>\n",
       "      <td>12</td>\n",
       "      <td>Registered</td>\n",
       "      <td>23</td>\n",
       "      <td>Mayor Thomas M. Menino - Government Center</td>\n",
       "    </tr>\n",
       "  </tbody>\n",
       "</table>\n",
       "</div>"
      ],
      "text/plain": [
       "  start_station end_station  ...  id                                     station\n",
       "0            23          23  ...  23  Mayor Thomas M. Menino - Government Center\n",
       "1            23          23  ...  23  Mayor Thomas M. Menino - Government Center\n",
       "2            23          23  ...  23  Mayor Thomas M. Menino - Government Center\n",
       "3            23          23  ...  23  Mayor Thomas M. Menino - Government Center\n",
       "4            23          23  ...  23  Mayor Thomas M. Menino - Government Center\n",
       "\n",
       "[5 rows x 6 columns]"
      ]
     },
     "execution_count": 10,
     "metadata": {
      "tags": []
     },
     "output_type": "execute_result"
    }
   ],
   "source": [
    "round_trip = trips_df[['start_station','end_station', 'duration', 'sub_type']]\n",
    "s_name = stations_df[['id', 'station']]\n",
    "s_df = pd.merge(left=round_trip, right=s_name, left_on='start_station', right_on='id')\n",
    "s_df.head()"
   ]
  },
  {
   "cell_type": "code",
   "execution_count": null,
   "metadata": {
    "colab": {
     "base_uri": "https://localhost:8080/",
     "height": 204
    },
    "colab_type": "code",
    "executionInfo": {
     "elapsed": 962,
     "status": "ok",
     "timestamp": 1593966969728,
     "user": {
      "displayName": "Chris Frease",
      "photoUrl": "",
      "userId": "02139911760055165379"
     },
     "user_tz": 300
    },
    "id": "GQHmzsdX7ohO",
    "outputId": "b145b062-367e-43e2-d701-03116f5750d7"
   },
   "outputs": [
    {
     "data": {
      "text/html": [
       "<div>\n",
       "<style scoped>\n",
       "    .dataframe tbody tr th:only-of-type {\n",
       "        vertical-align: middle;\n",
       "    }\n",
       "\n",
       "    .dataframe tbody tr th {\n",
       "        vertical-align: top;\n",
       "    }\n",
       "\n",
       "    .dataframe thead th {\n",
       "        text-align: right;\n",
       "    }\n",
       "</style>\n",
       "<table border=\"1\" class=\"dataframe\">\n",
       "  <thead>\n",
       "    <tr style=\"text-align: right;\">\n",
       "      <th></th>\n",
       "      <th>start_station</th>\n",
       "      <th>s_ss</th>\n",
       "      <th>end_station</th>\n",
       "      <th>duration</th>\n",
       "      <th>sub_type</th>\n",
       "    </tr>\n",
       "  </thead>\n",
       "  <tbody>\n",
       "    <tr>\n",
       "      <th>0</th>\n",
       "      <td>23</td>\n",
       "      <td>Mayor Thomas M. Menino - Government Center</td>\n",
       "      <td>23</td>\n",
       "      <td>9</td>\n",
       "      <td>Registered</td>\n",
       "    </tr>\n",
       "    <tr>\n",
       "      <th>1</th>\n",
       "      <td>23</td>\n",
       "      <td>Mayor Thomas M. Menino - Government Center</td>\n",
       "      <td>23</td>\n",
       "      <td>220</td>\n",
       "      <td>Registered</td>\n",
       "    </tr>\n",
       "    <tr>\n",
       "      <th>2</th>\n",
       "      <td>23</td>\n",
       "      <td>Mayor Thomas M. Menino - Government Center</td>\n",
       "      <td>23</td>\n",
       "      <td>56</td>\n",
       "      <td>Registered</td>\n",
       "    </tr>\n",
       "    <tr>\n",
       "      <th>3</th>\n",
       "      <td>23</td>\n",
       "      <td>Mayor Thomas M. Menino - Government Center</td>\n",
       "      <td>23</td>\n",
       "      <td>64</td>\n",
       "      <td>Registered</td>\n",
       "    </tr>\n",
       "    <tr>\n",
       "      <th>4</th>\n",
       "      <td>23</td>\n",
       "      <td>Mayor Thomas M. Menino - Government Center</td>\n",
       "      <td>23</td>\n",
       "      <td>12</td>\n",
       "      <td>Registered</td>\n",
       "    </tr>\n",
       "  </tbody>\n",
       "</table>\n",
       "</div>"
      ],
      "text/plain": [
       "  start_station  ...    sub_type\n",
       "0            23  ...  Registered\n",
       "1            23  ...  Registered\n",
       "2            23  ...  Registered\n",
       "3            23  ...  Registered\n",
       "4            23  ...  Registered\n",
       "\n",
       "[5 rows x 5 columns]"
      ]
     },
     "execution_count": 11,
     "metadata": {
      "tags": []
     },
     "output_type": "execute_result"
    }
   ],
   "source": [
    "s_df.rename(columns={'station':'s_ss'}, inplace=True)\n",
    "column_move1 = s_df['s_ss']\n",
    "s_df.drop(labels=['s_ss'], axis=1, inplace=True)\n",
    "s_df.drop(labels=['id'], axis=1, inplace=True)\n",
    "s_df.insert(1,'s_ss', column_move1)\n",
    "s_df.head()"
   ]
  },
  {
   "cell_type": "code",
   "execution_count": null,
   "metadata": {
    "colab": {
     "base_uri": "https://localhost:8080/",
     "height": 204
    },
    "colab_type": "code",
    "executionInfo": {
     "elapsed": 2076,
     "status": "ok",
     "timestamp": 1593967004714,
     "user": {
      "displayName": "Chris Frease",
      "photoUrl": "",
      "userId": "02139911760055165379"
     },
     "user_tz": 300
    },
    "id": "vjLWJk2K7siN",
    "outputId": "a2838fd2-f89e-4b5e-b039-6be332bf0b7a"
   },
   "outputs": [
    {
     "data": {
      "text/html": [
       "<div>\n",
       "<style scoped>\n",
       "    .dataframe tbody tr th:only-of-type {\n",
       "        vertical-align: middle;\n",
       "    }\n",
       "\n",
       "    .dataframe tbody tr th {\n",
       "        vertical-align: top;\n",
       "    }\n",
       "\n",
       "    .dataframe thead th {\n",
       "        text-align: right;\n",
       "    }\n",
       "</style>\n",
       "<table border=\"1\" class=\"dataframe\">\n",
       "  <thead>\n",
       "    <tr style=\"text-align: right;\">\n",
       "      <th></th>\n",
       "      <th>start_station</th>\n",
       "      <th>s_ss</th>\n",
       "      <th>end_station</th>\n",
       "      <th>duration</th>\n",
       "      <th>sub_type</th>\n",
       "      <th>id</th>\n",
       "      <th>station</th>\n",
       "    </tr>\n",
       "  </thead>\n",
       "  <tbody>\n",
       "    <tr>\n",
       "      <th>0</th>\n",
       "      <td>23</td>\n",
       "      <td>Mayor Thomas M. Menino - Government Center</td>\n",
       "      <td>23</td>\n",
       "      <td>9</td>\n",
       "      <td>Registered</td>\n",
       "      <td>23</td>\n",
       "      <td>Mayor Thomas M. Menino - Government Center</td>\n",
       "    </tr>\n",
       "    <tr>\n",
       "      <th>1</th>\n",
       "      <td>23</td>\n",
       "      <td>Mayor Thomas M. Menino - Government Center</td>\n",
       "      <td>23</td>\n",
       "      <td>220</td>\n",
       "      <td>Registered</td>\n",
       "      <td>23</td>\n",
       "      <td>Mayor Thomas M. Menino - Government Center</td>\n",
       "    </tr>\n",
       "    <tr>\n",
       "      <th>2</th>\n",
       "      <td>23</td>\n",
       "      <td>Mayor Thomas M. Menino - Government Center</td>\n",
       "      <td>23</td>\n",
       "      <td>56</td>\n",
       "      <td>Registered</td>\n",
       "      <td>23</td>\n",
       "      <td>Mayor Thomas M. Menino - Government Center</td>\n",
       "    </tr>\n",
       "    <tr>\n",
       "      <th>3</th>\n",
       "      <td>23</td>\n",
       "      <td>Mayor Thomas M. Menino - Government Center</td>\n",
       "      <td>23</td>\n",
       "      <td>64</td>\n",
       "      <td>Registered</td>\n",
       "      <td>23</td>\n",
       "      <td>Mayor Thomas M. Menino - Government Center</td>\n",
       "    </tr>\n",
       "    <tr>\n",
       "      <th>4</th>\n",
       "      <td>23</td>\n",
       "      <td>Mayor Thomas M. Menino - Government Center</td>\n",
       "      <td>23</td>\n",
       "      <td>12</td>\n",
       "      <td>Registered</td>\n",
       "      <td>23</td>\n",
       "      <td>Mayor Thomas M. Menino - Government Center</td>\n",
       "    </tr>\n",
       "  </tbody>\n",
       "</table>\n",
       "</div>"
      ],
      "text/plain": [
       "  start_station  ...                                     station\n",
       "0            23  ...  Mayor Thomas M. Menino - Government Center\n",
       "1            23  ...  Mayor Thomas M. Menino - Government Center\n",
       "2            23  ...  Mayor Thomas M. Menino - Government Center\n",
       "3            23  ...  Mayor Thomas M. Menino - Government Center\n",
       "4            23  ...  Mayor Thomas M. Menino - Government Center\n",
       "\n",
       "[5 rows x 7 columns]"
      ]
     },
     "execution_count": 12,
     "metadata": {
      "tags": []
     },
     "output_type": "execute_result"
    }
   ],
   "source": [
    "s_df = pd.merge(left=s_df, right=s_name, left_on='end_station', right_on='id')\n",
    "s_df.head()"
   ]
  },
  {
   "cell_type": "code",
   "execution_count": null,
   "metadata": {
    "colab": {
     "base_uri": "https://localhost:8080/",
     "height": 204
    },
    "colab_type": "code",
    "executionInfo": {
     "elapsed": 700,
     "status": "ok",
     "timestamp": 1593967040316,
     "user": {
      "displayName": "Chris Frease",
      "photoUrl": "",
      "userId": "02139911760055165379"
     },
     "user_tz": 300
    },
    "id": "6CrzF69F7w9R",
    "outputId": "d568dfc3-e3f7-4e57-b007-b812d0ca5e5d"
   },
   "outputs": [
    {
     "data": {
      "text/html": [
       "<div>\n",
       "<style scoped>\n",
       "    .dataframe tbody tr th:only-of-type {\n",
       "        vertical-align: middle;\n",
       "    }\n",
       "\n",
       "    .dataframe tbody tr th {\n",
       "        vertical-align: top;\n",
       "    }\n",
       "\n",
       "    .dataframe thead th {\n",
       "        text-align: right;\n",
       "    }\n",
       "</style>\n",
       "<table border=\"1\" class=\"dataframe\">\n",
       "  <thead>\n",
       "    <tr style=\"text-align: right;\">\n",
       "      <th></th>\n",
       "      <th>start_station</th>\n",
       "      <th>s_ss</th>\n",
       "      <th>end_station</th>\n",
       "      <th>s_es</th>\n",
       "      <th>duration</th>\n",
       "      <th>sub_type</th>\n",
       "    </tr>\n",
       "  </thead>\n",
       "  <tbody>\n",
       "    <tr>\n",
       "      <th>0</th>\n",
       "      <td>23</td>\n",
       "      <td>Mayor Thomas M. Menino - Government Center</td>\n",
       "      <td>23</td>\n",
       "      <td>Mayor Thomas M. Menino - Government Center</td>\n",
       "      <td>9</td>\n",
       "      <td>Registered</td>\n",
       "    </tr>\n",
       "    <tr>\n",
       "      <th>1</th>\n",
       "      <td>23</td>\n",
       "      <td>Mayor Thomas M. Menino - Government Center</td>\n",
       "      <td>23</td>\n",
       "      <td>Mayor Thomas M. Menino - Government Center</td>\n",
       "      <td>220</td>\n",
       "      <td>Registered</td>\n",
       "    </tr>\n",
       "    <tr>\n",
       "      <th>2</th>\n",
       "      <td>23</td>\n",
       "      <td>Mayor Thomas M. Menino - Government Center</td>\n",
       "      <td>23</td>\n",
       "      <td>Mayor Thomas M. Menino - Government Center</td>\n",
       "      <td>56</td>\n",
       "      <td>Registered</td>\n",
       "    </tr>\n",
       "    <tr>\n",
       "      <th>3</th>\n",
       "      <td>23</td>\n",
       "      <td>Mayor Thomas M. Menino - Government Center</td>\n",
       "      <td>23</td>\n",
       "      <td>Mayor Thomas M. Menino - Government Center</td>\n",
       "      <td>64</td>\n",
       "      <td>Registered</td>\n",
       "    </tr>\n",
       "    <tr>\n",
       "      <th>4</th>\n",
       "      <td>23</td>\n",
       "      <td>Mayor Thomas M. Menino - Government Center</td>\n",
       "      <td>23</td>\n",
       "      <td>Mayor Thomas M. Menino - Government Center</td>\n",
       "      <td>12</td>\n",
       "      <td>Registered</td>\n",
       "    </tr>\n",
       "  </tbody>\n",
       "</table>\n",
       "</div>"
      ],
      "text/plain": [
       "  start_station  ...    sub_type\n",
       "0            23  ...  Registered\n",
       "1            23  ...  Registered\n",
       "2            23  ...  Registered\n",
       "3            23  ...  Registered\n",
       "4            23  ...  Registered\n",
       "\n",
       "[5 rows x 6 columns]"
      ]
     },
     "execution_count": 14,
     "metadata": {
      "tags": []
     },
     "output_type": "execute_result"
    }
   ],
   "source": [
    "s_df.rename(columns={'station':'s_es'}, inplace=True)\n",
    "column_move1 = s_df['s_es']\n",
    "s_df.drop(labels=['s_es'], axis=1, inplace=True)\n",
    "s_df.drop(labels=['id'], axis=1, inplace=True)\n",
    "s_df.insert(3,'s_es', column_move1)\n",
    "s_df.head()"
   ]
  },
  {
   "cell_type": "code",
   "execution_count": null,
   "metadata": {
    "colab": {
     "base_uri": "https://localhost:8080/",
     "height": 68
    },
    "colab_type": "code",
    "executionInfo": {
     "elapsed": 355,
     "status": "ok",
     "timestamp": 1593967109071,
     "user": {
      "displayName": "Chris Frease",
      "photoUrl": "",
      "userId": "02139911760055165379"
     },
     "user_tz": 300
    },
    "id": "3HDFn5tU7ybP",
    "outputId": "ebfa53ec-c573-437f-95b6-68184e8457d6"
   },
   "outputs": [
    {
     "data": {
      "text/plain": [
       "Casual        41427\n",
       "Registered    31635\n",
       "Name: sub_type, dtype: int64"
      ]
     },
     "execution_count": 17,
     "metadata": {
      "tags": []
     },
     "output_type": "execute_result"
    }
   ],
   "source": [
    "df = s_df.loc[(s_df['start_station'] == s_df['end_station'])]\n",
    "df['sub_type'].value_counts()"
   ]
  },
  {
   "cell_type": "markdown",
   "metadata": {
    "colab_type": "text",
    "id": "FV_AjBRuYAYq"
   },
   "source": [
    "## 12. Which municipality had the longest average duration?"
   ]
  },
  {
   "cell_type": "code",
   "execution_count": null,
   "metadata": {
    "colab": {
     "base_uri": "https://localhost:8080/",
     "height": 173
    },
    "colab_type": "code",
    "executionInfo": {
     "elapsed": 1765,
     "status": "ok",
     "timestamp": 1593967696722,
     "user": {
      "displayName": "Chris Frease",
      "photoUrl": "",
      "userId": "02139911760055165379"
     },
     "user_tz": 300
    },
    "id": "EdxIEUgy2CRr",
    "outputId": "7d5ecef8-f6da-46ce-f17b-207fdbc7927d"
   },
   "outputs": [
    {
     "data": {
      "text/html": [
       "<div>\n",
       "<style scoped>\n",
       "    .dataframe tbody tr th:only-of-type {\n",
       "        vertical-align: middle;\n",
       "    }\n",
       "\n",
       "    .dataframe tbody tr th {\n",
       "        vertical-align: top;\n",
       "    }\n",
       "\n",
       "    .dataframe thead th {\n",
       "        text-align: right;\n",
       "    }\n",
       "</style>\n",
       "<table border=\"1\" class=\"dataframe\">\n",
       "  <thead>\n",
       "    <tr style=\"text-align: right;\">\n",
       "      <th></th>\n",
       "      <th>municipality</th>\n",
       "      <th>avg</th>\n",
       "    </tr>\n",
       "  </thead>\n",
       "  <tbody>\n",
       "    <tr>\n",
       "      <th>0</th>\n",
       "      <td>Brookline</td>\n",
       "      <td>1020.844836</td>\n",
       "    </tr>\n",
       "    <tr>\n",
       "      <th>1</th>\n",
       "      <td>Boston</td>\n",
       "      <td>929.211651</td>\n",
       "    </tr>\n",
       "    <tr>\n",
       "      <th>2</th>\n",
       "      <td>Somerville</td>\n",
       "      <td>866.462890</td>\n",
       "    </tr>\n",
       "    <tr>\n",
       "      <th>3</th>\n",
       "      <td>Cambridge</td>\n",
       "      <td>842.174272</td>\n",
       "    </tr>\n",
       "  </tbody>\n",
       "</table>\n",
       "</div>"
      ],
      "text/plain": [
       "  municipality          avg\n",
       "0    Brookline  1020.844836\n",
       "1       Boston   929.211651\n",
       "2   Somerville   866.462890\n",
       "3    Cambridge   842.174272"
      ]
     },
     "execution_count": 19,
     "metadata": {
      "tags": []
     },
     "output_type": "execute_result"
    }
   ],
   "source": [
    "query = 'select ss.municipality, avg(duration) as avg \\\n",
    "from trips as t \\\n",
    "join stations as ss \\\n",
    "on t.start_station = ss.id \\\n",
    "join stations as es \\\n",
    "on t.end_station = es.id \\\n",
    "group by ss.municipality \\\n",
    "order by avg desc;'\n",
    "run_query(query)"
   ]
  },
  {
   "cell_type": "code",
   "execution_count": null,
   "metadata": {
    "colab": {
     "base_uri": "https://localhost:8080/",
     "height": 173
    },
    "colab_type": "code",
    "executionInfo": {
     "elapsed": 1788,
     "status": "ok",
     "timestamp": 1593968772397,
     "user": {
      "displayName": "Chris Frease",
      "photoUrl": "",
      "userId": "02139911760055165379"
     },
     "user_tz": 300
    },
    "id": "Lbhwyt328Sty",
    "outputId": "b2f7fe85-062d-4880-f572-8fdff131247e"
   },
   "outputs": [
    {
     "data": {
      "text/html": [
       "<div>\n",
       "<style scoped>\n",
       "    .dataframe tbody tr th:only-of-type {\n",
       "        vertical-align: middle;\n",
       "    }\n",
       "\n",
       "    .dataframe tbody tr th {\n",
       "        vertical-align: top;\n",
       "    }\n",
       "\n",
       "    .dataframe thead th {\n",
       "        text-align: right;\n",
       "    }\n",
       "</style>\n",
       "<table border=\"1\" class=\"dataframe\">\n",
       "  <thead>\n",
       "    <tr style=\"text-align: right;\">\n",
       "      <th></th>\n",
       "      <th>municipality</th>\n",
       "      <th>avg</th>\n",
       "    </tr>\n",
       "  </thead>\n",
       "  <tbody>\n",
       "    <tr>\n",
       "      <th>0</th>\n",
       "      <td>Brookline</td>\n",
       "      <td>1020.844836</td>\n",
       "    </tr>\n",
       "    <tr>\n",
       "      <th>1</th>\n",
       "      <td>Boston</td>\n",
       "      <td>929.211651</td>\n",
       "    </tr>\n",
       "    <tr>\n",
       "      <th>2</th>\n",
       "      <td>Somerville</td>\n",
       "      <td>866.462890</td>\n",
       "    </tr>\n",
       "    <tr>\n",
       "      <th>3</th>\n",
       "      <td>Cambridge</td>\n",
       "      <td>842.174272</td>\n",
       "    </tr>\n",
       "  </tbody>\n",
       "</table>\n",
       "</div>"
      ],
      "text/plain": [
       "  municipality          avg\n",
       "0    Brookline  1020.844836\n",
       "1       Boston   929.211651\n",
       "2   Somerville   866.462890\n",
       "3    Cambridge   842.174272"
      ]
     },
     "execution_count": 58,
     "metadata": {
      "tags": []
     },
     "output_type": "execute_result"
    }
   ],
   "source": [
    "query = 'select ss.municipality, avg(duration) as avg \\\n",
    "from trips as t \\\n",
    "join stations as ss \\\n",
    "on t.start_station = ss.id \\\n",
    "join stations as es \\\n",
    "on t.end_station = es.id \\\n",
    "group by ss.municipality \\\n",
    "order by 2 desc;'\n",
    "run_query(query)"
   ]
  },
  {
   "cell_type": "code",
   "execution_count": null,
   "metadata": {
    "colab": {
     "base_uri": "https://localhost:8080/",
     "height": 173
    },
    "colab_type": "code",
    "executionInfo": {
     "elapsed": 1383,
     "status": "ok",
     "timestamp": 1593969110191,
     "user": {
      "displayName": "Chris Frease",
      "photoUrl": "",
      "userId": "02139911760055165379"
     },
     "user_tz": 300
    },
    "id": "EgLKdtsC828h",
    "outputId": "6a7c92e8-9ddb-434d-8805-c8a3be2e8663"
   },
   "outputs": [
    {
     "data": {
      "text/html": [
       "<div>\n",
       "<style scoped>\n",
       "    .dataframe tbody tr th:only-of-type {\n",
       "        vertical-align: middle;\n",
       "    }\n",
       "\n",
       "    .dataframe tbody tr th {\n",
       "        vertical-align: top;\n",
       "    }\n",
       "\n",
       "    .dataframe thead th {\n",
       "        text-align: right;\n",
       "    }\n",
       "</style>\n",
       "<table border=\"1\" class=\"dataframe\">\n",
       "  <thead>\n",
       "    <tr style=\"text-align: right;\">\n",
       "      <th></th>\n",
       "      <th>municipality</th>\n",
       "      <th>avg</th>\n",
       "    </tr>\n",
       "  </thead>\n",
       "  <tbody>\n",
       "    <tr>\n",
       "      <th>0</th>\n",
       "      <td>Brookline</td>\n",
       "      <td>1020.844836</td>\n",
       "    </tr>\n",
       "    <tr>\n",
       "      <th>1</th>\n",
       "      <td>Boston</td>\n",
       "      <td>929.211749</td>\n",
       "    </tr>\n",
       "    <tr>\n",
       "      <th>2</th>\n",
       "      <td>Somerville</td>\n",
       "      <td>866.462890</td>\n",
       "    </tr>\n",
       "    <tr>\n",
       "      <th>3</th>\n",
       "      <td>Cambridge</td>\n",
       "      <td>842.171816</td>\n",
       "    </tr>\n",
       "  </tbody>\n",
       "</table>\n",
       "</div>"
      ],
      "text/plain": [
       "  municipality          avg\n",
       "0    Brookline  1020.844836\n",
       "1       Boston   929.211749\n",
       "2   Somerville   866.462890\n",
       "3    Cambridge   842.171816"
      ]
     },
     "execution_count": 66,
     "metadata": {
      "tags": []
     },
     "output_type": "execute_result"
    }
   ],
   "source": [
    "query = '''\n",
    "select municipality, avg(duration) avg \n",
    "from trips t, stations s \n",
    "where t.start_station = s.id \n",
    "--where t.end_station = s.id \n",
    "group by municipality \n",
    "order by avg desc;\n",
    "'''\n",
    "run_query(query)"
   ]
  },
  {
   "cell_type": "code",
   "execution_count": null,
   "metadata": {
    "colab": {
     "base_uri": "https://localhost:8080/",
     "height": 173
    },
    "colab_type": "code",
    "executionInfo": {
     "elapsed": 1400,
     "status": "ok",
     "timestamp": 1593969191253,
     "user": {
      "displayName": "Chris Frease",
      "photoUrl": "",
      "userId": "02139911760055165379"
     },
     "user_tz": 300
    },
    "id": "ha9MHOoe77gG",
    "outputId": "cc8afb05-eef6-42a1-86aa-04ee8bd72c0d"
   },
   "outputs": [
    {
     "data": {
      "text/html": [
       "<div>\n",
       "<style scoped>\n",
       "    .dataframe tbody tr th:only-of-type {\n",
       "        vertical-align: middle;\n",
       "    }\n",
       "\n",
       "    .dataframe tbody tr th {\n",
       "        vertical-align: top;\n",
       "    }\n",
       "\n",
       "    .dataframe thead th {\n",
       "        text-align: right;\n",
       "    }\n",
       "</style>\n",
       "<table border=\"1\" class=\"dataframe\">\n",
       "  <thead>\n",
       "    <tr style=\"text-align: right;\">\n",
       "      <th></th>\n",
       "      <th>municipality</th>\n",
       "      <th>avg</th>\n",
       "    </tr>\n",
       "  </thead>\n",
       "  <tbody>\n",
       "    <tr>\n",
       "      <th>0</th>\n",
       "      <td>Brookline</td>\n",
       "      <td>1020.844836</td>\n",
       "    </tr>\n",
       "    <tr>\n",
       "      <th>1</th>\n",
       "      <td>Boston</td>\n",
       "      <td>929.211749</td>\n",
       "    </tr>\n",
       "    <tr>\n",
       "      <th>2</th>\n",
       "      <td>Somerville</td>\n",
       "      <td>866.462890</td>\n",
       "    </tr>\n",
       "    <tr>\n",
       "      <th>3</th>\n",
       "      <td>Cambridge</td>\n",
       "      <td>842.171816</td>\n",
       "    </tr>\n",
       "  </tbody>\n",
       "</table>\n",
       "</div>"
      ],
      "text/plain": [
       "  municipality          avg\n",
       "0    Brookline  1020.844836\n",
       "1       Boston   929.211749\n",
       "2   Somerville   866.462890\n",
       "3    Cambridge   842.171816"
      ]
     },
     "execution_count": 69,
     "metadata": {
      "tags": []
     },
     "output_type": "execute_result"
    }
   ],
   "source": [
    "query = '''\n",
    "select municipality, avg(duration) avg\n",
    "from trips t, stations s\n",
    "where t.start_station = s.id\n",
    "--where t.end_station = s.id\n",
    "group by municipality\n",
    "order by avg desc;\n",
    "'''\n",
    "run_query(query)"
   ]
  },
  {
   "cell_type": "code",
   "execution_count": null,
   "metadata": {
    "colab": {
     "base_uri": "https://localhost:8080/",
     "height": 204
    },
    "colab_type": "code",
    "executionInfo": {
     "elapsed": 703,
     "status": "ok",
     "timestamp": 1593893472427,
     "user": {
      "displayName": "Chris Frease",
      "photoUrl": "",
      "userId": "02139911760055165379"
     },
     "user_tz": 300
    },
    "id": "3oGgHf3eYmsu",
    "outputId": "262c92ab-aa4c-4686-8c9d-e320d6e6a365"
   },
   "outputs": [
    {
     "data": {
      "text/html": [
       "<div>\n",
       "<style scoped>\n",
       "    .dataframe tbody tr th:only-of-type {\n",
       "        vertical-align: middle;\n",
       "    }\n",
       "\n",
       "    .dataframe tbody tr th {\n",
       "        vertical-align: top;\n",
       "    }\n",
       "\n",
       "    .dataframe thead th {\n",
       "        text-align: right;\n",
       "    }\n",
       "</style>\n",
       "<table border=\"1\" class=\"dataframe\">\n",
       "  <thead>\n",
       "    <tr style=\"text-align: right;\">\n",
       "      <th></th>\n",
       "      <th>start_station</th>\n",
       "      <th>end_station</th>\n",
       "      <th>duration</th>\n",
       "      <th>id</th>\n",
       "      <th>municipality</th>\n",
       "    </tr>\n",
       "  </thead>\n",
       "  <tbody>\n",
       "    <tr>\n",
       "      <th>0</th>\n",
       "      <td>23</td>\n",
       "      <td>23</td>\n",
       "      <td>9</td>\n",
       "      <td>23</td>\n",
       "      <td>Boston</td>\n",
       "    </tr>\n",
       "    <tr>\n",
       "      <th>1</th>\n",
       "      <td>23</td>\n",
       "      <td>23</td>\n",
       "      <td>220</td>\n",
       "      <td>23</td>\n",
       "      <td>Boston</td>\n",
       "    </tr>\n",
       "    <tr>\n",
       "      <th>2</th>\n",
       "      <td>23</td>\n",
       "      <td>23</td>\n",
       "      <td>56</td>\n",
       "      <td>23</td>\n",
       "      <td>Boston</td>\n",
       "    </tr>\n",
       "    <tr>\n",
       "      <th>3</th>\n",
       "      <td>23</td>\n",
       "      <td>23</td>\n",
       "      <td>64</td>\n",
       "      <td>23</td>\n",
       "      <td>Boston</td>\n",
       "    </tr>\n",
       "    <tr>\n",
       "      <th>4</th>\n",
       "      <td>23</td>\n",
       "      <td>23</td>\n",
       "      <td>12</td>\n",
       "      <td>23</td>\n",
       "      <td>Boston</td>\n",
       "    </tr>\n",
       "  </tbody>\n",
       "</table>\n",
       "</div>"
      ],
      "text/plain": [
       "  start_station end_station  duration  id municipality\n",
       "0            23          23         9  23       Boston\n",
       "1            23          23       220  23       Boston\n",
       "2            23          23        56  23       Boston\n",
       "3            23          23        64  23       Boston\n",
       "4            23          23        12  23       Boston"
      ]
     },
     "execution_count": 124,
     "metadata": {
      "tags": []
     },
     "output_type": "execute_result"
    }
   ],
   "source": [
    "round_trip = trips_df[['start_station','end_station', 'duration']]\n",
    "m_name = stations_df[['id', 'municipality']]\n",
    "m_df = pd.merge(left=round_trip, right=m_name, left_on='start_station', right_on='id')\n",
    "m_df.head()"
   ]
  },
  {
   "cell_type": "code",
   "execution_count": null,
   "metadata": {
    "colab": {
     "base_uri": "https://localhost:8080/",
     "height": 204
    },
    "colab_type": "code",
    "executionInfo": {
     "elapsed": 540,
     "status": "ok",
     "timestamp": 1593893473527,
     "user": {
      "displayName": "Chris Frease",
      "photoUrl": "",
      "userId": "02139911760055165379"
     },
     "user_tz": 300
    },
    "id": "6NIcuBPlY92O",
    "outputId": "d7a8d699-5e33-447c-d02e-4206ccc24ab5"
   },
   "outputs": [
    {
     "data": {
      "text/html": [
       "<div>\n",
       "<style scoped>\n",
       "    .dataframe tbody tr th:only-of-type {\n",
       "        vertical-align: middle;\n",
       "    }\n",
       "\n",
       "    .dataframe tbody tr th {\n",
       "        vertical-align: top;\n",
       "    }\n",
       "\n",
       "    .dataframe thead th {\n",
       "        text-align: right;\n",
       "    }\n",
       "</style>\n",
       "<table border=\"1\" class=\"dataframe\">\n",
       "  <thead>\n",
       "    <tr style=\"text-align: right;\">\n",
       "      <th></th>\n",
       "      <th>start_station</th>\n",
       "      <th>m_ss</th>\n",
       "      <th>end_station</th>\n",
       "      <th>duration</th>\n",
       "    </tr>\n",
       "  </thead>\n",
       "  <tbody>\n",
       "    <tr>\n",
       "      <th>0</th>\n",
       "      <td>23</td>\n",
       "      <td>Boston</td>\n",
       "      <td>23</td>\n",
       "      <td>9</td>\n",
       "    </tr>\n",
       "    <tr>\n",
       "      <th>1</th>\n",
       "      <td>23</td>\n",
       "      <td>Boston</td>\n",
       "      <td>23</td>\n",
       "      <td>220</td>\n",
       "    </tr>\n",
       "    <tr>\n",
       "      <th>2</th>\n",
       "      <td>23</td>\n",
       "      <td>Boston</td>\n",
       "      <td>23</td>\n",
       "      <td>56</td>\n",
       "    </tr>\n",
       "    <tr>\n",
       "      <th>3</th>\n",
       "      <td>23</td>\n",
       "      <td>Boston</td>\n",
       "      <td>23</td>\n",
       "      <td>64</td>\n",
       "    </tr>\n",
       "    <tr>\n",
       "      <th>4</th>\n",
       "      <td>23</td>\n",
       "      <td>Boston</td>\n",
       "      <td>23</td>\n",
       "      <td>12</td>\n",
       "    </tr>\n",
       "  </tbody>\n",
       "</table>\n",
       "</div>"
      ],
      "text/plain": [
       "  start_station    m_ss end_station  duration\n",
       "0            23  Boston          23         9\n",
       "1            23  Boston          23       220\n",
       "2            23  Boston          23        56\n",
       "3            23  Boston          23        64\n",
       "4            23  Boston          23        12"
      ]
     },
     "execution_count": 125,
     "metadata": {
      "tags": []
     },
     "output_type": "execute_result"
    }
   ],
   "source": [
    "m_df.rename(columns={'municipality':'m_ss'}, inplace=True)\n",
    "column_move1 = m_df['m_ss']\n",
    "m_df.drop(labels=['m_ss'], axis=1, inplace=True)\n",
    "m_df.drop(labels=['id'], axis=1, inplace=True)\n",
    "m_df.insert(1,'m_ss', column_move1)\n",
    "m_df.head()"
   ]
  },
  {
   "cell_type": "code",
   "execution_count": null,
   "metadata": {
    "colab": {
     "base_uri": "https://localhost:8080/",
     "height": 204
    },
    "colab_type": "code",
    "executionInfo": {
     "elapsed": 747,
     "status": "ok",
     "timestamp": 1593893474894,
     "user": {
      "displayName": "Chris Frease",
      "photoUrl": "",
      "userId": "02139911760055165379"
     },
     "user_tz": 300
    },
    "id": "F_ehruOMZEOg",
    "outputId": "1abb0761-bce8-4995-f210-eb7389c0c87f"
   },
   "outputs": [
    {
     "data": {
      "text/html": [
       "<div>\n",
       "<style scoped>\n",
       "    .dataframe tbody tr th:only-of-type {\n",
       "        vertical-align: middle;\n",
       "    }\n",
       "\n",
       "    .dataframe tbody tr th {\n",
       "        vertical-align: top;\n",
       "    }\n",
       "\n",
       "    .dataframe thead th {\n",
       "        text-align: right;\n",
       "    }\n",
       "</style>\n",
       "<table border=\"1\" class=\"dataframe\">\n",
       "  <thead>\n",
       "    <tr style=\"text-align: right;\">\n",
       "      <th></th>\n",
       "      <th>start_station</th>\n",
       "      <th>m_ss</th>\n",
       "      <th>end_station</th>\n",
       "      <th>duration</th>\n",
       "      <th>id</th>\n",
       "      <th>municipality</th>\n",
       "    </tr>\n",
       "  </thead>\n",
       "  <tbody>\n",
       "    <tr>\n",
       "      <th>0</th>\n",
       "      <td>23</td>\n",
       "      <td>Boston</td>\n",
       "      <td>23</td>\n",
       "      <td>9</td>\n",
       "      <td>23</td>\n",
       "      <td>Boston</td>\n",
       "    </tr>\n",
       "    <tr>\n",
       "      <th>1</th>\n",
       "      <td>23</td>\n",
       "      <td>Boston</td>\n",
       "      <td>23</td>\n",
       "      <td>220</td>\n",
       "      <td>23</td>\n",
       "      <td>Boston</td>\n",
       "    </tr>\n",
       "    <tr>\n",
       "      <th>2</th>\n",
       "      <td>23</td>\n",
       "      <td>Boston</td>\n",
       "      <td>23</td>\n",
       "      <td>56</td>\n",
       "      <td>23</td>\n",
       "      <td>Boston</td>\n",
       "    </tr>\n",
       "    <tr>\n",
       "      <th>3</th>\n",
       "      <td>23</td>\n",
       "      <td>Boston</td>\n",
       "      <td>23</td>\n",
       "      <td>64</td>\n",
       "      <td>23</td>\n",
       "      <td>Boston</td>\n",
       "    </tr>\n",
       "    <tr>\n",
       "      <th>4</th>\n",
       "      <td>23</td>\n",
       "      <td>Boston</td>\n",
       "      <td>23</td>\n",
       "      <td>12</td>\n",
       "      <td>23</td>\n",
       "      <td>Boston</td>\n",
       "    </tr>\n",
       "  </tbody>\n",
       "</table>\n",
       "</div>"
      ],
      "text/plain": [
       "  start_station    m_ss end_station  duration  id municipality\n",
       "0            23  Boston          23         9  23       Boston\n",
       "1            23  Boston          23       220  23       Boston\n",
       "2            23  Boston          23        56  23       Boston\n",
       "3            23  Boston          23        64  23       Boston\n",
       "4            23  Boston          23        12  23       Boston"
      ]
     },
     "execution_count": 126,
     "metadata": {
      "tags": []
     },
     "output_type": "execute_result"
    }
   ],
   "source": [
    "m_df = pd.merge(left=m_df, right=m_name, left_on='end_station', right_on='id')\n",
    "m_df.head()"
   ]
  },
  {
   "cell_type": "code",
   "execution_count": null,
   "metadata": {
    "colab": {
     "base_uri": "https://localhost:8080/",
     "height": 204
    },
    "colab_type": "code",
    "executionInfo": {
     "elapsed": 608,
     "status": "ok",
     "timestamp": 1593893477317,
     "user": {
      "displayName": "Chris Frease",
      "photoUrl": "",
      "userId": "02139911760055165379"
     },
     "user_tz": 300
    },
    "id": "SNU0v0TUZPcA",
    "outputId": "39744ef7-f1b8-4fd0-8cf2-e5b19af87a9f"
   },
   "outputs": [
    {
     "data": {
      "text/html": [
       "<div>\n",
       "<style scoped>\n",
       "    .dataframe tbody tr th:only-of-type {\n",
       "        vertical-align: middle;\n",
       "    }\n",
       "\n",
       "    .dataframe tbody tr th {\n",
       "        vertical-align: top;\n",
       "    }\n",
       "\n",
       "    .dataframe thead th {\n",
       "        text-align: right;\n",
       "    }\n",
       "</style>\n",
       "<table border=\"1\" class=\"dataframe\">\n",
       "  <thead>\n",
       "    <tr style=\"text-align: right;\">\n",
       "      <th></th>\n",
       "      <th>start_station</th>\n",
       "      <th>m_ss</th>\n",
       "      <th>end_station</th>\n",
       "      <th>m_es</th>\n",
       "      <th>duration</th>\n",
       "    </tr>\n",
       "  </thead>\n",
       "  <tbody>\n",
       "    <tr>\n",
       "      <th>0</th>\n",
       "      <td>23</td>\n",
       "      <td>Boston</td>\n",
       "      <td>23</td>\n",
       "      <td>Boston</td>\n",
       "      <td>9</td>\n",
       "    </tr>\n",
       "    <tr>\n",
       "      <th>1</th>\n",
       "      <td>23</td>\n",
       "      <td>Boston</td>\n",
       "      <td>23</td>\n",
       "      <td>Boston</td>\n",
       "      <td>220</td>\n",
       "    </tr>\n",
       "    <tr>\n",
       "      <th>2</th>\n",
       "      <td>23</td>\n",
       "      <td>Boston</td>\n",
       "      <td>23</td>\n",
       "      <td>Boston</td>\n",
       "      <td>56</td>\n",
       "    </tr>\n",
       "    <tr>\n",
       "      <th>3</th>\n",
       "      <td>23</td>\n",
       "      <td>Boston</td>\n",
       "      <td>23</td>\n",
       "      <td>Boston</td>\n",
       "      <td>64</td>\n",
       "    </tr>\n",
       "    <tr>\n",
       "      <th>4</th>\n",
       "      <td>23</td>\n",
       "      <td>Boston</td>\n",
       "      <td>23</td>\n",
       "      <td>Boston</td>\n",
       "      <td>12</td>\n",
       "    </tr>\n",
       "  </tbody>\n",
       "</table>\n",
       "</div>"
      ],
      "text/plain": [
       "  start_station    m_ss end_station    m_es  duration\n",
       "0            23  Boston          23  Boston         9\n",
       "1            23  Boston          23  Boston       220\n",
       "2            23  Boston          23  Boston        56\n",
       "3            23  Boston          23  Boston        64\n",
       "4            23  Boston          23  Boston        12"
      ]
     },
     "execution_count": 127,
     "metadata": {
      "tags": []
     },
     "output_type": "execute_result"
    }
   ],
   "source": [
    "m_df.rename(columns={'municipality':'m_es'}, inplace=True)\n",
    "column_move1 = m_df['m_es']\n",
    "m_df.drop(labels=['m_es'], axis=1, inplace=True)\n",
    "m_df.drop(labels=['id'], axis=1, inplace=True)\n",
    "m_df.insert(3,'m_es', column_move1)\n",
    "m_df.head()"
   ]
  },
  {
   "cell_type": "code",
   "execution_count": null,
   "metadata": {
    "colab": {},
    "colab_type": "code",
    "id": "hB7jPC3LZkXi"
   },
   "outputs": [],
   "source": [
    "ss_df = m_df.groupby(['m_ss'])['duration'].mean().sort_values(ascending=False)\n",
    "ss_df=pd.DataFrame(ss_df)\n",
    "ss_df.reset_index(inplace=True)\n",
    "ss_df.rename(columns={'m_ss':'station'}, inplace=True)"
   ]
  },
  {
   "cell_type": "code",
   "execution_count": null,
   "metadata": {
    "colab": {
     "base_uri": "https://localhost:8080/",
     "height": 173
    },
    "colab_type": "code",
    "executionInfo": {
     "elapsed": 275,
     "status": "ok",
     "timestamp": 1593894443815,
     "user": {
      "displayName": "Chris Frease",
      "photoUrl": "",
      "userId": "02139911760055165379"
     },
     "user_tz": 300
    },
    "id": "ijSAtpW7e8eO",
    "outputId": "fe8e3d84-7497-4acd-bc2f-71f88b429768"
   },
   "outputs": [
    {
     "data": {
      "text/html": [
       "<div>\n",
       "<style scoped>\n",
       "    .dataframe tbody tr th:only-of-type {\n",
       "        vertical-align: middle;\n",
       "    }\n",
       "\n",
       "    .dataframe tbody tr th {\n",
       "        vertical-align: top;\n",
       "    }\n",
       "\n",
       "    .dataframe thead th {\n",
       "        text-align: right;\n",
       "    }\n",
       "</style>\n",
       "<table border=\"1\" class=\"dataframe\">\n",
       "  <thead>\n",
       "    <tr style=\"text-align: right;\">\n",
       "      <th></th>\n",
       "      <th>station</th>\n",
       "      <th>duration</th>\n",
       "    </tr>\n",
       "  </thead>\n",
       "  <tbody>\n",
       "    <tr>\n",
       "      <th>0</th>\n",
       "      <td>Brookline</td>\n",
       "      <td>1020.844836</td>\n",
       "    </tr>\n",
       "    <tr>\n",
       "      <th>1</th>\n",
       "      <td>Boston</td>\n",
       "      <td>929.211651</td>\n",
       "    </tr>\n",
       "    <tr>\n",
       "      <th>2</th>\n",
       "      <td>Somerville</td>\n",
       "      <td>866.462890</td>\n",
       "    </tr>\n",
       "    <tr>\n",
       "      <th>3</th>\n",
       "      <td>Cambridge</td>\n",
       "      <td>842.174272</td>\n",
       "    </tr>\n",
       "  </tbody>\n",
       "</table>\n",
       "</div>"
      ],
      "text/plain": [
       "      station     duration\n",
       "0   Brookline  1020.844836\n",
       "1      Boston   929.211651\n",
       "2  Somerville   866.462890\n",
       "3   Cambridge   842.174272"
      ]
     },
     "execution_count": 176,
     "metadata": {
      "tags": []
     },
     "output_type": "execute_result"
    }
   ],
   "source": [
    "ss_df.head()"
   ]
  },
  {
   "cell_type": "code",
   "execution_count": null,
   "metadata": {
    "colab": {},
    "colab_type": "code",
    "id": "NVce3qlmaCMf"
   },
   "outputs": [],
   "source": [
    "es_df = m_df.groupby(['m_es'])['duration'].mean().sort_values(ascending=False)\n",
    "es_df=pd.DataFrame(es_df)\n",
    "es_df.reset_index(inplace=True)\n",
    "es_df.rename(columns={'m_es':'station'}, inplace=True)"
   ]
  },
  {
   "cell_type": "code",
   "execution_count": null,
   "metadata": {
    "colab": {
     "base_uri": "https://localhost:8080/",
     "height": 173
    },
    "colab_type": "code",
    "executionInfo": {
     "elapsed": 292,
     "status": "ok",
     "timestamp": 1593894446009,
     "user": {
      "displayName": "Chris Frease",
      "photoUrl": "",
      "userId": "02139911760055165379"
     },
     "user_tz": 300
    },
    "id": "-Cik40fEfRtm",
    "outputId": "6acef8e8-2fbb-48c7-d555-236c91ccec4f"
   },
   "outputs": [
    {
     "data": {
      "text/html": [
       "<div>\n",
       "<style scoped>\n",
       "    .dataframe tbody tr th:only-of-type {\n",
       "        vertical-align: middle;\n",
       "    }\n",
       "\n",
       "    .dataframe tbody tr th {\n",
       "        vertical-align: top;\n",
       "    }\n",
       "\n",
       "    .dataframe thead th {\n",
       "        text-align: right;\n",
       "    }\n",
       "</style>\n",
       "<table border=\"1\" class=\"dataframe\">\n",
       "  <thead>\n",
       "    <tr style=\"text-align: right;\">\n",
       "      <th></th>\n",
       "      <th>station</th>\n",
       "      <th>duration</th>\n",
       "    </tr>\n",
       "  </thead>\n",
       "  <tbody>\n",
       "    <tr>\n",
       "      <th>0</th>\n",
       "      <td>Brookline</td>\n",
       "      <td>1069.855975</td>\n",
       "    </tr>\n",
       "    <tr>\n",
       "      <th>1</th>\n",
       "      <td>Boston</td>\n",
       "      <td>929.435450</td>\n",
       "    </tr>\n",
       "    <tr>\n",
       "      <th>2</th>\n",
       "      <td>Somerville</td>\n",
       "      <td>873.632675</td>\n",
       "    </tr>\n",
       "    <tr>\n",
       "      <th>3</th>\n",
       "      <td>Cambridge</td>\n",
       "      <td>837.164237</td>\n",
       "    </tr>\n",
       "  </tbody>\n",
       "</table>\n",
       "</div>"
      ],
      "text/plain": [
       "      station     duration\n",
       "0   Brookline  1069.855975\n",
       "1      Boston   929.435450\n",
       "2  Somerville   873.632675\n",
       "3   Cambridge   837.164237"
      ]
     },
     "execution_count": 178,
     "metadata": {
      "tags": []
     },
     "output_type": "execute_result"
    }
   ],
   "source": [
    "es_df.head()"
   ]
  },
  {
   "cell_type": "code",
   "execution_count": null,
   "metadata": {
    "colab": {
     "base_uri": "https://localhost:8080/",
     "height": 173
    },
    "colab_type": "code",
    "executionInfo": {
     "elapsed": 294,
     "status": "ok",
     "timestamp": 1593894452909,
     "user": {
      "displayName": "Chris Frease",
      "photoUrl": "",
      "userId": "02139911760055165379"
     },
     "user_tz": 300
    },
    "id": "aimwPf3xbXeP",
    "outputId": "faf89056-c9f6-4b2b-d59c-137e2f7908f7"
   },
   "outputs": [
    {
     "data": {
      "text/html": [
       "<div>\n",
       "<style scoped>\n",
       "    .dataframe tbody tr th:only-of-type {\n",
       "        vertical-align: middle;\n",
       "    }\n",
       "\n",
       "    .dataframe tbody tr th {\n",
       "        vertical-align: top;\n",
       "    }\n",
       "\n",
       "    .dataframe thead th {\n",
       "        text-align: right;\n",
       "    }\n",
       "</style>\n",
       "<table border=\"1\" class=\"dataframe\">\n",
       "  <thead>\n",
       "    <tr style=\"text-align: right;\">\n",
       "      <th></th>\n",
       "      <th>station</th>\n",
       "      <th>duration_x</th>\n",
       "      <th>duration_y</th>\n",
       "    </tr>\n",
       "  </thead>\n",
       "  <tbody>\n",
       "    <tr>\n",
       "      <th>0</th>\n",
       "      <td>Brookline</td>\n",
       "      <td>1020.844836</td>\n",
       "      <td>1069.855975</td>\n",
       "    </tr>\n",
       "    <tr>\n",
       "      <th>1</th>\n",
       "      <td>Boston</td>\n",
       "      <td>929.211651</td>\n",
       "      <td>929.435450</td>\n",
       "    </tr>\n",
       "    <tr>\n",
       "      <th>2</th>\n",
       "      <td>Somerville</td>\n",
       "      <td>866.462890</td>\n",
       "      <td>873.632675</td>\n",
       "    </tr>\n",
       "    <tr>\n",
       "      <th>3</th>\n",
       "      <td>Cambridge</td>\n",
       "      <td>842.174272</td>\n",
       "      <td>837.164237</td>\n",
       "    </tr>\n",
       "  </tbody>\n",
       "</table>\n",
       "</div>"
      ],
      "text/plain": [
       "      station   duration_x   duration_y\n",
       "0   Brookline  1020.844836  1069.855975\n",
       "1      Boston   929.211651   929.435450\n",
       "2  Somerville   866.462890   873.632675\n",
       "3   Cambridge   842.174272   837.164237"
      ]
     },
     "execution_count": 180,
     "metadata": {
      "tags": []
     },
     "output_type": "execute_result"
    }
   ],
   "source": [
    "result = pd.merge(left=ss_df, right=es_df, left_on='station', right_on='station')\n",
    "result.head()"
   ]
  },
  {
   "cell_type": "code",
   "execution_count": null,
   "metadata": {
    "colab": {
     "base_uri": "https://localhost:8080/",
     "height": 173
    },
    "colab_type": "code",
    "executionInfo": {
     "elapsed": 290,
     "status": "ok",
     "timestamp": 1593894467954,
     "user": {
      "displayName": "Chris Frease",
      "photoUrl": "",
      "userId": "02139911760055165379"
     },
     "user_tz": 300
    },
    "id": "FefnnTlUg03O",
    "outputId": "b26b5952-a883-45c3-b77f-c176ae73f1ba"
   },
   "outputs": [
    {
     "data": {
      "text/html": [
       "<div>\n",
       "<style scoped>\n",
       "    .dataframe tbody tr th:only-of-type {\n",
       "        vertical-align: middle;\n",
       "    }\n",
       "\n",
       "    .dataframe tbody tr th {\n",
       "        vertical-align: top;\n",
       "    }\n",
       "\n",
       "    .dataframe thead th {\n",
       "        text-align: right;\n",
       "    }\n",
       "</style>\n",
       "<table border=\"1\" class=\"dataframe\">\n",
       "  <thead>\n",
       "    <tr style=\"text-align: right;\">\n",
       "      <th></th>\n",
       "      <th>station</th>\n",
       "      <th>m_ss</th>\n",
       "      <th>m_es</th>\n",
       "    </tr>\n",
       "  </thead>\n",
       "  <tbody>\n",
       "    <tr>\n",
       "      <th>0</th>\n",
       "      <td>Brookline</td>\n",
       "      <td>1020.844836</td>\n",
       "      <td>1069.855975</td>\n",
       "    </tr>\n",
       "    <tr>\n",
       "      <th>1</th>\n",
       "      <td>Boston</td>\n",
       "      <td>929.211651</td>\n",
       "      <td>929.435450</td>\n",
       "    </tr>\n",
       "    <tr>\n",
       "      <th>2</th>\n",
       "      <td>Somerville</td>\n",
       "      <td>866.462890</td>\n",
       "      <td>873.632675</td>\n",
       "    </tr>\n",
       "    <tr>\n",
       "      <th>3</th>\n",
       "      <td>Cambridge</td>\n",
       "      <td>842.174272</td>\n",
       "      <td>837.164237</td>\n",
       "    </tr>\n",
       "  </tbody>\n",
       "</table>\n",
       "</div>"
      ],
      "text/plain": [
       "      station         m_ss         m_es\n",
       "0   Brookline  1020.844836  1069.855975\n",
       "1      Boston   929.211651   929.435450\n",
       "2  Somerville   866.462890   873.632675\n",
       "3   Cambridge   842.174272   837.164237"
      ]
     },
     "execution_count": 181,
     "metadata": {
      "tags": []
     },
     "output_type": "execute_result"
    }
   ],
   "source": [
    "result.rename(columns={'duration_x':'m_ss', 'duration_y':'m_es'}, inplace=True)\n",
    "result.head()"
   ]
  }
 ],
 "metadata": {
  "colab": {
   "authorship_tag": "ABX9TyPhg0fqF+hKTjq9T0dk2wCk",
   "collapsed_sections": [],
   "name": "sql_practice_bikes.ipynb",
   "provenance": [],
   "toc_visible": true
  },
  "kernelspec": {
   "display_name": "Python 3",
   "language": "python",
   "name": "python3"
  },
  "language_info": {
   "codemirror_mode": {
    "name": "ipython",
    "version": 3
   },
   "file_extension": ".py",
   "mimetype": "text/x-python",
   "name": "python",
   "nbconvert_exporter": "python",
   "pygments_lexer": "ipython3",
   "version": "3.7.6"
  }
 },
 "nbformat": 4,
 "nbformat_minor": 1
}
